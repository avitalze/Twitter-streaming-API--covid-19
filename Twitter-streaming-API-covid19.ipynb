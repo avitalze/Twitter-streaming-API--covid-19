{
 "cells": [
  {
   "cell_type": "code",
   "execution_count": null,
   "metadata": {
    "id": "o5fhwMrz4-sv"
   },
   "outputs": [],
   "source": [
    "\n",
    "import pandas as pd\n",
    "import numpy as np\n",
    "import pickle\n",
    "from nltk.tokenize import word_tokenize\n",
    "from nltk.corpus import stopwords\n",
    "import seaborn as sns\n",
    "import string\n",
    "import re\n",
    "import os\n",
    "import operator\n",
    "import json\n",
    "from collections import Counter\n",
    "from collections import defaultdict\n",
    "import matplotlib.pyplot as plt\n",
    "import matplotlib.pyplot as plt\n",
    "import seaborn as sns\n",
    "import numpy\n",
    "import keras\n",
    "from keras.datasets import imdb\n",
    "from keras.models import Sequential\n",
    "from keras.layers import Dense\n",
    "from keras.layers import LSTM\n",
    "from keras.layers import Dropout\n",
    "\n",
    "from keras.layers.embeddings import Embedding\n",
    "from keras.preprocessing import sequence\n",
    "\n",
    "\n",
    "from sklearn.model_selection import train_test_split\n",
    "from sklearn.feature_extraction.text import TfidfVectorizer\n",
    "from sklearn.feature_extraction.text import CountVectorizer\n",
    "from sklearn.pipeline import Pipeline\n",
    "from sklearn.model_selection import GridSearchCV\n",
    "from sklearn import metrics\n",
    "from sklearn.linear_model import SGDClassifier\n",
    "from sklearn.model_selection import train_test_split\n",
    "\n",
    "from keras.preprocessing.text import Tokenizer\n",
    "from keras.preprocessing.sequence import pad_sequences\n",
    "from keras.layers.wrappers import Bidirectional"
   ]
  },
  {
   "cell_type": "code",
   "execution_count": null,
   "metadata": {
    "colab": {
     "base_uri": "https://localhost:8080/"
    },
    "id": "A4R2v7jgv5QL",
    "outputId": "a8f13876-ba77-455a-8b3c-c694b1b44616"
   },
   "outputs": [
    {
     "name": "stdout",
     "output_type": "stream",
     "text": [
      "Drive already mounted at /content/drive; to attempt to forcibly remount, call drive.mount(\"/content/drive\", force_remount=True).\n"
     ]
    }
   ],
   "source": [
    "from google.colab import drive\n",
    "drive.mount('/content/drive')"
   ]
  },
  {
   "cell_type": "markdown",
   "metadata": {
    "id": "8Ap5B5IBD-I4"
   },
   "source": [
    "# Q1 "
   ]
  },
  {
   "cell_type": "markdown",
   "metadata": {
    "id": "TBEbkAgEEOcb"
   },
   "source": [
    "## Download the dataset and read to df"
   ]
  },
  {
   "cell_type": "markdown",
   "metadata": {
    "id": "emMcXodu4ob4"
   },
   "source": [
    "Columns explanation for dataset : \n",
    "* target: the polarity of the tweet (0 = negative, 2 = neutral, 4 = positive)\n",
    "* ids: The id of the tweet ( 2087)\n",
    "* date: the date of the tweet (Sat May 16 23:58:44 UTC 2009)\n",
    "* flag: The query (lyx). If there is no query, then this value is NO_QUERY.\n",
    "* user: the user that tweeted (robotickilldozr)\n",
    "* text: the text of the tweet (Lyx is cool)"
   ]
  },
  {
   "cell_type": "code",
   "execution_count": null,
   "metadata": {
    "id": "U5E1PYUh0DQB"
   },
   "outputs": [],
   "source": [
    "data_path = \"/content/drive/My Drive/training.1600000.processed.noemoticon.csv\""
   ]
  },
  {
   "cell_type": "code",
   "execution_count": null,
   "metadata": {
    "colab": {
     "base_uri": "https://localhost:8080/",
     "height": 204
    },
    "id": "gU0QCYZQ5KaT",
    "outputId": "9408f908-3a02-4bf3-d2a5-d0b0d0078a21"
   },
   "outputs": [
    {
     "data": {
      "text/html": [
       "<div>\n",
       "<style scoped>\n",
       "    .dataframe tbody tr th:only-of-type {\n",
       "        vertical-align: middle;\n",
       "    }\n",
       "\n",
       "    .dataframe tbody tr th {\n",
       "        vertical-align: top;\n",
       "    }\n",
       "\n",
       "    .dataframe thead th {\n",
       "        text-align: right;\n",
       "    }\n",
       "</style>\n",
       "<table border=\"1\" class=\"dataframe\">\n",
       "  <thead>\n",
       "    <tr style=\"text-align: right;\">\n",
       "      <th></th>\n",
       "      <th>target</th>\n",
       "      <th>id</th>\n",
       "      <th>date</th>\n",
       "      <th>flag</th>\n",
       "      <th>user</th>\n",
       "      <th>text</th>\n",
       "    </tr>\n",
       "  </thead>\n",
       "  <tbody>\n",
       "    <tr>\n",
       "      <th>0</th>\n",
       "      <td>0</td>\n",
       "      <td>1467810369</td>\n",
       "      <td>Mon Apr 06 22:19:45 PDT 2009</td>\n",
       "      <td>NO_QUERY</td>\n",
       "      <td>_TheSpecialOne_</td>\n",
       "      <td>@switchfoot http://twitpic.com/2y1zl - Awww, t...</td>\n",
       "    </tr>\n",
       "    <tr>\n",
       "      <th>1</th>\n",
       "      <td>0</td>\n",
       "      <td>1467810672</td>\n",
       "      <td>Mon Apr 06 22:19:49 PDT 2009</td>\n",
       "      <td>NO_QUERY</td>\n",
       "      <td>scotthamilton</td>\n",
       "      <td>is upset that he can't update his Facebook by ...</td>\n",
       "    </tr>\n",
       "    <tr>\n",
       "      <th>2</th>\n",
       "      <td>0</td>\n",
       "      <td>1467810917</td>\n",
       "      <td>Mon Apr 06 22:19:53 PDT 2009</td>\n",
       "      <td>NO_QUERY</td>\n",
       "      <td>mattycus</td>\n",
       "      <td>@Kenichan I dived many times for the ball. Man...</td>\n",
       "    </tr>\n",
       "    <tr>\n",
       "      <th>3</th>\n",
       "      <td>0</td>\n",
       "      <td>1467811184</td>\n",
       "      <td>Mon Apr 06 22:19:57 PDT 2009</td>\n",
       "      <td>NO_QUERY</td>\n",
       "      <td>ElleCTF</td>\n",
       "      <td>my whole body feels itchy and like its on fire</td>\n",
       "    </tr>\n",
       "    <tr>\n",
       "      <th>4</th>\n",
       "      <td>0</td>\n",
       "      <td>1467811193</td>\n",
       "      <td>Mon Apr 06 22:19:57 PDT 2009</td>\n",
       "      <td>NO_QUERY</td>\n",
       "      <td>Karoli</td>\n",
       "      <td>@nationwideclass no, it's not behaving at all....</td>\n",
       "    </tr>\n",
       "  </tbody>\n",
       "</table>\n",
       "</div>"
      ],
      "text/plain": [
       "   target  ...                                               text\n",
       "0       0  ...  @switchfoot http://twitpic.com/2y1zl - Awww, t...\n",
       "1       0  ...  is upset that he can't update his Facebook by ...\n",
       "2       0  ...  @Kenichan I dived many times for the ball. Man...\n",
       "3       0  ...    my whole body feels itchy and like its on fire \n",
       "4       0  ...  @nationwideclass no, it's not behaving at all....\n",
       "\n",
       "[5 rows x 6 columns]"
      ]
     },
     "execution_count": 5,
     "metadata": {
      "tags": []
     },
     "output_type": "execute_result"
    }
   ],
   "source": [
    "# read df\n",
    "colnames=['target', 'id', 'date', 'flag','user','text']\n",
    "df=pd.read_csv(data_path,encoding='ISO-8859-1',sep=\",\",names=colnames)\n",
    "\n",
    "df.head()\n"
   ]
  },
  {
   "cell_type": "code",
   "execution_count": null,
   "metadata": {
    "colab": {
     "base_uri": "https://localhost:8080/"
    },
    "id": "cLVRHvazFBD7",
    "outputId": "c20f7919-66d1-4ebe-9cdc-c349b7ca66a7"
   },
   "outputs": [
    {
     "data": {
      "text/plain": [
       "target     int64\n",
       "id         int64\n",
       "date      object\n",
       "flag      object\n",
       "user      object\n",
       "text      object\n",
       "dtype: object"
      ]
     },
     "execution_count": 6,
     "metadata": {
      "tags": []
     },
     "output_type": "execute_result"
    }
   ],
   "source": [
    "df.dtypes"
   ]
  },
  {
   "cell_type": "markdown",
   "metadata": {
    "id": "w_cf4igSEo7w"
   },
   "source": [
    "## select first 100,000 tweets- neg and pos"
   ]
  },
  {
   "cell_type": "code",
   "execution_count": null,
   "metadata": {
    "colab": {
     "base_uri": "https://localhost:8080/"
    },
    "id": "rdWzgnhFC1BD",
    "outputId": "01934ea2-cb34-4f60-ca98-16f900f197ca"
   },
   "outputs": [
    {
     "data": {
      "text/plain": [
       "(1600000, 6)"
      ]
     },
     "execution_count": 7,
     "metadata": {
      "tags": []
     },
     "output_type": "execute_result"
    }
   ],
   "source": [
    "df.shape"
   ]
  },
  {
   "cell_type": "code",
   "execution_count": null,
   "metadata": {
    "colab": {
     "base_uri": "https://localhost:8080/"
    },
    "id": "hBG2WbbOCt-3",
    "outputId": "e5b3161e-534f-47fc-deec-e458c12dff1a"
   },
   "outputs": [
    {
     "name": "stdout",
     "output_type": "stream",
     "text": [
      "df shape:  (1581466, 6)\n"
     ]
    }
   ],
   "source": [
    "# remove duplicates tweets \n",
    "df= df.drop_duplicates(subset=['text'], keep='last')\n",
    "print(\"df shape: \", df.shape)"
   ]
  },
  {
   "cell_type": "code",
   "execution_count": null,
   "metadata": {
    "colab": {
     "base_uri": "https://localhost:8080/",
     "height": 204
    },
    "id": "RhkYaPbO5VlR",
    "outputId": "b818ba38-1287-4b73-c8a4-899c0223da1a"
   },
   "outputs": [
    {
     "data": {
      "text/html": [
       "<div>\n",
       "<style scoped>\n",
       "    .dataframe tbody tr th:only-of-type {\n",
       "        vertical-align: middle;\n",
       "    }\n",
       "\n",
       "    .dataframe tbody tr th {\n",
       "        vertical-align: top;\n",
       "    }\n",
       "\n",
       "    .dataframe thead th {\n",
       "        text-align: right;\n",
       "    }\n",
       "</style>\n",
       "<table border=\"1\" class=\"dataframe\">\n",
       "  <thead>\n",
       "    <tr style=\"text-align: right;\">\n",
       "      <th></th>\n",
       "      <th>text</th>\n",
       "      <th>target</th>\n",
       "    </tr>\n",
       "  </thead>\n",
       "  <tbody>\n",
       "    <tr>\n",
       "      <th>800000</th>\n",
       "      <td>I LOVE @Health4UandPets u guys r the best!!</td>\n",
       "      <td>4</td>\n",
       "    </tr>\n",
       "    <tr>\n",
       "      <th>800001</th>\n",
       "      <td>im meeting up with one of my besties tonight! ...</td>\n",
       "      <td>4</td>\n",
       "    </tr>\n",
       "    <tr>\n",
       "      <th>800002</th>\n",
       "      <td>@DaRealSunisaKim Thanks for the Twitter add, S...</td>\n",
       "      <td>4</td>\n",
       "    </tr>\n",
       "    <tr>\n",
       "      <th>800003</th>\n",
       "      <td>Being sick can be really cheap when it hurts t...</td>\n",
       "      <td>4</td>\n",
       "    </tr>\n",
       "    <tr>\n",
       "      <th>800004</th>\n",
       "      <td>@LovesBrooklyn2 he has that effect on everyone</td>\n",
       "      <td>4</td>\n",
       "    </tr>\n",
       "  </tbody>\n",
       "</table>\n",
       "</div>"
      ],
      "text/plain": [
       "                                                     text  target\n",
       "800000       I LOVE @Health4UandPets u guys r the best!!        4\n",
       "800001  im meeting up with one of my besties tonight! ...       4\n",
       "800002  @DaRealSunisaKim Thanks for the Twitter add, S...       4\n",
       "800003  Being sick can be really cheap when it hurts t...       4\n",
       "800004    @LovesBrooklyn2 he has that effect on everyone        4"
      ]
     },
     "execution_count": 9,
     "metadata": {
      "tags": []
     },
     "output_type": "execute_result"
    }
   ],
   "source": [
    "# select 50,000 records of positive_df sentimant and write to csv : positive_df\n",
    "positive_df=df.query(' target == 4' ).head(50000)\n",
    "# save only the columns- text and target (label).  Others columns are not relavent for task\n",
    "# we assump that the tweets can be negative\\positive anytime and for everyone\n",
    "positive_df=positive_df[['text','target']].copy()\n",
    "positive_df.to_csv('positive_df.csv')\n",
    "\n",
    "positive_df.head()"
   ]
  },
  {
   "cell_type": "code",
   "execution_count": null,
   "metadata": {
    "colab": {
     "base_uri": "https://localhost:8080/"
    },
    "id": "PFhGI2NBKWAK",
    "outputId": "de73b923-3af0-4f6c-ea56-e1d35cfd04ea"
   },
   "outputs": [
    {
     "name": "stdout",
     "output_type": "stream",
     "text": [
      "positive_df shape:  (50000, 2)\n"
     ]
    }
   ],
   "source": [
    "print(\"positive_df shape: \", positive_df.shape)"
   ]
  },
  {
   "cell_type": "code",
   "execution_count": null,
   "metadata": {
    "colab": {
     "base_uri": "https://localhost:8080/"
    },
    "id": "dofVZ7Yx8REr",
    "outputId": "f279924e-dc1e-4f4f-c4f1-bf213d3df649"
   },
   "outputs": [
    {
     "data": {
      "text/plain": [
       "50000"
      ]
     },
     "execution_count": 11,
     "metadata": {
      "tags": []
     },
     "output_type": "execute_result"
    }
   ],
   "source": [
    "# check there are no duplicates\n",
    "positive_df['text'].nunique()\n"
   ]
  },
  {
   "cell_type": "code",
   "execution_count": null,
   "metadata": {
    "colab": {
     "base_uri": "https://localhost:8080/",
     "height": 204
    },
    "id": "vs8j7wGuHx3w",
    "outputId": "ce3af366-234e-4b22-cd96-9a8c46a57615"
   },
   "outputs": [
    {
     "data": {
      "text/html": [
       "<div>\n",
       "<style scoped>\n",
       "    .dataframe tbody tr th:only-of-type {\n",
       "        vertical-align: middle;\n",
       "    }\n",
       "\n",
       "    .dataframe tbody tr th {\n",
       "        vertical-align: top;\n",
       "    }\n",
       "\n",
       "    .dataframe thead th {\n",
       "        text-align: right;\n",
       "    }\n",
       "</style>\n",
       "<table border=\"1\" class=\"dataframe\">\n",
       "  <thead>\n",
       "    <tr style=\"text-align: right;\">\n",
       "      <th></th>\n",
       "      <th>text</th>\n",
       "      <th>target</th>\n",
       "    </tr>\n",
       "  </thead>\n",
       "  <tbody>\n",
       "    <tr>\n",
       "      <th>0</th>\n",
       "      <td>@switchfoot http://twitpic.com/2y1zl - Awww, t...</td>\n",
       "      <td>0</td>\n",
       "    </tr>\n",
       "    <tr>\n",
       "      <th>1</th>\n",
       "      <td>is upset that he can't update his Facebook by ...</td>\n",
       "      <td>0</td>\n",
       "    </tr>\n",
       "    <tr>\n",
       "      <th>2</th>\n",
       "      <td>@Kenichan I dived many times for the ball. Man...</td>\n",
       "      <td>0</td>\n",
       "    </tr>\n",
       "    <tr>\n",
       "      <th>3</th>\n",
       "      <td>my whole body feels itchy and like its on fire</td>\n",
       "      <td>0</td>\n",
       "    </tr>\n",
       "    <tr>\n",
       "      <th>4</th>\n",
       "      <td>@nationwideclass no, it's not behaving at all....</td>\n",
       "      <td>0</td>\n",
       "    </tr>\n",
       "  </tbody>\n",
       "</table>\n",
       "</div>"
      ],
      "text/plain": [
       "                                                text  target\n",
       "0  @switchfoot http://twitpic.com/2y1zl - Awww, t...       0\n",
       "1  is upset that he can't update his Facebook by ...       0\n",
       "2  @Kenichan I dived many times for the ball. Man...       0\n",
       "3    my whole body feels itchy and like its on fire        0\n",
       "4  @nationwideclass no, it's not behaving at all....       0"
      ]
     },
     "execution_count": 12,
     "metadata": {
      "tags": []
     },
     "output_type": "execute_result"
    }
   ],
   "source": [
    "# select 50,000 records of negative sentimant and write to csv : negative_df\n",
    "negative_df=df.query(' target == 0' ).head(50000)\n",
    "# save only the columns- text and target (label).  Others columns are not relavent for task\n",
    "# we assump that the tweets can be negative\\positive anytime and for everyone \n",
    "negative_df=negative_df[['text','target']].copy()\n",
    "negative_df.to_csv('negative_df.csv')\n",
    "\n",
    "negative_df.head()"
   ]
  },
  {
   "cell_type": "code",
   "execution_count": null,
   "metadata": {
    "colab": {
     "base_uri": "https://localhost:8080/"
    },
    "id": "b1tSu9FmJhHc",
    "outputId": "ed53f305-27ca-41ec-e421-c9c92637f02e"
   },
   "outputs": [
    {
     "name": "stdout",
     "output_type": "stream",
     "text": [
      "negative_df shape:  (50000, 2)\n"
     ]
    }
   ],
   "source": [
    "print(\"negative_df shape: \", negative_df.shape)"
   ]
  },
  {
   "cell_type": "code",
   "execution_count": null,
   "metadata": {
    "colab": {
     "base_uri": "https://localhost:8080/"
    },
    "id": "_k0JbYwWDTFY",
    "outputId": "b31741ad-959d-474a-d2b7-b5d9058b8795"
   },
   "outputs": [
    {
     "data": {
      "text/plain": [
       "50000"
      ]
     },
     "execution_count": 14,
     "metadata": {
      "tags": []
     },
     "output_type": "execute_result"
    }
   ],
   "source": [
    "# check there are no duplicates\n",
    "positive_df['text'].nunique()\n"
   ]
  },
  {
   "cell_type": "code",
   "execution_count": null,
   "metadata": {
    "id": "nbWdp4tN5hFA"
   },
   "outputs": [],
   "source": [
    "# read dfs:\n",
    "negative_df = pd.read_csv(\"negative_df.csv\", sep=\",\")\n",
    "positive_df= pd.read_csv(\"positive_df.csv\", sep=\",\")"
   ]
  },
  {
   "cell_type": "markdown",
   "metadata": {
    "id": "K3EvFYRdAX6r"
   },
   "source": [
    "## Text pre-processing"
   ]
  },
  {
   "cell_type": "code",
   "execution_count": null,
   "metadata": {
    "colab": {
     "base_uri": "https://localhost:8080/"
    },
    "id": "2e1R_Exl6yNE",
    "outputId": "dbcdf0ea-43b3-4f0f-b15c-ff236d0daa80"
   },
   "outputs": [
    {
     "name": "stdout",
     "output_type": "stream",
     "text": [
      "[nltk_data] Downloading package stopwords to /root/nltk_data...\n",
      "[nltk_data]   Package stopwords is already up-to-date!\n"
     ]
    },
    {
     "data": {
      "text/plain": [
       "True"
      ]
     },
     "execution_count": 16,
     "metadata": {
      "tags": []
     },
     "output_type": "execute_result"
    }
   ],
   "source": [
    "import nltk\n",
    "nltk.download('stopwords')"
   ]
  },
  {
   "cell_type": "code",
   "execution_count": null,
   "metadata": {
    "id": "oAf7SQBW6i2Y"
   },
   "outputs": [],
   "source": [
    "# tweets pre-processing\n",
    "punctuation = list(string.punctuation)\n",
    "stop = stopwords.words('english') + punctuation + ['rt',\"\",'‘','ן',\"“\",'via', 'the',u'\\u2019',u'\\u2026','The',u'de',u'\\xe9']+['\\U0001f970','\\U0001f97a','\\U0001f974']\n",
    "emoticons_str = r\"\"\"\n",
    "    (?:\n",
    "        [:=;] # Eyes\n",
    "        [oO\\-]? # Nose (optional)\n",
    "        [D\\)\\]\\(\\]/\\\\OpP] # Mouth\n",
    "    )\"\"\"\n",
    "regex_str = [\n",
    "    emoticons_str,\n",
    "    r'<[^>]+>',  # HTML tags\n",
    "    r'(?:@[\\w_]+)',  # @-mentions\n",
    "    r\"(?:\\#+[\\w_]+[\\w\\'_\\-]*[\\w_]+)\",  # hash-tags\n",
    "    r'http[s]?://(?:[a-z]|[0-9]|[$-_@.&+]|[!*\\(\\)]|(?:%[0-9a-f][0-9a-f]))+',  # URLs\n",
    "    r'(?:(?:\\d+,?)+(?:\\.?\\d+)?)',  # numbers\n",
    "    r\"(?:[a-z][a-z'\\-_]+[a-z])\",  # words with - and '\n",
    "    r'(?:[\\w_]+)', # other words\n",
    "    r'(?:\\S)' # anything else\n",
    "]"
   ]
  },
  {
   "cell_type": "code",
   "execution_count": null,
   "metadata": {
    "colab": {
     "base_uri": "https://localhost:8080/"
    },
    "id": "0c4wu0WCht3t",
    "outputId": "de78fca1-a764-4b49-daeb-fd712b167310"
   },
   "outputs": [
    {
     "name": "stdout",
     "output_type": "stream",
     "text": [
      "Requirement already satisfied: emoji in /usr/local/lib/python3.6/dist-packages (1.2.0)\n"
     ]
    }
   ],
   "source": [
    "!pip install emoji\n",
    "import emoji\n",
    "# cconvert emojis and simileis\n",
    "def cconvert_emoji(text):\n",
    "  without_emoji=emoji.demojize(text)\n",
    "  # if without_emoji!=text:\n",
    "  #   without_emoji=without_emoji.replace(\":\",\"\")\n",
    "  return without_emoji"
   ]
  },
  {
   "cell_type": "code",
   "execution_count": null,
   "metadata": {
    "id": "a7am1ePQu2sZ"
   },
   "outputs": [],
   "source": [
    "# Tokenization\n",
    "tokens_re = re.compile(r'('+'|'.join(regex_str)+')', re.VERBOSE | re.IGNORECASE)\n",
    "emoticon_re = re.compile(r'^'+emoticons_str+'$', re.VERBOSE | re.IGNORECASE)\n",
    "# split the text to tokens \n",
    "def tokenize(s):\n",
    "    return tokens_re.findall(s)\n",
    "# remove common and specilase terms \n",
    "def preprocess(s, lowercase=False):\n",
    "    tokens = tokenize(s)\n",
    "    if lowercase:\n",
    "        tokens = [token if emoticon_re.search(token) else token.lower() for token in tokens]\n",
    "        tokens[:] = [term for term in tokens if (term !='')or(term !=\"\")] #remove empty\n",
    "    return tokens\n"
   ]
  },
  {
   "cell_type": "code",
   "execution_count": null,
   "metadata": {
    "id": "j2Ucn-zohpMG"
   },
   "outputs": [],
   "source": [
    "# counting\n",
    "# Terms Counting - count how many times term appears\n",
    "def count_terms(curr_df):\n",
    "    count_all = Counter()\n",
    "    for index, row in curr_df.iterrows():\n",
    "        if 'Text' in curr_df.columns:\n",
    "          curr_tweet = row['Text']\n",
    "        elif 'text' in curr_df.columns:\n",
    "          curr_tweet = row['text']\n",
    "        if len(curr_tweet) < 1:\n",
    "            continue\n",
    "        # Create a list with all the terms\n",
    "        curr_tweet= cconvert_emoji(curr_tweet)\n",
    "        curr_tweet_tokens = preprocess(curr_tweet, True)\n",
    "        terms_all = [term for term in curr_tweet_tokens if term not in stop]\n",
    "        if '' in terms_all:\n",
    "          terms_all.remove('')\n",
    "        # Update the counter\n",
    "        count_all.update(terms_all)\n",
    "    return count_all"
   ]
  },
  {
   "cell_type": "markdown",
   "metadata": {
    "id": "12-dtv3oAws0"
   },
   "source": [
    "## Data exploration"
   ]
  },
  {
   "cell_type": "code",
   "execution_count": null,
   "metadata": {
    "id": "jocrHWBWhkga"
   },
   "outputs": [],
   "source": [
    "# calculate posts average length \n",
    "def get_average_text_len(df):\n",
    "  avge_length = 0\n",
    "  all_terms=df.text.values\n",
    "  for post in all_terms:\n",
    "    avge_length = avge_length + len(str(post).split(\" \"))\n",
    "  total_avge=avge_length / df.text.values.size\n",
    "  return total_avge"
   ]
  },
  {
   "cell_type": "markdown",
   "metadata": {
    "id": "b-Nu1lq9jtqP"
   },
   "source": [
    "\n",
    "*   positive sentimant explorarion \n",
    "\n"
   ]
  },
  {
   "cell_type": "code",
   "execution_count": null,
   "metadata": {
    "colab": {
     "base_uri": "https://localhost:8080/"
    },
    "id": "yw6mRf3yNL-2",
    "outputId": "e24ea2ee-e088-4023-f468-57fae57c2c48"
   },
   "outputs": [
    {
     "name": "stdout",
     "output_type": "stream",
     "text": [
      "Number of terms in positive category: 62057\n"
     ]
    }
   ],
   "source": [
    "# count positive terms frequency\n",
    "pos_counter= count_terms(positive_df)\n",
    "print(\"Number of terms in positive category:\",len(pos_counter))"
   ]
  },
  {
   "cell_type": "code",
   "execution_count": null,
   "metadata": {
    "colab": {
     "base_uri": "https://localhost:8080/",
     "height": 295
    },
    "id": "51uGF1a3NSTt",
    "outputId": "0ffe8703-0b86-4408-e3e2-73d4761f91e9"
   },
   "outputs": [
    {
     "data": {
      "image/png": "[encoded data removed]",
      "text/plain": [
       "<Figure size 432x288 with 1 Axes>"
      ]
     },
     "metadata": {
      "needs_background": "light",
      "tags": []
     },
     "output_type": "display_data"
    }
   ],
   "source": [
    "#positive terms distribution\n",
    "term_frequency = pd.DataFrame(pos_counter.items(), columns=['Term','Frequency'])\n",
    "fig = term_frequency.hist(column=\"Frequency\", bins=10)\n",
    "plt.title(\"Positive Term distributions\",color='blue')\n",
    "plt.xlabel(\"Term Frequency\",color='green')\n",
    "plt.ylabel(\"Number of Terms\",color='green')\n",
    "ax = plt.gca()\n",
    "ax.set_yscale('log')\n",
    "plt.show()"
   ]
  },
  {
   "cell_type": "code",
   "execution_count": null,
   "metadata": {
    "colab": {
     "base_uri": "https://localhost:8080/"
    },
    "id": "HKu9OFxJjLjt",
    "outputId": "d305458b-d587-4a7c-9248-0bc37c3cc2dd"
   },
   "outputs": [
    {
     "name": "stdout",
     "output_type": "stream",
     "text": [
      "average length of positive post: 14.07928\n"
     ]
    }
   ],
   "source": [
    "# average length - positive tweets\n",
    "print('average length of positive post: {0}'.format(get_average_text_len(positive_df)))"
   ]
  },
  {
   "cell_type": "markdown",
   "metadata": {
    "id": "6MuN3SBsj-m-"
   },
   "source": [
    "\n",
    "*   negative sentimant explorarion \n",
    "\n"
   ]
  },
  {
   "cell_type": "code",
   "execution_count": null,
   "metadata": {
    "colab": {
     "base_uri": "https://localhost:8080/"
    },
    "id": "L5pJJQGNNfjZ",
    "outputId": "26dea5c4-ca64-4df5-ae38-940eb6397130"
   },
   "outputs": [
    {
     "name": "stdout",
     "output_type": "stream",
     "text": [
      "Number of terms in negative category: 51294\n"
     ]
    }
   ],
   "source": [
    "# count negative terms frequency\n",
    "neg_counter= count_terms(negative_df)\n",
    "print(\"Number of terms in negative category:\",len(neg_counter))"
   ]
  },
  {
   "cell_type": "code",
   "execution_count": null,
   "metadata": {
    "colab": {
     "base_uri": "https://localhost:8080/",
     "height": 295
    },
    "id": "2ygQa8TENoaZ",
    "outputId": "94d0b873-e01a-4421-8c71-7ed0fa3d621d"
   },
   "outputs": [
    {
     "data": {
      "image/png": "[encoded data removed]",
      "text/plain": [
       "<Figure size 432x288 with 1 Axes>"
      ]
     },
     "metadata": {
      "needs_background": "light",
      "tags": []
     },
     "output_type": "display_data"
    }
   ],
   "source": [
    "#negative terms distribution\n",
    "term_frequency = pd.DataFrame(neg_counter.items(), columns=['Term','Frequency'])\n",
    "fig = term_frequency.hist(column=\"Frequency\", bins=10)\n",
    "plt.title(\"Negative Terms distribution\",color='blue')\n",
    "plt.xlabel(\"Term Frequency\",color='green')\n",
    "plt.ylabel(\"Number of Terms\",color='green')\n",
    "ax = plt.gca()\n",
    "ax.set_yscale('log')\n",
    "plt.show()"
   ]
  },
  {
   "cell_type": "code",
   "execution_count": null,
   "metadata": {
    "colab": {
     "base_uri": "https://localhost:8080/"
    },
    "id": "OVrshyHdje17",
    "outputId": "b9da87fb-fcab-4987-89d4-3a33df47c1a3"
   },
   "outputs": [
    {
     "name": "stdout",
     "output_type": "stream",
     "text": [
      "average length of negative post: 14.83298\n"
     ]
    }
   ],
   "source": [
    "# average length - negative tweets\n",
    "print('average length of negative post: {0}'.format(get_average_text_len(negative_df)))"
   ]
  },
  {
   "cell_type": "code",
   "execution_count": null,
   "metadata": {
    "colab": {
     "base_uri": "https://localhost:8080/",
     "height": 265
    },
    "id": "2Nkrad9JL9km",
    "outputId": "4b4d91f2-ff8e-4821-af5f-130d87ba7b88"
   },
   "outputs": [
    {
     "data": {
      "image/png": "[encoded data removed]",
      "text/plain": [
       "<Figure size 432x288 with 1 Axes>"
      ]
     },
     "metadata": {
      "needs_background": "light",
      "tags": []
     },
     "output_type": "display_data"
    }
   ],
   "source": [
    "# positive and negative distribution :\n",
    "\n",
    "# conect 2 dfs \n",
    "df_together=pd.concat([positive_df, negative_df],ignore_index=True)\n",
    "\n",
    "class_count = df_together.groupby(['target'])['target'].count()\n",
    "plt.bar(np.array([\"Positive\",\"Negative\"]),class_count)\n",
    "plt.show()"
   ]
  },
  {
   "cell_type": "markdown",
   "metadata": {
    "id": "aqGXGdLykHOK"
   },
   "source": [
    "*  check popular terms for each class"
   ]
  },
  {
   "cell_type": "code",
   "execution_count": null,
   "metadata": {
    "colab": {
     "base_uri": "https://localhost:8080/"
    },
    "id": "VLYN7tYWCCkD",
    "outputId": "ddf4140c-ddae-4905-8b69-1e548caf9ec3"
   },
   "outputs": [
    {
     "data": {
      "text/plain": [
       "[('good', 3990),\n",
       " (\"i'm\", 3486),\n",
       " ('quot', 2867),\n",
       " ('day', 2818),\n",
       " ('love', 2708),\n",
       " ('like', 2375),\n",
       " ('get', 2248),\n",
       " ('thanks', 2141),\n",
       " ('going', 2051),\n",
       " ('lol', 2006)]"
      ]
     },
     "execution_count": 29,
     "metadata": {
      "tags": []
     },
     "output_type": "execute_result"
    }
   ],
   "source": [
    "#top 10 terms - positive - Finding 10 highest values\n",
    "high_pos = pos_counter.most_common(10)\n",
    "\n",
    "high_pos"
   ]
  },
  {
   "cell_type": "code",
   "execution_count": null,
   "metadata": {
    "colab": {
     "base_uri": "https://localhost:8080/",
     "height": 398
    },
    "id": "bTaH_WuEbZo3",
    "outputId": "d945e5ba-e4bc-4f77-dc3c-31b298618cee"
   },
   "outputs": [
    {
     "data": {
      "image/png": "[encoded data removed]",
      "text/plain": [
       "<Figure size 864x432 with 1 Axes>"
      ]
     },
     "metadata": {
      "needs_background": "light",
      "tags": []
     },
     "output_type": "display_data"
    }
   ],
   "source": [
    "# positive top 10 terms plot\n",
    "x_labels = [val[0] for val in high_pos]\n",
    "y_labels = [val[1] for val in high_pos]\n",
    "plt.figure(figsize=(12, 6))\n",
    "ax = pd.Series(y_labels).plot(kind='bar')\n",
    "ax.set_xticklabels(x_labels)\n",
    "\n",
    "rects = ax.patches\n",
    "\n",
    "for rect, label in zip(rects, y_labels):\n",
    "    height = rect.get_height()\n",
    "    ax.text(rect.get_x() + rect.get_width()/2, height + 5, label, ha='center', va='bottom')"
   ]
  },
  {
   "cell_type": "code",
   "execution_count": null,
   "metadata": {
    "colab": {
     "base_uri": "https://localhost:8080/"
    },
    "id": "dZ_NBUwOBiub",
    "outputId": "3b598354-2c34-4905-951a-0bba7086e1d7"
   },
   "outputs": [
    {
     "data": {
      "text/plain": [
       "[(\"i'm\", 4392),\n",
       " ('work', 3451),\n",
       " ('go', 3096),\n",
       " ('get', 2861),\n",
       " ('day', 2815),\n",
       " ('today', 2614),\n",
       " ('back', 2606),\n",
       " ('like', 2446),\n",
       " ('going', 2226),\n",
       " ('got', 2161)]"
      ]
     },
     "execution_count": 31,
     "metadata": {
      "tags": []
     },
     "output_type": "execute_result"
    }
   ],
   "source": [
    "#top 10 terms - negative - Finding 10 highest values\n",
    "high_neg = neg_counter.most_common(10)\n",
    "high_neg"
   ]
  },
  {
   "cell_type": "code",
   "execution_count": null,
   "metadata": {
    "colab": {
     "base_uri": "https://localhost:8080/",
     "height": 392
    },
    "id": "sCCzYgXjdSXc",
    "outputId": "ebc4d137-56dd-4d2a-e6c1-6ad68d28f17f"
   },
   "outputs": [
    {
     "data": {
      "image/png": "[encoded data removed]",
      "text/plain": [
       "<Figure size 864x432 with 1 Axes>"
      ]
     },
     "metadata": {
      "needs_background": "light",
      "tags": []
     },
     "output_type": "display_data"
    }
   ],
   "source": [
    "# negative top 10 terms plot\n",
    "x_labels = [val[0] for val in high_neg]\n",
    "y_labels = [val[1] for val in high_neg]\n",
    "plt.figure(figsize=(12, 6))\n",
    "ax = pd.Series(y_labels).plot(kind='bar')\n",
    "ax.set_xticklabels(x_labels)\n",
    "\n",
    "rects = ax.patches\n",
    "\n",
    "for rect, label in zip(rects, y_labels):\n",
    "    height = rect.get_height()\n",
    "    ax.text(rect.get_x() + rect.get_width()/2, height + 5, label, ha='center', va='bottom')"
   ]
  },
  {
   "cell_type": "code",
   "execution_count": null,
   "metadata": {
    "colab": {
     "base_uri": "https://localhost:8080/",
     "height": 359
    },
    "id": "i20C_26wAm3e",
    "outputId": "830b3dcf-41e3-4078-eb13-7e1a274feb6a"
   },
   "outputs": [
    {
     "data": {
      "text/html": [
       "<div>\n",
       "<style scoped>\n",
       "    .dataframe tbody tr th:only-of-type {\n",
       "        vertical-align: middle;\n",
       "    }\n",
       "\n",
       "    .dataframe tbody tr th {\n",
       "        vertical-align: top;\n",
       "    }\n",
       "\n",
       "    .dataframe thead th {\n",
       "        text-align: right;\n",
       "    }\n",
       "</style>\n",
       "<table border=\"1\" class=\"dataframe\">\n",
       "  <thead>\n",
       "    <tr style=\"text-align: right;\">\n",
       "      <th></th>\n",
       "      <th>Positive Terms</th>\n",
       "      <th>Negative Terms</th>\n",
       "    </tr>\n",
       "  </thead>\n",
       "  <tbody>\n",
       "    <tr>\n",
       "      <th>0</th>\n",
       "      <td>(good, 3990)</td>\n",
       "      <td>(i'm, 4392)</td>\n",
       "    </tr>\n",
       "    <tr>\n",
       "      <th>1</th>\n",
       "      <td>(i'm, 3486)</td>\n",
       "      <td>(work, 3451)</td>\n",
       "    </tr>\n",
       "    <tr>\n",
       "      <th>2</th>\n",
       "      <td>(quot, 2867)</td>\n",
       "      <td>(go, 3096)</td>\n",
       "    </tr>\n",
       "    <tr>\n",
       "      <th>3</th>\n",
       "      <td>(day, 2818)</td>\n",
       "      <td>(get, 2861)</td>\n",
       "    </tr>\n",
       "    <tr>\n",
       "      <th>4</th>\n",
       "      <td>(love, 2708)</td>\n",
       "      <td>(day, 2815)</td>\n",
       "    </tr>\n",
       "    <tr>\n",
       "      <th>5</th>\n",
       "      <td>(like, 2375)</td>\n",
       "      <td>(today, 2614)</td>\n",
       "    </tr>\n",
       "    <tr>\n",
       "      <th>6</th>\n",
       "      <td>(get, 2248)</td>\n",
       "      <td>(back, 2606)</td>\n",
       "    </tr>\n",
       "    <tr>\n",
       "      <th>7</th>\n",
       "      <td>(thanks, 2141)</td>\n",
       "      <td>(like, 2446)</td>\n",
       "    </tr>\n",
       "    <tr>\n",
       "      <th>8</th>\n",
       "      <td>(going, 2051)</td>\n",
       "      <td>(going, 2226)</td>\n",
       "    </tr>\n",
       "    <tr>\n",
       "      <th>9</th>\n",
       "      <td>(lol, 2006)</td>\n",
       "      <td>(got, 2161)</td>\n",
       "    </tr>\n",
       "  </tbody>\n",
       "</table>\n",
       "</div>"
      ],
      "text/plain": [
       "   Positive Terms Negative Terms\n",
       "0    (good, 3990)    (i'm, 4392)\n",
       "1     (i'm, 3486)   (work, 3451)\n",
       "2    (quot, 2867)     (go, 3096)\n",
       "3     (day, 2818)    (get, 2861)\n",
       "4    (love, 2708)    (day, 2815)\n",
       "5    (like, 2375)  (today, 2614)\n",
       "6     (get, 2248)   (back, 2606)\n",
       "7  (thanks, 2141)   (like, 2446)\n",
       "8   (going, 2051)  (going, 2226)\n",
       "9     (lol, 2006)    (got, 2161)"
      ]
     },
     "execution_count": 33,
     "metadata": {
      "tags": []
     },
     "output_type": "execute_result"
    }
   ],
   "source": [
    "# most popular terms for each class: \n",
    "top_terms_df = pd.DataFrame()\n",
    "top_terms_df['Positive Terms']= high_pos\n",
    "top_terms_df['Negative Terms']=high_neg #top 10 terms - negative\n",
    "\n",
    "top_terms_df"
   ]
  },
  {
   "cell_type": "markdown",
   "metadata": {
    "id": "MFN8_ji50jbr"
   },
   "source": [
    "We can see, that there are some words that similar between negative and positive common words. \n",
    "We also can see that there are words which unique for each sentiment.\n"
   ]
  },
  {
   "cell_type": "markdown",
   "metadata": {
    "id": "1BYEsSVOqPPy"
   },
   "source": [
    "# Q2"
   ]
  },
  {
   "cell_type": "code",
   "execution_count": null,
   "metadata": {
    "colab": {
     "base_uri": "https://localhost:8080/",
     "height": 419
    },
    "id": "gJPdnUO5NXo8",
    "outputId": "ad8ae17f-5797-487d-a71d-5a2aca208d66"
   },
   "outputs": [
    {
     "data": {
      "text/html": [
       "<div>\n",
       "<style scoped>\n",
       "    .dataframe tbody tr th:only-of-type {\n",
       "        vertical-align: middle;\n",
       "    }\n",
       "\n",
       "    .dataframe tbody tr th {\n",
       "        vertical-align: top;\n",
       "    }\n",
       "\n",
       "    .dataframe thead th {\n",
       "        text-align: right;\n",
       "    }\n",
       "</style>\n",
       "<table border=\"1\" class=\"dataframe\">\n",
       "  <thead>\n",
       "    <tr style=\"text-align: right;\">\n",
       "      <th></th>\n",
       "      <th>Unnamed: 0</th>\n",
       "      <th>text</th>\n",
       "      <th>target</th>\n",
       "    </tr>\n",
       "  </thead>\n",
       "  <tbody>\n",
       "    <tr>\n",
       "      <th>0</th>\n",
       "      <td>0</td>\n",
       "      <td>@switchfoot http://twitpic.com/2y1zl - Awww, t...</td>\n",
       "      <td>0</td>\n",
       "    </tr>\n",
       "    <tr>\n",
       "      <th>1</th>\n",
       "      <td>1</td>\n",
       "      <td>is upset that he can't update his Facebook by ...</td>\n",
       "      <td>0</td>\n",
       "    </tr>\n",
       "    <tr>\n",
       "      <th>2</th>\n",
       "      <td>2</td>\n",
       "      <td>@Kenichan I dived many times for the ball. Man...</td>\n",
       "      <td>0</td>\n",
       "    </tr>\n",
       "    <tr>\n",
       "      <th>3</th>\n",
       "      <td>3</td>\n",
       "      <td>my whole body feels itchy and like its on fire</td>\n",
       "      <td>0</td>\n",
       "    </tr>\n",
       "    <tr>\n",
       "      <th>4</th>\n",
       "      <td>4</td>\n",
       "      <td>@nationwideclass no, it's not behaving at all....</td>\n",
       "      <td>0</td>\n",
       "    </tr>\n",
       "    <tr>\n",
       "      <th>...</th>\n",
       "      <td>...</td>\n",
       "      <td>...</td>\n",
       "      <td>...</td>\n",
       "    </tr>\n",
       "    <tr>\n",
       "      <th>49995</th>\n",
       "      <td>51178</td>\n",
       "      <td>@tommertron Seriously! I've already read about...</td>\n",
       "      <td>0</td>\n",
       "    </tr>\n",
       "    <tr>\n",
       "      <th>49996</th>\n",
       "      <td>51179</td>\n",
       "      <td>@DazzleMeThis psshhtt, yea i reckon  =P</td>\n",
       "      <td>0</td>\n",
       "    </tr>\n",
       "    <tr>\n",
       "      <th>49997</th>\n",
       "      <td>51180</td>\n",
       "      <td>@tifkin Have you called to see about a refund ...</td>\n",
       "      <td>0</td>\n",
       "    </tr>\n",
       "    <tr>\n",
       "      <th>49998</th>\n",
       "      <td>51181</td>\n",
       "      <td>is sitting through a boring exam review sessio...</td>\n",
       "      <td>0</td>\n",
       "    </tr>\n",
       "    <tr>\n",
       "      <th>49999</th>\n",
       "      <td>51182</td>\n",
       "      <td>@wademealing it's a very bad situation  unfort...</td>\n",
       "      <td>0</td>\n",
       "    </tr>\n",
       "  </tbody>\n",
       "</table>\n",
       "<p>50000 rows × 3 columns</p>\n",
       "</div>"
      ],
      "text/plain": [
       "       Unnamed: 0                                               text  target\n",
       "0               0  @switchfoot http://twitpic.com/2y1zl - Awww, t...       0\n",
       "1               1  is upset that he can't update his Facebook by ...       0\n",
       "2               2  @Kenichan I dived many times for the ball. Man...       0\n",
       "3               3    my whole body feels itchy and like its on fire        0\n",
       "4               4  @nationwideclass no, it's not behaving at all....       0\n",
       "...           ...                                                ...     ...\n",
       "49995       51178  @tommertron Seriously! I've already read about...       0\n",
       "49996       51179            @DazzleMeThis psshhtt, yea i reckon  =P       0\n",
       "49997       51180  @tifkin Have you called to see about a refund ...       0\n",
       "49998       51181  is sitting through a boring exam review sessio...       0\n",
       "49999       51182  @wademealing it's a very bad situation  unfort...       0\n",
       "\n",
       "[50000 rows x 3 columns]"
      ]
     },
     "execution_count": 66,
     "metadata": {
      "tags": []
     },
     "output_type": "execute_result"
    }
   ],
   "source": [
    "negative_df"
   ]
  },
  {
   "cell_type": "code",
   "execution_count": null,
   "metadata": {
    "colab": {
     "base_uri": "https://localhost:8080/",
     "height": 419
    },
    "id": "CXooyDgaNXmc",
    "outputId": "86f524ad-cde9-4b87-a204-92597b5e8a49"
   },
   "outputs": [
    {
     "data": {
      "text/html": [
       "<div>\n",
       "<style scoped>\n",
       "    .dataframe tbody tr th:only-of-type {\n",
       "        vertical-align: middle;\n",
       "    }\n",
       "\n",
       "    .dataframe tbody tr th {\n",
       "        vertical-align: top;\n",
       "    }\n",
       "\n",
       "    .dataframe thead th {\n",
       "        text-align: right;\n",
       "    }\n",
       "</style>\n",
       "<table border=\"1\" class=\"dataframe\">\n",
       "  <thead>\n",
       "    <tr style=\"text-align: right;\">\n",
       "      <th></th>\n",
       "      <th>Unnamed: 0</th>\n",
       "      <th>text</th>\n",
       "      <th>target</th>\n",
       "    </tr>\n",
       "  </thead>\n",
       "  <tbody>\n",
       "    <tr>\n",
       "      <th>0</th>\n",
       "      <td>800000</td>\n",
       "      <td>I LOVE @Health4UandPets u guys r the best!!</td>\n",
       "      <td>4</td>\n",
       "    </tr>\n",
       "    <tr>\n",
       "      <th>1</th>\n",
       "      <td>800001</td>\n",
       "      <td>im meeting up with one of my besties tonight! ...</td>\n",
       "      <td>4</td>\n",
       "    </tr>\n",
       "    <tr>\n",
       "      <th>2</th>\n",
       "      <td>800002</td>\n",
       "      <td>@DaRealSunisaKim Thanks for the Twitter add, S...</td>\n",
       "      <td>4</td>\n",
       "    </tr>\n",
       "    <tr>\n",
       "      <th>3</th>\n",
       "      <td>800003</td>\n",
       "      <td>Being sick can be really cheap when it hurts t...</td>\n",
       "      <td>4</td>\n",
       "    </tr>\n",
       "    <tr>\n",
       "      <th>4</th>\n",
       "      <td>800004</td>\n",
       "      <td>@LovesBrooklyn2 he has that effect on everyone</td>\n",
       "      <td>4</td>\n",
       "    </tr>\n",
       "    <tr>\n",
       "      <th>...</th>\n",
       "      <td>...</td>\n",
       "      <td>...</td>\n",
       "      <td>...</td>\n",
       "    </tr>\n",
       "    <tr>\n",
       "      <th>49995</th>\n",
       "      <td>850481</td>\n",
       "      <td>@libbyoliver A bit like myself then.</td>\n",
       "      <td>4</td>\n",
       "    </tr>\n",
       "    <tr>\n",
       "      <th>49996</th>\n",
       "      <td>850482</td>\n",
       "      <td>Good morning everyone! Hope you have a great d...</td>\n",
       "      <td>4</td>\n",
       "    </tr>\n",
       "    <tr>\n",
       "      <th>49997</th>\n",
       "      <td>850483</td>\n",
       "      <td>How many times have you wanted to say this to ...</td>\n",
       "      <td>4</td>\n",
       "    </tr>\n",
       "    <tr>\n",
       "      <th>49998</th>\n",
       "      <td>850484</td>\n",
       "      <td>@mja320 Thanks!! I just picked out prints I wa...</td>\n",
       "      <td>4</td>\n",
       "    </tr>\n",
       "    <tr>\n",
       "      <th>49999</th>\n",
       "      <td>850485</td>\n",
       "      <td>The Packager beta tool might not be as big as ...</td>\n",
       "      <td>4</td>\n",
       "    </tr>\n",
       "  </tbody>\n",
       "</table>\n",
       "<p>50000 rows × 3 columns</p>\n",
       "</div>"
      ],
      "text/plain": [
       "       Unnamed: 0                                               text  target\n",
       "0          800000       I LOVE @Health4UandPets u guys r the best!!        4\n",
       "1          800001  im meeting up with one of my besties tonight! ...       4\n",
       "2          800002  @DaRealSunisaKim Thanks for the Twitter add, S...       4\n",
       "3          800003  Being sick can be really cheap when it hurts t...       4\n",
       "4          800004    @LovesBrooklyn2 he has that effect on everyone        4\n",
       "...           ...                                                ...     ...\n",
       "49995      850481              @libbyoliver A bit like myself then.        4\n",
       "49996      850482  Good morning everyone! Hope you have a great d...       4\n",
       "49997      850483  How many times have you wanted to say this to ...       4\n",
       "49998      850484  @mja320 Thanks!! I just picked out prints I wa...       4\n",
       "49999      850485  The Packager beta tool might not be as big as ...       4\n",
       "\n",
       "[50000 rows x 3 columns]"
      ]
     },
     "execution_count": 67,
     "metadata": {
      "tags": []
     },
     "output_type": "execute_result"
    }
   ],
   "source": [
    "positive_df"
   ]
  },
  {
   "cell_type": "code",
   "execution_count": null,
   "metadata": {
    "colab": {
     "base_uri": "https://localhost:8080/",
     "height": 419
    },
    "id": "Jc072o9JNXjU",
    "outputId": "71009a62-3eab-4bca-8d38-9d0d6340f08e"
   },
   "outputs": [
    {
     "data": {
      "text/html": [
       "<div>\n",
       "<style scoped>\n",
       "    .dataframe tbody tr th:only-of-type {\n",
       "        vertical-align: middle;\n",
       "    }\n",
       "\n",
       "    .dataframe tbody tr th {\n",
       "        vertical-align: top;\n",
       "    }\n",
       "\n",
       "    .dataframe thead th {\n",
       "        text-align: right;\n",
       "    }\n",
       "</style>\n",
       "<table border=\"1\" class=\"dataframe\">\n",
       "  <thead>\n",
       "    <tr style=\"text-align: right;\">\n",
       "      <th></th>\n",
       "      <th>Unnamed: 0</th>\n",
       "      <th>text</th>\n",
       "      <th>target</th>\n",
       "    </tr>\n",
       "  </thead>\n",
       "  <tbody>\n",
       "    <tr>\n",
       "      <th>0</th>\n",
       "      <td>800000</td>\n",
       "      <td>I LOVE @Health4UandPets u guys r the best!!</td>\n",
       "      <td>4</td>\n",
       "    </tr>\n",
       "    <tr>\n",
       "      <th>1</th>\n",
       "      <td>800001</td>\n",
       "      <td>im meeting up with one of my besties tonight! ...</td>\n",
       "      <td>4</td>\n",
       "    </tr>\n",
       "    <tr>\n",
       "      <th>2</th>\n",
       "      <td>800002</td>\n",
       "      <td>@DaRealSunisaKim Thanks for the Twitter add, S...</td>\n",
       "      <td>4</td>\n",
       "    </tr>\n",
       "    <tr>\n",
       "      <th>3</th>\n",
       "      <td>800003</td>\n",
       "      <td>Being sick can be really cheap when it hurts t...</td>\n",
       "      <td>4</td>\n",
       "    </tr>\n",
       "    <tr>\n",
       "      <th>4</th>\n",
       "      <td>800004</td>\n",
       "      <td>@LovesBrooklyn2 he has that effect on everyone</td>\n",
       "      <td>4</td>\n",
       "    </tr>\n",
       "    <tr>\n",
       "      <th>...</th>\n",
       "      <td>...</td>\n",
       "      <td>...</td>\n",
       "      <td>...</td>\n",
       "    </tr>\n",
       "    <tr>\n",
       "      <th>99995</th>\n",
       "      <td>51178</td>\n",
       "      <td>@tommertron Seriously! I've already read about...</td>\n",
       "      <td>0</td>\n",
       "    </tr>\n",
       "    <tr>\n",
       "      <th>99996</th>\n",
       "      <td>51179</td>\n",
       "      <td>@DazzleMeThis psshhtt, yea i reckon  =P</td>\n",
       "      <td>0</td>\n",
       "    </tr>\n",
       "    <tr>\n",
       "      <th>99997</th>\n",
       "      <td>51180</td>\n",
       "      <td>@tifkin Have you called to see about a refund ...</td>\n",
       "      <td>0</td>\n",
       "    </tr>\n",
       "    <tr>\n",
       "      <th>99998</th>\n",
       "      <td>51181</td>\n",
       "      <td>is sitting through a boring exam review sessio...</td>\n",
       "      <td>0</td>\n",
       "    </tr>\n",
       "    <tr>\n",
       "      <th>99999</th>\n",
       "      <td>51182</td>\n",
       "      <td>@wademealing it's a very bad situation  unfort...</td>\n",
       "      <td>0</td>\n",
       "    </tr>\n",
       "  </tbody>\n",
       "</table>\n",
       "<p>100000 rows × 3 columns</p>\n",
       "</div>"
      ],
      "text/plain": [
       "       Unnamed: 0                                               text  target\n",
       "0          800000       I LOVE @Health4UandPets u guys r the best!!        4\n",
       "1          800001  im meeting up with one of my besties tonight! ...       4\n",
       "2          800002  @DaRealSunisaKim Thanks for the Twitter add, S...       4\n",
       "3          800003  Being sick can be really cheap when it hurts t...       4\n",
       "4          800004    @LovesBrooklyn2 he has that effect on everyone        4\n",
       "...           ...                                                ...     ...\n",
       "99995       51178  @tommertron Seriously! I've already read about...       0\n",
       "99996       51179            @DazzleMeThis psshhtt, yea i reckon  =P       0\n",
       "99997       51180  @tifkin Have you called to see about a refund ...       0\n",
       "99998       51181  is sitting through a boring exam review sessio...       0\n",
       "99999       51182  @wademealing it's a very bad situation  unfort...       0\n",
       "\n",
       "[100000 rows x 3 columns]"
      ]
     },
     "execution_count": 68,
     "metadata": {
      "tags": []
     },
     "output_type": "execute_result"
    }
   ],
   "source": [
    "df=pd.concat([positive_df, negative_df],ignore_index=True)\n",
    "\n",
    "df"
   ]
  },
  {
   "cell_type": "code",
   "execution_count": null,
   "metadata": {
    "id": "4EasJFv0NXgW"
   },
   "outputs": [],
   "source": [
    "#helper functions\n",
    "\n",
    "def to_binary(num):\n",
    "  if num==0:\n",
    "    return 0\n",
    "  else:\n",
    "    return 1\n",
    "\n",
    "\n",
    "\n",
    "df['target']=df['target'].apply(to_binary)\n"
   ]
  },
  {
   "cell_type": "code",
   "execution_count": null,
   "metadata": {
    "colab": {
     "base_uri": "https://localhost:8080/",
     "height": 419
    },
    "id": "koOUm4Q4NXdr",
    "outputId": "c7259907-9885-48af-be82-6ed325b947da"
   },
   "outputs": [
    {
     "data": {
      "text/html": [
       "<div>\n",
       "<style scoped>\n",
       "    .dataframe tbody tr th:only-of-type {\n",
       "        vertical-align: middle;\n",
       "    }\n",
       "\n",
       "    .dataframe tbody tr th {\n",
       "        vertical-align: top;\n",
       "    }\n",
       "\n",
       "    .dataframe thead th {\n",
       "        text-align: right;\n",
       "    }\n",
       "</style>\n",
       "<table border=\"1\" class=\"dataframe\">\n",
       "  <thead>\n",
       "    <tr style=\"text-align: right;\">\n",
       "      <th></th>\n",
       "      <th>Unnamed: 0</th>\n",
       "      <th>text</th>\n",
       "      <th>target</th>\n",
       "    </tr>\n",
       "  </thead>\n",
       "  <tbody>\n",
       "    <tr>\n",
       "      <th>0</th>\n",
       "      <td>800000</td>\n",
       "      <td>I LOVE @Health4UandPets u guys r the best!!</td>\n",
       "      <td>1</td>\n",
       "    </tr>\n",
       "    <tr>\n",
       "      <th>1</th>\n",
       "      <td>800001</td>\n",
       "      <td>im meeting up with one of my besties tonight! ...</td>\n",
       "      <td>1</td>\n",
       "    </tr>\n",
       "    <tr>\n",
       "      <th>2</th>\n",
       "      <td>800002</td>\n",
       "      <td>@DaRealSunisaKim Thanks for the Twitter add, S...</td>\n",
       "      <td>1</td>\n",
       "    </tr>\n",
       "    <tr>\n",
       "      <th>3</th>\n",
       "      <td>800003</td>\n",
       "      <td>Being sick can be really cheap when it hurts t...</td>\n",
       "      <td>1</td>\n",
       "    </tr>\n",
       "    <tr>\n",
       "      <th>4</th>\n",
       "      <td>800004</td>\n",
       "      <td>@LovesBrooklyn2 he has that effect on everyone</td>\n",
       "      <td>1</td>\n",
       "    </tr>\n",
       "    <tr>\n",
       "      <th>...</th>\n",
       "      <td>...</td>\n",
       "      <td>...</td>\n",
       "      <td>...</td>\n",
       "    </tr>\n",
       "    <tr>\n",
       "      <th>99995</th>\n",
       "      <td>51178</td>\n",
       "      <td>@tommertron Seriously! I've already read about...</td>\n",
       "      <td>0</td>\n",
       "    </tr>\n",
       "    <tr>\n",
       "      <th>99996</th>\n",
       "      <td>51179</td>\n",
       "      <td>@DazzleMeThis psshhtt, yea i reckon  =P</td>\n",
       "      <td>0</td>\n",
       "    </tr>\n",
       "    <tr>\n",
       "      <th>99997</th>\n",
       "      <td>51180</td>\n",
       "      <td>@tifkin Have you called to see about a refund ...</td>\n",
       "      <td>0</td>\n",
       "    </tr>\n",
       "    <tr>\n",
       "      <th>99998</th>\n",
       "      <td>51181</td>\n",
       "      <td>is sitting through a boring exam review sessio...</td>\n",
       "      <td>0</td>\n",
       "    </tr>\n",
       "    <tr>\n",
       "      <th>99999</th>\n",
       "      <td>51182</td>\n",
       "      <td>@wademealing it's a very bad situation  unfort...</td>\n",
       "      <td>0</td>\n",
       "    </tr>\n",
       "  </tbody>\n",
       "</table>\n",
       "<p>100000 rows × 3 columns</p>\n",
       "</div>"
      ],
      "text/plain": [
       "       Unnamed: 0                                               text  target\n",
       "0          800000       I LOVE @Health4UandPets u guys r the best!!        1\n",
       "1          800001  im meeting up with one of my besties tonight! ...       1\n",
       "2          800002  @DaRealSunisaKim Thanks for the Twitter add, S...       1\n",
       "3          800003  Being sick can be really cheap when it hurts t...       1\n",
       "4          800004    @LovesBrooklyn2 he has that effect on everyone        1\n",
       "...           ...                                                ...     ...\n",
       "99995       51178  @tommertron Seriously! I've already read about...       0\n",
       "99996       51179            @DazzleMeThis psshhtt, yea i reckon  =P       0\n",
       "99997       51180  @tifkin Have you called to see about a refund ...       0\n",
       "99998       51181  is sitting through a boring exam review sessio...       0\n",
       "99999       51182  @wademealing it's a very bad situation  unfort...       0\n",
       "\n",
       "[100000 rows x 3 columns]"
      ]
     },
     "execution_count": 70,
     "metadata": {
      "tags": []
     },
     "output_type": "execute_result"
    }
   ],
   "source": [
    "df\n"
   ]
  },
  {
   "cell_type": "code",
   "execution_count": null,
   "metadata": {
    "id": "Iulm4VERNXbB"
   },
   "outputs": [],
   "source": [
    "\n",
    "X = df['text']\n",
    "y = df['target']"
   ]
  },
  {
   "cell_type": "markdown",
   "metadata": {
    "id": "YWTQx1uMPGdP"
   },
   "source": [
    "## LSTM model"
   ]
  },
  {
   "cell_type": "code",
   "execution_count": null,
   "metadata": {
    "id": "Z2WaFKuXOpAd"
   },
   "outputs": [],
   "source": [
    "\n",
    "max_len=50\n",
    "vocabulary_size=20000\n",
    "numpy.random.seed(7)\n",
    "\n",
    "tokenizer = Tokenizer(num_words=vocabulary_size)\n",
    "tokenizer.fit_on_texts(X.to_list())\n",
    "X = tokenizer.texts_to_sequences(X.to_list())\n",
    "X = pad_sequences(X, maxlen=max_len)"
   ]
  },
  {
   "cell_type": "code",
   "execution_count": null,
   "metadata": {
    "colab": {
     "base_uri": "https://localhost:8080/"
    },
    "id": "_BbgJT2NOo95",
    "outputId": "66ea3cbb-a872-4f25-f8e8-598870021ffc"
   },
   "outputs": [
    {
     "data": {
      "text/plain": [
       "(100000, 50)"
      ]
     },
     "execution_count": 73,
     "metadata": {
      "tags": []
     },
     "output_type": "execute_result"
    }
   ],
   "source": [
    "X.shape"
   ]
  },
  {
   "cell_type": "code",
   "execution_count": null,
   "metadata": {
    "id": "Xnt_lrs4Oo6c"
   },
   "outputs": [],
   "source": [
    "X_train, X_test, y_train, y_test = train_test_split(X,y, test_size=0.2, random_state=42,stratify=y)"
   ]
  },
  {
   "cell_type": "markdown",
   "metadata": {
    "id": "6YmmMHhvwPNl"
   },
   "source": [
    "### run LSTM with fixed parameters"
   ]
  },
  {
   "cell_type": "code",
   "execution_count": null,
   "metadata": {
    "colab": {
     "base_uri": "https://localhost:8080/"
    },
    "id": "7dtFaMafOweH",
    "outputId": "2b22aff8-03bb-4042-b3fd-2c3fad8d1c8c"
   },
   "outputs": [
    {
     "name": "stdout",
     "output_type": "stream",
     "text": [
      "Model: \"sequential\"\n",
      "_________________________________________________________________\n",
      "Layer (type)                 Output Shape              Param #   \n",
      "=================================================================\n",
      "embedding (Embedding)        (None, 50, 30)            600000    \n",
      "_________________________________________________________________\n",
      "dropout (Dropout)            (None, 50, 30)            0         \n",
      "_________________________________________________________________\n",
      "lstm (LSTM)                  (None, 64)                24320     \n",
      "_________________________________________________________________\n",
      "dropout_1 (Dropout)          (None, 64)                0         \n",
      "_________________________________________________________________\n",
      "dense (Dense)                (None, 1)                 65        \n",
      "=================================================================\n",
      "Total params: 624,385\n",
      "Trainable params: 624,385\n",
      "Non-trainable params: 0\n",
      "_________________________________________________________________\n",
      "None\n"
     ]
    }
   ],
   "source": [
    "#build model\n",
    "keras.backend.clear_session()\n",
    "\n",
    "first_model = Sequential()\n",
    "first_model.add(Embedding(input_dim=vocabulary_size,\n",
    "                    output_dim=30,\n",
    "                    input_length=50),)\n",
    "first_model.add(Dropout(0.3))\n",
    "first_model.add(LSTM(64,dropout=0.3))\n",
    "first_model.add(Dropout(0.3))\n",
    "first_model.add(Dense(1, activation='sigmoid'))\n",
    "first_model.compile(loss='binary_crossentropy', optimizer='adam', metrics=['accuracy'])\n",
    "\n",
    "print(first_model.summary())\n"
   ]
  },
  {
   "cell_type": "code",
   "execution_count": null,
   "metadata": {
    "colab": {
     "base_uri": "https://localhost:8080/"
    },
    "id": "aq6yvtny90QU",
    "outputId": "a103c184-03bf-4a14-e735-bd5d88ef6f1c"
   },
   "outputs": [
    {
     "name": "stdout",
     "output_type": "stream",
     "text": [
      "Epoch 1/20\n",
      "313/313 [==============================] - 6s 14ms/step - loss: 0.6152 - accuracy: 0.6431 - val_loss: 0.4694 - val_accuracy: 0.7804\n",
      "Epoch 2/20\n",
      "313/313 [==============================] - 4s 12ms/step - loss: 0.4463 - accuracy: 0.7962 - val_loss: 0.4564 - val_accuracy: 0.7860\n",
      "Epoch 3/20\n",
      "313/313 [==============================] - 4s 12ms/step - loss: 0.4117 - accuracy: 0.8164 - val_loss: 0.4625 - val_accuracy: 0.7857\n",
      "Epoch 4/20\n",
      "313/313 [==============================] - 4s 12ms/step - loss: 0.3870 - accuracy: 0.8298 - val_loss: 0.4728 - val_accuracy: 0.7832\n",
      "Epoch 5/20\n",
      "313/313 [==============================] - 4s 12ms/step - loss: 0.3662 - accuracy: 0.8401 - val_loss: 0.4640 - val_accuracy: 0.7846\n",
      "Epoch 6/20\n",
      "313/313 [==============================] - 4s 13ms/step - loss: 0.3538 - accuracy: 0.8469 - val_loss: 0.4823 - val_accuracy: 0.7777\n",
      "Epoch 7/20\n",
      "313/313 [==============================] - 4s 12ms/step - loss: 0.3370 - accuracy: 0.8548 - val_loss: 0.4752 - val_accuracy: 0.7790\n",
      "Epoch 8/20\n",
      "313/313 [==============================] - 4s 12ms/step - loss: 0.3281 - accuracy: 0.8587 - val_loss: 0.4969 - val_accuracy: 0.7752\n",
      "Epoch 9/20\n",
      "313/313 [==============================] - 4s 12ms/step - loss: 0.3128 - accuracy: 0.8650 - val_loss: 0.5077 - val_accuracy: 0.7780\n",
      "Epoch 10/20\n",
      "313/313 [==============================] - 4s 12ms/step - loss: 0.2979 - accuracy: 0.8711 - val_loss: 0.5189 - val_accuracy: 0.7763\n",
      "Epoch 11/20\n",
      "313/313 [==============================] - 4s 12ms/step - loss: 0.2887 - accuracy: 0.8756 - val_loss: 0.5390 - val_accuracy: 0.7699\n",
      "Epoch 12/20\n",
      "313/313 [==============================] - 4s 12ms/step - loss: 0.2760 - accuracy: 0.8808 - val_loss: 0.5688 - val_accuracy: 0.7713\n",
      "Epoch 13/20\n",
      "313/313 [==============================] - 4s 12ms/step - loss: 0.2686 - accuracy: 0.8851 - val_loss: 0.5615 - val_accuracy: 0.7679\n",
      "Epoch 14/20\n",
      "313/313 [==============================] - 4s 12ms/step - loss: 0.2582 - accuracy: 0.8896 - val_loss: 0.6120 - val_accuracy: 0.7671\n",
      "Epoch 15/20\n",
      "313/313 [==============================] - 4s 12ms/step - loss: 0.2517 - accuracy: 0.8930 - val_loss: 0.6316 - val_accuracy: 0.7678\n",
      "Epoch 16/20\n",
      "313/313 [==============================] - 4s 12ms/step - loss: 0.2429 - accuracy: 0.8963 - val_loss: 0.6541 - val_accuracy: 0.7671\n",
      "Epoch 17/20\n",
      "313/313 [==============================] - 4s 12ms/step - loss: 0.2382 - accuracy: 0.8985 - val_loss: 0.6500 - val_accuracy: 0.7663\n",
      "Epoch 18/20\n",
      "313/313 [==============================] - 4s 13ms/step - loss: 0.2340 - accuracy: 0.8996 - val_loss: 0.6834 - val_accuracy: 0.7615\n",
      "Epoch 19/20\n",
      "313/313 [==============================] - 4s 12ms/step - loss: 0.2321 - accuracy: 0.9015 - val_loss: 0.6846 - val_accuracy: 0.7628\n",
      "Epoch 20/20\n",
      "313/313 [==============================] - 4s 12ms/step - loss: 0.2227 - accuracy: 0.9045 - val_loss: 0.7449 - val_accuracy: 0.7616\n"
     ]
    }
   ],
   "source": [
    "first_history=first_model.fit(X_train, y_train, validation_data=(X_test, y_test), epochs=20,batch_size= 256)\n"
   ]
  },
  {
   "cell_type": "code",
   "execution_count": null,
   "metadata": {
    "id": "_CVTLOaZOwbZ"
   },
   "outputs": [],
   "source": [
    "scores = first_model.predict(X_test)\n",
    "pred_test=np.where(scores>0.5,1,0)\n",
    "\n",
    "scores = first_model.predict(X_train)\n",
    "pred_train=np.where(scores>0.5,1,0)\n"
   ]
  },
  {
   "cell_type": "code",
   "execution_count": null,
   "metadata": {
    "colab": {
     "base_uri": "https://localhost:8080/"
    },
    "id": "fj9FrBOWG5KJ",
    "outputId": "e06de7a0-4992-4029-a802-605039969020"
   },
   "outputs": [
    {
     "name": "stdout",
     "output_type": "stream",
     "text": [
      "test accuracy score:   76.155\n",
      "\n",
      "              precision    recall  f1-score   support\n",
      "\n",
      "           0       0.75      0.78      0.77     10000\n",
      "           1       0.77      0.74      0.76     10000\n",
      "\n",
      "    accuracy                           0.76     20000\n",
      "   macro avg       0.76      0.76      0.76     20000\n",
      "weighted avg       0.76      0.76      0.76     20000\n",
      "\n"
     ]
    }
   ],
   "source": [
    "score = metrics.accuracy_score(y_test, pred_test)\n",
    "\n",
    "print(\"test accuracy score:   %0.3f\" % (score*100))\n",
    "print()\n",
    "print(metrics.classification_report(y_test, pred_test))"
   ]
  },
  {
   "cell_type": "code",
   "execution_count": null,
   "metadata": {
    "colab": {
     "base_uri": "https://localhost:8080/"
    },
    "id": "NYxDRIi1HDD9",
    "outputId": "1e12dce1-b402-40f7-8665-c491f0ac72c6"
   },
   "outputs": [
    {
     "name": "stdout",
     "output_type": "stream",
     "text": [
      "train accuracy score:   93.374\n",
      "\n",
      "              precision    recall  f1-score   support\n",
      "\n",
      "           0       0.92      0.95      0.93     40000\n",
      "           1       0.95      0.92      0.93     40000\n",
      "\n",
      "    accuracy                           0.93     80000\n",
      "   macro avg       0.93      0.93      0.93     80000\n",
      "weighted avg       0.93      0.93      0.93     80000\n",
      "\n"
     ]
    }
   ],
   "source": [
    "score = metrics.accuracy_score(y_train, pred_train)\n",
    "print(\"train accuracy score:   %0.3f\" % (score*100))\n",
    "print()\n",
    "print(metrics.classification_report(y_train, pred_train))"
   ]
  },
  {
   "cell_type": "code",
   "execution_count": null,
   "metadata": {
    "colab": {
     "base_uri": "https://localhost:8080/",
     "height": 295
    },
    "id": "OECUpHRzS0HO",
    "outputId": "608fa49a-560c-4b1d-8048-46b3d2859509"
   },
   "outputs": [
    {
     "data": {
      "image/png": "[encoded data removed]",
      "text/plain": [
       "<Figure size 432x288 with 2 Axes>"
      ]
     },
     "metadata": {
      "needs_background": "light",
      "tags": []
     },
     "output_type": "display_data"
    }
   ],
   "source": [
    "cnf_matrix = metrics.confusion_matrix(y_test, pred_test)\n",
    "ax= plt.subplot()\n",
    "sns.heatmap(cnf_matrix, annot=True, ax = ax,cmap='Blues', fmt='g'); #annot=True to annotate cells\n",
    "\n",
    "ax.set_xlabel('Predicted labels');ax.set_ylabel('True labels'); \n",
    "ax.set_title('Confusion Matrix'); \n",
    "ax.xaxis.set_ticklabels(['Negative', 'Positive']); ax.yaxis.set_ticklabels(['Negative', 'Positive']);\n",
    "\n"
   ]
  },
  {
   "cell_type": "code",
   "execution_count": null,
   "metadata": {
    "colab": {
     "base_uri": "https://localhost:8080/",
     "height": 281
    },
    "id": "3xduCP7-A-gK",
    "outputId": "d12d3209-8479-44fa-c65d-ef7322fbe441"
   },
   "outputs": [
    {
     "data": {
      "image/png": "[encoded data removed]",
      "text/plain": [
       "<Figure size 432x288 with 1 Axes>"
      ]
     },
     "metadata": {
      "needs_background": "light",
      "tags": []
     },
     "output_type": "display_data"
    }
   ],
   "source": [
    "plt.plot(first_history.history['accuracy'], label='train')\n",
    "plt.plot(first_history.history['val_accuracy'], label='test')\n",
    "plt.title('model accuracy')\n",
    "plt.legend(loc='upper left')\n",
    "plt.show()"
   ]
  },
  {
   "cell_type": "code",
   "execution_count": null,
   "metadata": {
    "id": "xsCJvSgvG9lz"
   },
   "outputs": [],
   "source": []
  },
  {
   "cell_type": "code",
   "execution_count": null,
   "metadata": {
    "colab": {
     "base_uri": "https://localhost:8080/",
     "height": 295
    },
    "id": "O80UzlcwBDDY",
    "outputId": "0bcc0d1b-b426-401d-8a60-e15134d6d274"
   },
   "outputs": [
    {
     "data": {
      "image/png": "[encoded data removed]",
      "text/plain": [
       "<Figure size 432x288 with 1 Axes>"
      ]
     },
     "metadata": {
      "needs_background": "light",
      "tags": []
     },
     "output_type": "display_data"
    }
   ],
   "source": [
    "plt.plot(first_history.history['loss'])\n",
    "plt.plot(first_history.history['val_loss'])\n",
    "plt.title('model loss')\n",
    "plt.ylabel('loss')\n",
    "plt.xlabel('epoch')\n",
    "plt.legend(['train', 'test'], loc='upper left')\n",
    "plt.show()"
   ]
  },
  {
   "cell_type": "markdown",
   "metadata": {
    "id": "5K1HCCFCzeDc"
   },
   "source": [
    "### parameter tunning for LSTM"
   ]
  },
  {
   "cell_type": "code",
   "execution_count": null,
   "metadata": {
    "colab": {
     "base_uri": "https://localhost:8080/"
    },
    "id": "JV7QZCuEyN1i",
    "outputId": "83705b6f-bc98-494f-cfdb-1b94d47a9175"
   },
   "outputs": [
    {
     "name": "stdout",
     "output_type": "stream",
     "text": [
      "Fitting 3 folds for each of 144 candidates, totalling 432 fits\n"
     ]
    },
    {
     "name": "stderr",
     "output_type": "stream",
     "text": [
      "[Parallel(n_jobs=-1)]: Using backend LokyBackend with 2 concurrent workers.\n",
      "[Parallel(n_jobs=-1)]: Done   1 tasks      | elapsed:   16.7s\n",
      "[Parallel(n_jobs=-1)]: Done   4 tasks      | elapsed:   27.6s\n",
      "[Parallel(n_jobs=-1)]: Done   9 tasks      | elapsed:   59.5s\n",
      "[Parallel(n_jobs=-1)]: Done  14 tasks      | elapsed:  1.4min\n",
      "[Parallel(n_jobs=-1)]: Done  21 tasks      | elapsed:  2.1min\n",
      "[Parallel(n_jobs=-1)]: Done  28 tasks      | elapsed:  2.6min\n",
      "[Parallel(n_jobs=-1)]: Done  37 tasks      | elapsed:  3.6min\n",
      "[Parallel(n_jobs=-1)]: Done  46 tasks      | elapsed:  4.3min\n",
      "[Parallel(n_jobs=-1)]: Done  57 tasks      | elapsed:  5.4min\n",
      "[Parallel(n_jobs=-1)]: Done  68 tasks      | elapsed:  6.3min\n",
      "[Parallel(n_jobs=-1)]: Done  81 tasks      | elapsed:  7.6min\n",
      "[Parallel(n_jobs=-1)]: Done  94 tasks      | elapsed:  8.7min\n",
      "[Parallel(n_jobs=-1)]: Done 109 tasks      | elapsed: 10.2min\n",
      "[Parallel(n_jobs=-1)]: Done 124 tasks      | elapsed: 11.5min\n",
      "[Parallel(n_jobs=-1)]: Done 141 tasks      | elapsed: 13.2min\n",
      "[Parallel(n_jobs=-1)]: Done 158 tasks      | elapsed: 14.7min\n",
      "[Parallel(n_jobs=-1)]: Done 177 tasks      | elapsed: 16.5min\n",
      "[Parallel(n_jobs=-1)]: Done 196 tasks      | elapsed: 18.1min\n",
      "[Parallel(n_jobs=-1)]: Done 217 tasks      | elapsed: 20.1min\n",
      "[Parallel(n_jobs=-1)]: Done 238 tasks      | elapsed: 21.3min\n",
      "[Parallel(n_jobs=-1)]: Done 261 tasks      | elapsed: 22.8min\n",
      "[Parallel(n_jobs=-1)]: Done 284 tasks      | elapsed: 24.1min\n",
      "[Parallel(n_jobs=-1)]: Done 309 tasks      | elapsed: 25.7min\n",
      "[Parallel(n_jobs=-1)]: Done 334 tasks      | elapsed: 27.2min\n",
      "[Parallel(n_jobs=-1)]: Done 361 tasks      | elapsed: 29.0min\n",
      "[Parallel(n_jobs=-1)]: Done 388 tasks      | elapsed: 30.6min\n",
      "[Parallel(n_jobs=-1)]: Done 417 tasks      | elapsed: 32.4min\n",
      "[Parallel(n_jobs=-1)]: Done 432 out of 432 | elapsed: 33.3min finished\n"
     ]
    },
    {
     "name": "stdout",
     "output_type": "stream",
     "text": [
      "625/625 - 7s - loss: 0.5077 - accuracy: 0.7492\n"
     ]
    }
   ],
   "source": [
    "# Use scikit-learn to grid search the batch size and epochs\n",
    "from sklearn.model_selection import GridSearchCV\n",
    "from keras.wrappers.scikit_learn import KerasClassifier\n",
    "\n",
    "def create_model(optimizer='adam',dropout_rate=0.3,input_len=50, out_dim=30):\n",
    "  model = Sequential()\n",
    "  model.add(Embedding(input_dim=vocabulary_size,\n",
    "                      output_dim=30,\n",
    "                      input_length=50),)\n",
    "  model.add(Dropout(dropout_rate))\n",
    "  model.add(LSTM(64,dropout=dropout_rate))\n",
    "  model.add(Dropout(dropout_rate))\n",
    "  model.add(Dense(1, activation='sigmoid'))\n",
    "  model.compile(loss='binary_crossentropy', optimizer=optimizer, metrics=['accuracy'])\n",
    "  return model\n",
    "\n",
    "\n",
    "# create model\n",
    "model = KerasClassifier(build_fn=create_model, verbose=2)\n",
    "# define the grid search parameters\n",
    "#optimizer = ['SGD', 'RMSprop','Adam', 'Adamax', 'Nadam']\n",
    "epochs = [10,20] \n",
    "batches = [128 ,256] \n",
    "dropout_rate = [0.0, 0.1, 0.2, 0.4]\n",
    "input_lengths=[100,50, 30]\n",
    "output_dim=[100,50,30]\n",
    "param_grid = dict(nb_epoch=epochs, batch_size=batches,dropout_rate=dropout_rate,input_len=input_lengths, out_dim=output_dim)\n",
    "grid = GridSearchCV(estimator=model, param_grid=param_grid, n_jobs=-1, cv=3, verbose=10)\n",
    "\n",
    "grid_result = grid.fit(X_train, y_train)\n",
    "#print(grid_re)\n",
    "#pickle.dump(grid_result, open(\"/content/drive/My Drive/keras-cls\", \"wb\"))\n",
    "\n"
   ]
  },
  {
   "cell_type": "code",
   "execution_count": null,
   "metadata": {
    "colab": {
     "base_uri": "https://localhost:8080/"
    },
    "id": "DKQJNx6VEWL3",
    "outputId": "60fd6d20-cabb-4682-d024-61fc0ac3ab9a"
   },
   "outputs": [
    {
     "name": "stdout",
     "output_type": "stream",
     "text": [
      "0.7808374961217245\n",
      "{'batch_size': 128, 'dropout_rate': 0.0, 'input_len': 50, 'nb_epoch': 20, 'out_dim': 30}\n"
     ]
    }
   ],
   "source": [
    "print(grid_result.best_score_)\n",
    "print(grid_result.best_params_)"
   ]
  },
  {
   "cell_type": "code",
   "execution_count": null,
   "metadata": {
    "colab": {
     "base_uri": "https://localhost:8080/"
    },
    "id": "dB-QS8Pizv-W",
    "outputId": "3c69498f-a557-4635-e9bc-d80ecb4cabff"
   },
   "outputs": [
    {
     "name": "stdout",
     "output_type": "stream",
     "text": [
      "Epoch 1/20\n",
      "625/625 [==============================] - 9s 12ms/step - loss: 0.5650 - accuracy: 0.6976 - val_loss: 0.4592 - val_accuracy: 0.7847\n",
      "Epoch 2/20\n",
      "625/625 [==============================] - 7s 11ms/step - loss: 0.4106 - accuracy: 0.8173 - val_loss: 0.4587 - val_accuracy: 0.7811\n",
      "Epoch 3/20\n",
      "625/625 [==============================] - 7s 10ms/step - loss: 0.3691 - accuracy: 0.8390 - val_loss: 0.4699 - val_accuracy: 0.7810\n",
      "Epoch 4/20\n",
      "625/625 [==============================] - 7s 11ms/step - loss: 0.3316 - accuracy: 0.8562 - val_loss: 0.4903 - val_accuracy: 0.7786\n",
      "Epoch 5/20\n",
      "625/625 [==============================] - 7s 11ms/step - loss: 0.2908 - accuracy: 0.8766 - val_loss: 0.5220 - val_accuracy: 0.7760\n",
      "Epoch 6/20\n",
      "625/625 [==============================] - 7s 11ms/step - loss: 0.2527 - accuracy: 0.8932 - val_loss: 0.6278 - val_accuracy: 0.7678\n",
      "Epoch 7/20\n",
      "625/625 [==============================] - 7s 11ms/step - loss: 0.2181 - accuracy: 0.9093 - val_loss: 0.7102 - val_accuracy: 0.7649\n",
      "Epoch 8/20\n",
      "625/625 [==============================] - 7s 11ms/step - loss: 0.1850 - accuracy: 0.9231 - val_loss: 0.8404 - val_accuracy: 0.7599\n",
      "Epoch 9/20\n",
      "625/625 [==============================] - 7s 11ms/step - loss: 0.1622 - accuracy: 0.9324 - val_loss: 0.8428 - val_accuracy: 0.7566\n",
      "Epoch 10/20\n",
      "625/625 [==============================] - 7s 11ms/step - loss: 0.1411 - accuracy: 0.9446 - val_loss: 0.9283 - val_accuracy: 0.7487\n",
      "Epoch 11/20\n",
      "625/625 [==============================] - 7s 11ms/step - loss: 0.1259 - accuracy: 0.9492 - val_loss: 1.0349 - val_accuracy: 0.7415\n",
      "Epoch 12/20\n",
      "625/625 [==============================] - 7s 11ms/step - loss: 0.1117 - accuracy: 0.9554 - val_loss: 1.1064 - val_accuracy: 0.7413\n",
      "Epoch 13/20\n",
      "625/625 [==============================] - 7s 11ms/step - loss: 0.0987 - accuracy: 0.9611 - val_loss: 1.2186 - val_accuracy: 0.7426\n",
      "Epoch 14/20\n",
      "625/625 [==============================] - 7s 11ms/step - loss: 0.0899 - accuracy: 0.9639 - val_loss: 1.3206 - val_accuracy: 0.7427\n",
      "Epoch 15/20\n",
      "625/625 [==============================] - 7s 11ms/step - loss: 0.0811 - accuracy: 0.9685 - val_loss: 1.4242 - val_accuracy: 0.7407\n",
      "Epoch 16/20\n",
      "625/625 [==============================] - 7s 11ms/step - loss: 0.0719 - accuracy: 0.9728 - val_loss: 1.4971 - val_accuracy: 0.7404\n",
      "Epoch 17/20\n",
      "625/625 [==============================] - 7s 11ms/step - loss: 0.0676 - accuracy: 0.9731 - val_loss: 1.6159 - val_accuracy: 0.7394\n",
      "Epoch 18/20\n",
      "625/625 [==============================] - 7s 11ms/step - loss: 0.0632 - accuracy: 0.9753 - val_loss: 1.6074 - val_accuracy: 0.7368\n",
      "Epoch 19/20\n",
      "625/625 [==============================] - 7s 11ms/step - loss: 0.0577 - accuracy: 0.9777 - val_loss: 1.6511 - val_accuracy: 0.7419\n",
      "Epoch 20/20\n",
      "625/625 [==============================] - 7s 12ms/step - loss: 0.0559 - accuracy: 0.9788 - val_loss: 1.7795 - val_accuracy: 0.7406\n"
     ]
    }
   ],
   "source": [
    "#run the best model\n",
    "#optimizer='adam',dropout_rate=0.3, input_len= 50, out_dim=30\n",
    "\n",
    "best_lstm= create_model(dropout_rate=grid_result.best_params_['dropout_rate'],input_len=grid_result.best_params_['input_len'], out_dim=grid_result.best_params_['out_dim'])\n",
    "best_hist=best_lstm.fit(X_train, y_train, validation_data=(X_test, y_test), epochs=grid_result.best_params_['nb_epoch'],batch_size= grid_result.best_params_['batch_size'])\n",
    "\n"
   ]
  },
  {
   "cell_type": "code",
   "execution_count": null,
   "metadata": {
    "id": "LALuyFQBLa_O"
   },
   "outputs": [],
   "source": [
    "# Final evaluation of the model\n",
    "scores = best_lstm.predict(X_test)\n",
    "y_pred=np.where(scores>0.5,1,0)\n"
   ]
  },
  {
   "cell_type": "code",
   "execution_count": null,
   "metadata": {
    "colab": {
     "base_uri": "https://localhost:8080/"
    },
    "id": "Dx4PZtYCGHW0",
    "outputId": "59fd2cc9-f8e6-4a06-a9db-68c5c0b5c7f3"
   },
   "outputs": [
    {
     "name": "stdout",
     "output_type": "stream",
     "text": [
      "test accuracy score:   74.065\n",
      "\n",
      "              precision    recall  f1-score   support\n",
      "\n",
      "           0       0.74      0.74      0.74     10000\n",
      "           1       0.74      0.74      0.74     10000\n",
      "\n",
      "    accuracy                           0.74     20000\n",
      "   macro avg       0.74      0.74      0.74     20000\n",
      "weighted avg       0.74      0.74      0.74     20000\n",
      "\n"
     ]
    }
   ],
   "source": [
    "score = metrics.accuracy_score(y_test, y_pred)\n",
    "\n",
    "print(\"test accuracy score:   %0.3f\" % (score*100))\n",
    "print()\n",
    "print(metrics.classification_report(y_test, y_pred))"
   ]
  },
  {
   "cell_type": "code",
   "execution_count": null,
   "metadata": {
    "colab": {
     "base_uri": "https://localhost:8080/"
    },
    "id": "_8XqVCc_GZ3i",
    "outputId": "6ee9f28d-df44-4f4a-9302-eab349b361a6"
   },
   "outputs": [
    {
     "name": "stdout",
     "output_type": "stream",
     "text": [
      "train accuracy score:   98.345\n",
      "\n",
      "              precision    recall  f1-score   support\n",
      "\n",
      "           0       0.98      0.98      0.98     40000\n",
      "           1       0.98      0.98      0.98     40000\n",
      "\n",
      "    accuracy                           0.98     80000\n",
      "   macro avg       0.98      0.98      0.98     80000\n",
      "weighted avg       0.98      0.98      0.98     80000\n",
      "\n"
     ]
    }
   ],
   "source": [
    "scores = best_lstm.predict(X_train)\n",
    "pred_train=np.where(scores>0.5,1,0)\n",
    "\n",
    "score = metrics.accuracy_score(y_train, pred_train)\n",
    "print(\"train accuracy score:   %0.3f\" % (score*100))\n",
    "print()\n",
    "print(metrics.classification_report(y_train, pred_train))\n",
    "\n",
    "\n"
   ]
  },
  {
   "cell_type": "code",
   "execution_count": null,
   "metadata": {
    "colab": {
     "base_uri": "https://localhost:8080/",
     "height": 281
    },
    "id": "dpsI-YxsMAtG",
    "outputId": "856e0396-3c32-42bb-9ca2-f435f19c4359"
   },
   "outputs": [
    {
     "data": {
      "image/png": "[encoded data removed]",
      "text/plain": [
       "<Figure size 432x288 with 1 Axes>"
      ]
     },
     "metadata": {
      "needs_background": "light",
      "tags": []
     },
     "output_type": "display_data"
    }
   ],
   "source": [
    "plt.plot(best_hist.history['accuracy'], label='train')\n",
    "plt.plot(best_hist.history['val_accuracy'], label='test')\n",
    "plt.title('model accuracy')\n",
    "plt.legend(loc='upper left')\n",
    "plt.show()"
   ]
  },
  {
   "cell_type": "markdown",
   "metadata": {
    "id": "6Il29Wp7O_WU"
   },
   "source": [
    "## Machine learning algorithm -SVM\n",
    "\n"
   ]
  },
  {
   "cell_type": "code",
   "execution_count": null,
   "metadata": {
    "id": "EcxIFjiGOoz0"
   },
   "outputs": [],
   "source": [
    "X = df['text']\n",
    "y = df['target']\n",
    "\n",
    "# same train and test from question 2\n",
    "\n",
    "X_train, X_test, y_train, y_test =train_test_split(X, y, test_size=0.2, random_state=42,stratify=y)\n",
    "\n"
   ]
  },
  {
   "cell_type": "markdown",
   "metadata": {
    "id": "EKSkdWk92acM"
   },
   "source": [
    "### run SVM with no parameters\n"
   ]
  },
  {
   "cell_type": "code",
   "execution_count": null,
   "metadata": {
    "id": "slhqD2YxO7P2"
   },
   "outputs": [],
   "source": [
    "\n",
    "#TF-IDF\n",
    "tf_vec = TfidfVectorizer(ngram_range=(1,1))\n",
    "X_train_tf = tf_vec.fit_transform(X_train)\n",
    "X_test_tf=tf_vec.transform(X_test)"
   ]
  },
  {
   "cell_type": "code",
   "execution_count": null,
   "metadata": {
    "colab": {
     "base_uri": "https://localhost:8080/"
    },
    "id": "fn0n9YwyO7MM",
    "outputId": "6894a97f-27e3-4924-8e0e-cf6556705635"
   },
   "outputs": [
    {
     "name": "stdout",
     "output_type": "stream",
     "text": [
      "test accuracy score:   77.780\n",
      "\n",
      "              precision    recall  f1-score   support\n",
      "\n",
      "           0       0.79      0.76      0.77     10000\n",
      "           1       0.77      0.80      0.78     10000\n",
      "\n",
      "    accuracy                           0.78     20000\n",
      "   macro avg       0.78      0.78      0.78     20000\n",
      "weighted avg       0.78      0.78      0.78     20000\n",
      "\n"
     ]
    }
   ],
   "source": [
    "\n",
    "\n",
    "svm= SGDClassifier(random_state=42, alpha=0.0001)\n",
    "svm.fit(X_train_tf, y_train)\n",
    "pred_test = svm.predict(X_test_tf)\n",
    "pred_train = svm.predict(X_train_tf)\n",
    "\n",
    "\n",
    "score = metrics.accuracy_score(y_test, pred_test)\n",
    "\n",
    "print(\"test accuracy score:   %0.3f\" % (score*100))\n",
    "print()\n",
    "print(metrics.classification_report(y_test, pred_test))\n",
    "\n"
   ]
  },
  {
   "cell_type": "code",
   "execution_count": null,
   "metadata": {
    "colab": {
     "base_uri": "https://localhost:8080/"
    },
    "id": "Roayp34T7Opw",
    "outputId": "7ed9f084-0085-4119-eac2-73748fc43b5b"
   },
   "outputs": [
    {
     "name": "stdout",
     "output_type": "stream",
     "text": [
      "train accuracy score:   80.041\n",
      "\n",
      "              precision    recall  f1-score   support\n",
      "\n",
      "           0       0.82      0.77      0.79     40000\n",
      "           1       0.79      0.83      0.81     40000\n",
      "\n",
      "    accuracy                           0.80     80000\n",
      "   macro avg       0.80      0.80      0.80     80000\n",
      "weighted avg       0.80      0.80      0.80     80000\n",
      "\n"
     ]
    }
   ],
   "source": [
    "score = metrics.accuracy_score(y_train, pred_train)\n",
    "print(\"train accuracy score:   %0.3f\" % (score*100))\n",
    "print()\n",
    "print(metrics.classification_report(y_train, pred_train))\n",
    "\n",
    "\n"
   ]
  },
  {
   "cell_type": "code",
   "execution_count": null,
   "metadata": {
    "colab": {
     "base_uri": "https://localhost:8080/",
     "height": 296
    },
    "id": "kiA2tZ_9Pcyk",
    "outputId": "83196250-c8aa-4493-9bce-56c5f647d51f"
   },
   "outputs": [
    {
     "data": {
      "text/plain": [
       "<sklearn.metrics._plot.confusion_matrix.ConfusionMatrixDisplay at 0x7f94a20c31d0>"
      ]
     },
     "execution_count": 59,
     "metadata": {
      "tags": []
     },
     "output_type": "execute_result"
    },
    {
     "data": {
      "image/png": "[encoded data removed]",
      "text/plain": [
       "<Figure size 432x288 with 2 Axes>"
      ]
     },
     "metadata": {
      "needs_background": "light",
      "tags": []
     },
     "output_type": "display_data"
    }
   ],
   "source": [
    "from sklearn.metrics import plot_confusion_matrix\n",
    "class_names = ['Negative', 'Positive']\n",
    "plot_confusion_matrix(svm, X_test_tf, y_test,display_labels=class_names,normalize=None, values_format = '.0f',cmap=plt.cm.Blues)"
   ]
  },
  {
   "cell_type": "markdown",
   "metadata": {
    "id": "KOXHDpNq17RG"
   },
   "source": [
    "### parameter tunning for SVM"
   ]
  },
  {
   "cell_type": "code",
   "execution_count": null,
   "metadata": {
    "colab": {
     "base_uri": "https://localhost:8080/"
    },
    "id": "kWclz3waodPv",
    "outputId": "90146300-b295-4e12-bd4c-5b773eb662af"
   },
   "outputs": [
    {
     "name": "stdout",
     "output_type": "stream",
     "text": [
      "Best score:  0.7875625\n",
      "Best params:  {'clf__alpha': 1e-05, 'clf__loss': 'log', 'vect__max_df': 0.4, 'vect__max_features': 20000, 'vect__ngram_range': (1, 2)}\n"
     ]
    }
   ],
   "source": [
    "import os\n",
    "import pickle\n",
    "\n",
    "cv_params = {'vect__max_df': (0.4,0.5,0.6,0.7,0.8,0.9),\n",
    "              'vect__max_features':(20000,10000),\n",
    "              'vect__ngram_range': ((1, 1), (1, 2)),\n",
    "              'clf__alpha': (0.00001, 0.0001, 0.001),\n",
    "              'clf__loss' : (\"hinge\", \"log\", \"squared_hinge\", \"modified_huber\"),\n",
    "             }\n",
    "\n",
    "def run_model():\n",
    "    pipeline = Pipeline([('vect', TfidfVectorizer()), ('clf', SGDClassifier(random_state=42))])\n",
    "    model = GridSearchCV(pipeline, cv_params, n_jobs=-1, scoring='accuracy', verbose=10)\n",
    "    model = model.fit(X_train.tolist(), y_train.tolist())\n",
    "    return model\n",
    "\n",
    "try:\n",
    "  svm_best= pickle.load(open(\"/content/drive/My Drive/svm_classifier\", \"rb\"))\n",
    "except:\n",
    "  svm_best= run_model()\n",
    "  pickle.dump(svm_best, open(\"/content/drive/My Drive/svm_classifier\", \"wb\"))\n",
    "\n",
    "print('Best score: ', svm_best.best_score_)\n",
    "print('Best params: ', svm_best.best_params_)   "
   ]
  },
  {
   "cell_type": "code",
   "execution_count": null,
   "metadata": {
    "colab": {
     "base_uri": "https://localhost:8080/"
    },
    "id": "Zzb7ds5cpdSG",
    "outputId": "0588fc80-b68c-4bea-9411-eddefa327ca9"
   },
   "outputs": [
    {
     "name": "stdout",
     "output_type": "stream",
     "text": [
      "test accuracy score:   79.075\n",
      "\n",
      "              precision    recall  f1-score   support\n",
      "\n",
      "           0       0.80      0.78      0.79     10000\n",
      "           1       0.78      0.80      0.79     10000\n",
      "\n",
      "    accuracy                           0.79     20000\n",
      "   macro avg       0.79      0.79      0.79     20000\n",
      "weighted avg       0.79      0.79      0.79     20000\n",
      "\n"
     ]
    }
   ],
   "source": [
    " #calculate accuracy score     \n",
    "test_prediction = svm_best.predict(X_test.tolist())\n",
    "\n",
    "\n",
    "score = metrics.accuracy_score(y_test, test_prediction)\n",
    "print(\"test accuracy score:   %0.3f\" % (score*100))\n",
    "print()\n",
    "print(metrics.classification_report(y_test, test_prediction))\n"
   ]
  },
  {
   "cell_type": "code",
   "execution_count": null,
   "metadata": {
    "colab": {
     "base_uri": "https://localhost:8080/"
    },
    "id": "oSVVW57u550r",
    "outputId": "5b25bb96-ddcc-4977-f0af-06faf9be13dd"
   },
   "outputs": [
    {
     "name": "stdout",
     "output_type": "stream",
     "text": [
      "train accuracy score:   84.305\n",
      "\n",
      "              precision    recall  f1-score   support\n",
      "\n",
      "           0       0.85      0.84      0.84     40000\n",
      "           1       0.84      0.85      0.84     40000\n",
      "\n",
      "    accuracy                           0.84     80000\n",
      "   macro avg       0.84      0.84      0.84     80000\n",
      "weighted avg       0.84      0.84      0.84     80000\n",
      "\n"
     ]
    }
   ],
   "source": [
    "train_prediction = svm_best.predict(X_train.tolist())\n",
    "score = metrics.accuracy_score(y_train, train_prediction)\n",
    "print(\"train accuracy score:   %0.3f\" % (score*100))\n",
    "print()\n",
    "print(metrics.classification_report(y_train, train_prediction))"
   ]
  },
  {
   "cell_type": "code",
   "execution_count": null,
   "metadata": {
    "colab": {
     "base_uri": "https://localhost:8080/",
     "height": 299
    },
    "id": "Y-zZ4q9IPcvg",
    "outputId": "ee679038-ac11-4db7-d4a2-334145673b01"
   },
   "outputs": [
    {
     "data": {
      "text/plain": [
       "<sklearn.metrics._plot.confusion_matrix.ConfusionMatrixDisplay at 0x7f950de48cc0>"
      ]
     },
     "execution_count": 66,
     "metadata": {
      "tags": []
     },
     "output_type": "execute_result"
    },
    {
     "data": {
      "image/png": "[encoded data removed]",
      "text/plain": [
       "<Figure size 432x288 with 2 Axes>"
      ]
     },
     "metadata": {
      "needs_background": "light",
      "tags": []
     },
     "output_type": "display_data"
    }
   ],
   "source": [
    "from sklearn.metrics import plot_confusion_matrix\n",
    "class_names = ['Negative', 'Positive']\n",
    "plot_confusion_matrix(svm_best, X_test, y_test,display_labels=class_names,normalize=None, values_format = '.0f',cmap=plt.cm.Blues)"
   ]
  },
  {
   "cell_type": "markdown",
   "metadata": {
    "id": "ZBeqoj6qqSZp"
   },
   "source": [
    "# Q3"
   ]
  },
  {
   "cell_type": "markdown",
   "metadata": {
    "id": "2Y7Nb7InBEEz"
   },
   "source": [
    "## collect 15,000 tweets from Twitter about covid19"
   ]
  },
  {
   "cell_type": "code",
   "execution_count": null,
   "metadata": {
    "colab": {
     "base_uri": "https://localhost:8080/"
    },
    "id": "tIPzkiPsKdCo",
    "outputId": "4b86e234-9043-4962-c449-dfe71dee3641"
   },
   "outputs": [
    {
     "name": "stdout",
     "output_type": "stream",
     "text": [
      "Requirement already satisfied: tweepy in /usr/local/lib/python3.6/dist-packages (3.6.0)\n",
      "Requirement already satisfied: six>=1.10.0 in /usr/local/lib/python3.6/dist-packages (from tweepy) (1.15.0)\n",
      "Requirement already satisfied: requests-oauthlib>=0.7.0 in /usr/local/lib/python3.6/dist-packages (from tweepy) (1.3.0)\n",
      "Requirement already satisfied: requests>=2.11.1 in /usr/local/lib/python3.6/dist-packages (from tweepy) (2.23.0)\n",
      "Requirement already satisfied: PySocks>=1.5.7 in /usr/local/lib/python3.6/dist-packages (from tweepy) (1.7.1)\n",
      "Requirement already satisfied: oauthlib>=3.0.0 in /usr/local/lib/python3.6/dist-packages (from requests-oauthlib>=0.7.0->tweepy) (3.1.0)\n",
      "Requirement already satisfied: idna<3,>=2.5 in /usr/local/lib/python3.6/dist-packages (from requests>=2.11.1->tweepy) (2.10)\n",
      "Requirement already satisfied: chardet<4,>=3.0.2 in /usr/local/lib/python3.6/dist-packages (from requests>=2.11.1->tweepy) (3.0.4)\n",
      "Requirement already satisfied: certifi>=2017.4.17 in /usr/local/lib/python3.6/dist-packages (from requests>=2.11.1->tweepy) (2020.12.5)\n",
      "Requirement already satisfied: urllib3!=1.25.0,!=1.25.1,<1.26,>=1.21.1 in /usr/local/lib/python3.6/dist-packages (from requests>=2.11.1->tweepy) (1.24.3)\n"
     ]
    }
   ],
   "source": [
    "!pip3 install tweepy"
   ]
  },
  {
   "cell_type": "code",
   "execution_count": null,
   "metadata": {
    "id": "SUvn6o_fQAja"
   },
   "outputs": [],
   "source": [
    "import tweepy\n",
    "from tweepy import OAuthHandler\n",
    "\n",
    "consumer_key = 'rxYitNjUALeBSYVhStVXY1y5O'\n",
    "consumer_secret = 'ZmxahUlNpw24m5yZEe2wqeWFMs6chiuPo7hV4aATwtSMNewnYR'\n",
    "access_token = '1348193068047101953-3Xfwbuhf94B6EiH3Rj16G1g1ri1Ff0'\n",
    "access_secret = 'NFVoDqtpG9uyXm1vWIH2U5ZFmpOdiY9W1gYyvcIu7y4fd'\n",
    "\n",
    "auth = OAuthHandler(consumer_key,consumer_secret)\n",
    "auth.set_access_token(access_token,access_secret)\n",
    "auth = tweepy.OAuthHandler(consumer_key, consumer_secret)\n",
    "auth.set_access_token(access_token, access_secret)\n",
    "\n",
    "api = tweepy.API(auth)"
   ]
  },
  {
   "cell_type": "code",
   "execution_count": null,
   "metadata": {
    "id": "rOZazM68FipC"
   },
   "outputs": [],
   "source": [
    "import tweepy\n",
    "import time\n",
    "#override tweepy.StreamListener to add logic to on_status\n",
    "class MyStreamListener(tweepy.StreamListener):\n",
    "  def __init__(self, time_limit=60):\n",
    "        self.start_time = time.time()\n",
    "        self.limit = time_limit\n",
    "        super(MyStreamListener, self).__init__()\n",
    "\n",
    "  def on_data(self, data):\n",
    "        try:\n",
    "          if (time.time() - self.start_time) < self.limit:\n",
    "            with open('covid_1102.json', 'a') as f:\n",
    "                f.write(data)\n",
    "                return True\n",
    "          else:\n",
    "            return False  \n",
    "\n",
    "        except BaseException as e:\n",
    "            print(\"Error on_data: %s\" % str(e))\n",
    "        return True\n",
    "        \n",
    "  def on_error(self, status):\n",
    "        print(status)\n",
    "        return True"
   ]
  },
  {
   "cell_type": "code",
   "execution_count": null,
   "metadata": {
    "id": "4sSqQWjoFlj9"
   },
   "outputs": [],
   "source": [
    "myStreamListener = MyStreamListener(time_limit=30*60)\n",
    "# time limit in seconds\n",
    "myStream = tweepy.Stream(auth = api.auth, listener=myStreamListener, timeout=60)"
   ]
  },
  {
   "cell_type": "code",
   "execution_count": null,
   "metadata": {
    "id": "eTDs0y5OFos_"
   },
   "outputs": [],
   "source": [
    "myStream.filter(languages=[\"en\"], track=['covid'])"
   ]
  },
  {
   "cell_type": "markdown",
   "metadata": {
    "id": "WDrwyfo8MN9A"
   },
   "source": [
    "## build tweet dataframe and do pre-processing"
   ]
  },
  {
   "cell_type": "code",
   "execution_count": null,
   "metadata": {
    "colab": {
     "base_uri": "https://localhost:8080/"
    },
    "id": "4JEte70GMRmP",
    "outputId": "7ee11290-8556-4160-ab92-9cc42da74817"
   },
   "outputs": [
    {
     "name": "stdout",
     "output_type": "stream",
     "text": [
      "/content/drive/My Drive/covid_0802.json\n",
      "{'limit': {'track': 3, 'timestamp_ms': '1612799552697'}}\n",
      "{'limit': {'track': 15, 'timestamp_ms': '1612800096113'}}\n",
      "/content/drive/My Drive/covid_0902.json\n",
      "/content/drive/My Drive/covid_1002.json\n",
      "/content/drive/My Drive/covid_1102.json\n",
      "{'limit': {'track': 20, 'timestamp_ms': '1613055606981'}}\n",
      "{'limit': {'track': 21, 'timestamp_ms': '1613055608111'}}\n",
      "/content/drive/My Drive/covid_1202.json\n",
      "{'created_at': 'Sat Feb 12 16:32:52 +0000 2021', 'id': 1360628013801623558, 'id_str': '1360628013801623558', 'text': 'Highs of below 0 and more snow in eastern Iowa but registration is open for @PitchHitRun in Dubuque on April 17.  C… https://t.co/HreVnerLVw', 'source': '<a href=\"https://mobile.twitter.com\" rel=\"nofollow\">Twitter Web App</a>', 'truncated': True, 'in_reply_to_status_id': None, 'in_reply_to_status_id_str': None, 'in_reply_to_user_id': None, 'in_reply_to_user_id_str': None, 'in_reply_to_screen_name': None, 'user': {'id': 1663743774, 'id_str': '1663743774', 'name': 'Matt Garrett', 'screen_name': 'mcgarr613', 'location': None, 'url': None, 'description': 'Loves his family, students, alums, and Cardinal baseball', 'translator_type': 'none', 'protected': False, 'verified': False, 'followers_count': 421, 'friends_count': 1027, 'listed_count': 5, 'favourites_count': 15202, 'statuses_count': 1721, 'created_at': 'Mon Aug 12 00:36:48 +0000 2013', 'utc_offset': None, 'time_zone': None, 'geo_enabled': False, 'lang': None, 'contributors_enabled': False, 'is_translator': False, 'profile_background_color': 'C0DEED', 'profile_background_image_url': 'http://abs.twimg.com/images/themes/theme1/bg.png', 'profile_background_image_url_https': 'https://abs.twimg.com/images/themes/theme1/bg.png', 'profile_background_tile': False, 'profile_link_color': '1DA1F2', 'profile_sidebar_border_color': 'C0DEED', 'profile_sidebar_fill_color': 'DDEEF6', 'profile_text_color': '333333', 'profile_use_background_image': True, 'profile_image_url': 'http://pbs.twimg.com/profile_images/378800000420962046/6fa93912408d2bb02c35301d7b297828_normal.jpeg', 'profile_image_url_https': 'https://pbs.twimg.com/profile_images/378800000420962046/6fa93912408d2bb02c35301d7b297828_normal.jpeg', 'profile_banner_url': 'https://pbs.twimg.com/profile_banners/1663743774/1578462131', 'default_profile': True, 'default_profile_image': False, 'following': None, 'follow_request_sent': None, 'notifications': None}, 'geo': None, 'coordinates': None, 'place': None, 'contributors': None, 'is_quote_status': False, 'extended_tweet': {'full_text': 'Highs of below 0 and more snow in eastern Iowa but registration is open for @PitchHitRun in Dubuque on April 17.  COVID protocols in place.  Hosted by @LorasSMG and @MLB.  Pre-registration at https://t.co/EMLASFzetp.  Contact me with questions.  Softball/baseball here we come!', 'display_text_range': [0, 277], 'entities': {'hashtags': [], 'urls': [{'url': 'https://t.co/EMLASFzetp', 'expanded_url': 'https://pitchhitrun2021.leagueapps.com/events/1993267', 'display_url': 'pitchhitrun2021.leagueapps.com/events/1993267', 'indices': [192, 215]}], 'user_mentions': [{'screen_name': 'PitchHitRun', 'name': 'MLB Pitch Hit & Run', 'id': 3131610953, 'id_str': '3131610953', 'indices': [76, 88]}, {'screen_name': 'LorasSMG', 'name': 'Loras SMG Program', 'id': 1851710191, 'id_str': '1851710191', 'indices': [151, 160]}, {'screen_name': 'MLB', 'name': 'MLB', 'id': 18479513, 'id_str': '18479513', 'indices': [165, 169]}], 'symbols': []}}, 'quote_count': 0, 'reply_count': 0, 'retweet_count': 0, 'favorite_count': 0, 'entities': {'hashtags': [], 'urls': [{'url': 'https://t.co/HreVnerLVw', 'expanded_url': 'https://twitter.com/i/web/status/1360628013801623558', 'display_url': 'twitter.com/i/web/status/1…', 'indices': [117, 140]}], 'user_mentions': [{'screen_name': 'PitchHitRun', 'name': 'MLB Pitch Hit & Run', 'id': 3131610953, 'id_str': '3131610953', 'indices': [76, 88]}], 'symbols': []}, 'favorited': False, 'retweeted': False, 'possibly_sensitive': False, 'filter_level': 'low', 'lang': 'en', 'timestamp_ms': '1613233972393'}\n",
      "{'created_at': 'Sat Feb 12 16:32:44 +0000 2021', 'id': 1360627980423282699, 'id_str': '1360627980423282699', 'text': 'i wonder how those people are doing who cleared out stores of lysol when they first heard of covid last year.', 'source': '<a href=\"http://twitter.com/download/iphone\" rel=\"nofollow\">Twitter for iPhone</a>', 'truncated': False, 'in_reply_to_status_id': None, 'in_reply_to_status_id_str': None, 'in_reply_to_user_id': None, 'in_reply_to_user_id_str': None, 'in_reply_to_screen_name': None, 'user': {'id': 1111247505075908608, 'id_str': '1111247505075908608', 'name': 'DreamKeem 🌠', 'screen_name': 'DreamKeem242', 'location': 'Bahamas', 'url': 'http://instagram.com/dream_keem242', 'description': '*insert nothing here*', 'translator_type': 'none', 'protected': False, 'verified': False, 'followers_count': 133, 'friends_count': 531, 'listed_count': 0, 'favourites_count': 21106, 'statuses_count': 4072, 'created_at': 'Thu Mar 28 12:43:45 +0000 2019', 'utc_offset': None, 'time_zone': None, 'geo_enabled': True, 'lang': None, 'contributors_enabled': False, 'is_translator': False, 'profile_background_color': 'F5F8FA', 'profile_background_image_url': '', 'profile_background_image_url_https': '', 'profile_background_tile': False, 'profile_link_color': '1DA1F2', 'profile_sidebar_border_color': 'C0DEED', 'profile_sidebar_fill_color': 'DDEEF6', 'profile_text_color': '333333', 'profile_use_background_image': True, 'profile_image_url': 'http://pbs.twimg.com/profile_images/1357110988336754689/u9OywrKL_normal.jpg', 'profile_image_url_https': 'https://pbs.twimg.com/profile_images/1357110988336754689/u9OywrKL_normal.jpg', 'profile_banner_url': 'https://pbs.twimg.com/profile_banners/1111247505075908608/1612227179', 'default_profile': True, 'default_profile_image': False, 'following': None, 'follow_request_sent': None, 'notifications': None}, 'geo': None, 'coordinates': None, 'place': None, 'contributors': None, 'is_quote_status': False, 'quote_count': 0, 'reply_count': 0, 'retweet_count': 0, 'favorite_count': 0, 'entities': {'hashtags': [], 'urls': [], 'user_mentions': [], 'symbols': []}, 'favorited': False, 'retweeted': False, 'filter_level': 'low', 'lang': 'en', 'timestamp_ms': '1613233964435'}\n",
      "{'created_at': 'Sat Feb 12 16:35:14 +0000 2021', 'id': 1360628609841573888, 'id_str': '1360628609841573888', 'text': 'RT @margostockdale: ok??? then put them there??', 'source': '<a href=\"http://twitter.com/download/android\" rel=\"nofollow\">Twitter for Android</a>', 'truncated': False, 'in_reply_to_status_id': None, 'in_reply_to_status_id_str': None, 'in_reply_to_user_id': None, 'in_reply_to_user_id_str': None, 'in_reply_to_screen_name': None, 'user': {'id': 919125664439074820, 'id_str': '919125664439074820', 'name': 'Sherlockina Holmesa', 'screen_name': 'chibvrem', 'location': 'At the bosom of Christ Jesus.', 'url': None, 'description': 'No room for self pity.', 'translator_type': 'none', 'protected': False, 'verified': False, 'followers_count': 309, 'friends_count': 196, 'listed_count': 0, 'favourites_count': 20642, 'statuses_count': 28411, 'created_at': 'Sat Oct 14 09:00:09 +0000 2017', 'utc_offset': None, 'time_zone': None, 'geo_enabled': False, 'lang': None, 'contributors_enabled': False, 'is_translator': False, 'profile_background_color': 'F5F8FA', 'profile_background_image_url': '', 'profile_background_image_url_https': '', 'profile_background_tile': False, 'profile_link_color': '1DA1F2', 'profile_sidebar_border_color': 'C0DEED', 'profile_sidebar_fill_color': 'DDEEF6', 'profile_text_color': '333333', 'profile_use_background_image': True, 'profile_image_url': 'http://pbs.twimg.com/profile_images/1359050884789993474/1TSNq_bH_normal.jpg', 'profile_image_url_https': 'https://pbs.twimg.com/profile_images/1359050884789993474/1TSNq_bH_normal.jpg', 'profile_banner_url': 'https://pbs.twimg.com/profile_banners/919125664439074820/1576907800', 'default_profile': True, 'default_profile_image': False, 'following': None, 'follow_request_sent': None, 'notifications': None}, 'geo': None, 'coordinates': None, 'place': None, 'contributors': None, 'retweeted_status': {'created_at': 'Fri Feb 12 04:22:40 +0000 2021', 'id': 1360081865479184385, 'id_str': '1360081865479184385', 'text': 'ok??? then put them there??', 'source': '<a href=\"http://twitter.com/download/iphone\" rel=\"nofollow\">Twitter for iPhone</a>', 'truncated': False, 'in_reply_to_status_id': None, 'in_reply_to_status_id_str': None, 'in_reply_to_user_id': None, 'in_reply_to_user_id_str': None, 'in_reply_to_screen_name': None, 'user': {'id': 1654141794, 'id_str': '1654141794', 'name': 'linguimi', 'screen_name': 'margostockdale', 'location': None, 'url': 'http://anchor.fm/itsnotthatscary', 'description': 'im just a kid and life is a nightmare', 'translator_type': 'none', 'protected': False, 'verified': False, 'followers_count': 387, 'friends_count': 309, 'listed_count': 4, 'favourites_count': 22250, 'statuses_count': 5808, 'created_at': 'Thu Aug 08 00:16:00 +0000 2013', 'utc_offset': None, 'time_zone': None, 'geo_enabled': True, 'lang': None, 'contributors_enabled': False, 'is_translator': False, 'profile_background_color': 'C0DEED', 'profile_background_image_url': 'http://abs.twimg.com/images/themes/theme1/bg.png', 'profile_background_image_url_https': 'https://abs.twimg.com/images/themes/theme1/bg.png', 'profile_background_tile': True, 'profile_link_color': '1B95E0', 'profile_sidebar_border_color': 'FFFFFF', 'profile_sidebar_fill_color': 'DDEEF6', 'profile_text_color': '333333', 'profile_use_background_image': True, 'profile_image_url': 'http://pbs.twimg.com/profile_images/1339629357548101632/uqfL2giB_normal.jpg', 'profile_image_url_https': 'https://pbs.twimg.com/profile_images/1339629357548101632/uqfL2giB_normal.jpg', 'profile_banner_url': 'https://pbs.twimg.com/profile_banners/1654141794/1594733171', 'default_profile': False, 'default_profile_image': False, 'following': None, 'follow_request_sent': None, 'notifications': None}, 'geo': None, 'coordinates': None, 'place': None, 'contributors': None, 'quoted_status_id': 1359932480044871692, 'quoted_status_id_str': '1359932480044871692', 'quoted_status': {'created_at': 'Thu Feb 11 18:29:04 +0000 2021', 'id': 1359932480044871692, 'id_str': '1359932480044871692', 'text': 'All the COVID-19 particles in the world could fit in a Coke can, scientist says https://t.co/SaKf8vTbbX https://t.co/ndDm8ncH8f', 'display_text_range': [0, 103], 'source': '<a href=\"http://www.socialflow.com\" rel=\"nofollow\">SocialFlow</a>', 'truncated': False, 'in_reply_to_status_id': None, 'in_reply_to_status_id_str': None, 'in_reply_to_user_id': None, 'in_reply_to_user_id_str': None, 'in_reply_to_screen_name': None, 'user': {'id': 17469289, 'id_str': '17469289', 'name': 'New York Post', 'screen_name': 'nypost', 'location': 'New York, NY', 'url': 'http://www.nypost.com', 'description': 'Breaking news & features from The New York Post. Follow your favorite sections: @pagesix, @nypmetro, @nypostbiz, @nypostsports, @nypfashion, @nypostopinion', 'translator_type': 'none', 'protected': False, 'verified': True, 'followers_count': 2083824, 'friends_count': 11228, 'listed_count': 19238, 'favourites_count': 1969, 'statuses_count': 372785, 'created_at': 'Tue Nov 18 19:46:36 +0000 2008', 'utc_offset': None, 'time_zone': None, 'geo_enabled': True, 'lang': None, 'contributors_enabled': False, 'is_translator': False, 'profile_background_color': '000000', 'profile_background_image_url': 'http://abs.twimg.com/images/themes/theme1/bg.png', 'profile_background_image_url_https': 'https://abs.twimg.com/images/themes/theme1/bg.png', 'profile_background_tile': True, 'profile_link_color': 'CC3333', 'profile_sidebar_border_color': 'FFFFFF', 'profile_sidebar_fill_color': 'DDFFCC', 'profile_text_color': '333333', 'profile_use_background_image': True, 'profile_image_url': 'http://pbs.twimg.com/profile_images/966372680306868224/60wfGe9e_normal.jpg', 'profile_image_url_https': 'https://pbs.twimg.com/profile_images/966372680306868224/60wfGe9e_normal.jpg', 'profile_banner_url': 'https://pbs.twimg.com/profile_banners/17469289/1444326181', 'default_profile': False, 'default_profile_image': False, 'following': None, 'follow_request_sent': None, 'notifications': None}, 'geo': None, 'coordinates': None, 'place': None, 'contributors': None, 'is_quote_status': False, 'quote_count': 6392, 'reply_count': 832, 'retweet_count': 1181, 'favorite_count': 6106, 'entities': {'hashtags': [], 'urls': [{'url': 'https://t.co/SaKf8vTbbX', 'expanded_url': 'https://trib.al/0FVV3XX', 'display_url': 'trib.al/0FVV3XX', 'indices': [80, 103]}], 'user_mentions': [], 'symbols': [], 'media': [{'id': 1359932478019039233, 'id_str': '1359932478019039233', 'indices': [104, 127], 'media_url': 'http://pbs.twimg.com/media/Et9zYi7XcAEkbJI.jpg', 'media_url_https': 'https://pbs.twimg.com/media/Et9zYi7XcAEkbJI.jpg', 'url': 'https://t.co/ndDm8ncH8f', 'display_url': 'pic.twitter.com/ndDm8ncH8f', 'expanded_url': 'https://twitter.com/nypost/status/1359932480044871692/photo/1', 'type': 'photo', 'sizes': {'thumb': {'w': 150, 'h': 150, 'resize': 'crop'}, 'small': {'w': 680, 'h': 453, 'resize': 'fit'}, 'medium': {'w': 1200, 'h': 800, 'resize': 'fit'}, 'large': {'w': 1200, 'h': 800, 'resize': 'fit'}}}]}, 'extended_entities': {'media': [{'id': 1359932478019039233, 'id_str': '1359932478019039233', 'indices': [104, 127], 'media_url': 'http://pbs.twimg.com/media/Et9zYi7XcAEkbJI.jpg', 'media_url_https': 'https://pbs.twimg.com/media/Et9zYi7XcAEkbJI.jpg', 'url': 'https://t.co/ndDm8ncH8f', 'display_url': 'pic.twitter.com/ndDm8ncH8f', 'expanded_url': 'https://twitter.com/nypost/status/1359932480044871692/photo/1', 'type': 'photo', 'sizes': {'thumb': {'w': 150, 'h': 150, 'resize': 'crop'}, 'small': {'w': 680, 'h': 453, 'resize': 'fit'}, 'medium': {'w': 1200, 'h': 800, 'resize': 'fit'}, 'large': {'w': 1200, 'h': 800, 'resize': 'fit'}}}]}, 'favorited': False, 'retweeted': False, 'possibly_sensitive': False, 'filter_level': 'low', 'lang': 'en'}, 'quoted_status_permalink': {'url': 'https://t.co/dIo4TRfZsb', 'expanded': 'https://twitter.com/nypost/status/1359932480044871692', 'display': 'twitter.com/nypost/status/…'}, 'is_quote_status': True, 'quote_count': 183, 'reply_count': 111, 'retweet_count': 31858, 'favorite_count': 221063, 'entities': {'hashtags': [], 'urls': [], 'user_mentions': [], 'symbols': []}, 'favorited': False, 'retweeted': False, 'filter_level': 'low', 'lang': 'en'}, 'quoted_status_id': 1359932480044871692, 'quoted_status_id_str': '1359932480044871692', 'quoted_status': {'created_at': 'Thu Feb 11 18:29:04 +0000 2021', 'id': 1359932480044871692, 'id_str': '1359932480044871692', 'text': 'All the COVID-19 particles in the world could fit in a Coke can, scientist says https://t.co/SaKf8vTbbX https://t.co/ndDm8ncH8f', 'display_text_range': [0, 103], 'source': '<a href=\"http://www.socialflow.com\" rel=\"nofollow\">SocialFlow</a>', 'truncated': False, 'in_reply_to_status_id': None, 'in_reply_to_status_id_str': None, 'in_reply_to_user_id': None, 'in_reply_to_user_id_str': None, 'in_reply_to_screen_name': None, 'user': {'id': 17469289, 'id_str': '17469289', 'name': 'New York Post', 'screen_name': 'nypost', 'location': 'New York, NY', 'url': 'http://www.nypost.com', 'description': 'Breaking news & features from The New York Post. Follow your favorite sections: @pagesix, @nypmetro, @nypostbiz, @nypostsports, @nypfashion, @nypostopinion', 'translator_type': 'none', 'protected': False, 'verified': True, 'followers_count': 2083824, 'friends_count': 11228, 'listed_count': 19238, 'favourites_count': 1969, 'statuses_count': 372785, 'created_at': 'Tue Nov 18 19:46:36 +0000 2008', 'utc_offset': None, 'time_zone': None, 'geo_enabled': True, 'lang': None, 'contributors_enabled': False, 'is_translator': False, 'profile_background_color': '000000', 'profile_background_image_url': 'http://abs.twimg.com/images/themes/theme1/bg.png', 'profile_background_image_url_https': 'https://abs.twimg.com/images/themes/theme1/bg.png', 'profile_background_tile': True, 'profile_link_color': 'CC3333', 'profile_sidebar_border_color': 'FFFFFF', 'profile_sidebar_fill_color': 'DDFFCC', 'profile_text_color': '333333', 'profile_use_background_image': True, 'profile_image_url': 'http://pbs.twimg.com/profile_images/966372680306868224/60wfGe9e_normal.jpg', 'profile_image_url_https': 'https://pbs.twimg.com/profile_images/966372680306868224/60wfGe9e_normal.jpg', 'profile_banner_url': 'https://pbs.twimg.com/profile_banners/17469289/1444326181', 'default_profile': False, 'default_profile_image': False, 'following': None, 'follow_request_sent': None, 'notifications': None}, 'geo': None, 'coordinates': None, 'place': None, 'contributors': None, 'is_quote_status': False, 'quote_count': 6392, 'reply_count': 832, 'retweet_count': 1181, 'favorite_count': 6106, 'entities': {'hashtags': [], 'urls': [{'url': 'https://t.co/SaKf8vTbbX', 'expanded_url': 'https://trib.al/0FVV3XX', 'display_url': 'trib.al/0FVV3XX', 'indices': [80, 103]}], 'user_mentions': [], 'symbols': [], 'media': [{'id': 1359932478019039233, 'id_str': '1359932478019039233', 'indices': [104, 127], 'media_url': 'http://pbs.twimg.com/media/Et9zYi7XcAEkbJI.jpg', 'media_url_https': 'https://pbs.twimg.com/media/Et9zYi7XcAEkbJI.jpg', 'url': 'https://t.co/ndDm8ncH8f', 'display_url': 'pic.twitter.com/ndDm8ncH8f', 'expanded_url': 'https://twitter.com/nypost/status/1359932480044871692/photo/1', 'type': 'photo', 'sizes': {'thumb': {'w': 150, 'h': 150, 'resize': 'crop'}, 'small': {'w': 680, 'h': 453, 'resize': 'fit'}, 'medium': {'w': 1200, 'h': 800, 'resize': 'fit'}, 'large': {'w': 1200, 'h': 800, 'resize': 'fit'}}}]}, 'extended_entities': {'media': [{'id': 1359932478019039233, 'id_str': '1359932478019039233', 'indices': [104, 127], 'media_url': 'http://pbs.twimg.com/media/Et9zYi7XcAEkbJI.jpg', 'media_url_https': 'https://pbs.twimg.com/media/Et9zYi7XcAEkbJI.jpg', 'url': 'https://t.co/ndDm8ncH8f', 'display_url': 'pic.twitter.com/ndDm8ncH8f', 'expanded_url': 'https://twitter.com/nypost/status/1359932480044871692/photo/1', 'type': 'photo', 'sizes': {'thumb': {'w': 150, 'h': 150, 'resize': 'crop'}, 'small': {'w': 680, 'h': 453, 'resize': 'fit'}, 'medium': {'w': 1200, 'h': 800, 'resize': 'fit'}, 'large': {'w': 1200, 'h': 800, 'resize': 'fit'}}}]}, 'favorited': False, 'retweeted': False, 'possibly_sensitive': False, 'filter_level': 'low', 'lang': 'en'}, 'quoted_status_permalink': {'url': 'https://t.co/dIo4TRfZsb', 'expanded': 'https://twitter.com/nypost/status/1359932480044871692', 'display': 'twitter.com/nypost/status/…'}, 'is_quote_status': True, 'quote_count': 0, 'reply_count': 0, 'retweet_count': 0, 'favorite_count': 0, 'entities': {'hashtags': [], 'urls': [], 'user_mentions': [{'screen_name': 'margostockdale', 'name': 'linguimi', 'id': 1654141794, 'id_str': '1654141794', 'indices': [3, 18]}], 'symbols': []}, 'favorited': False, 'retweeted': False, 'filter_level': 'low', 'lang': 'en', 'timestamp_ms': '1613234114500'}\n",
      "{'created_at': 'Sat Feb 12 16:35:05 +0000 2021', 'id': 1360628570876428292, 'id_str': '1360628570876428292', 'text': 'RT @ndrew_lawrence: republicans are worried impeachment is getting in the way of important business like voting against/filibustering every…', 'source': '<a href=\"https://mobile.twitter.com\" rel=\"nofollow\">Twitter Web App</a>', 'truncated': False, 'in_reply_to_status_id': None, 'in_reply_to_status_id_str': None, 'in_reply_to_user_id': None, 'in_reply_to_user_id_str': None, 'in_reply_to_screen_name': None, 'user': {'id': 731705036, 'id_str': '731705036', 'name': 'Dan Hawkins', 'screen_name': 'DanHawkins11', 'location': 'United States', 'url': 'http://growimagination.blogspot.com/?m=1', 'description': 'Retired secondary math teacher; first career retail exec. Skeptical of people with all the answers or something to sell. Not a fan of calculators in school.', 'translator_type': 'none', 'protected': False, 'verified': False, 'followers_count': 819, 'friends_count': 497, 'listed_count': 196, 'favourites_count': 36359, 'statuses_count': 77484, 'created_at': 'Wed Aug 01 23:40:55 +0000 2012', 'utc_offset': None, 'time_zone': None, 'geo_enabled': False, 'lang': None, 'contributors_enabled': False, 'is_translator': False, 'profile_background_color': 'C0DEED', 'profile_background_image_url': 'http://abs.twimg.com/images/themes/theme1/bg.png', 'profile_background_image_url_https': 'https://abs.twimg.com/images/themes/theme1/bg.png', 'profile_background_tile': False, 'profile_link_color': '1DA1F2', 'profile_sidebar_border_color': 'C0DEED', 'profile_sidebar_fill_color': 'DDEEF6', 'profile_text_color': '333333', 'profile_use_background_image': True, 'profile_image_url': 'http://pbs.twimg.com/profile_images/1294358792579289088/STD7IUD2_normal.jpg', 'profile_image_url_https': 'https://pbs.twimg.com/profile_images/1294358792579289088/STD7IUD2_normal.jpg', 'profile_banner_url': 'https://pbs.twimg.com/profile_banners/731705036/1607030848', 'default_profile': True, 'default_profile_image': False, 'following': None, 'follow_request_sent': None, 'notifications': None}, 'geo': None, 'coordinates': None, 'place': None, 'contributors': None, 'retweeted_status': {'created_at': 'Sat Feb 12 16:05:31 +0000 2021', 'id': 1360621131343024128, 'id_str': '1360621131343024128', 'text': 'republicans are worried impeachment is getting in the way of important business like voting against/filibustering e… https://t.co/IKYakGkrCD', 'display_text_range': [0, 140], 'source': '<a href=\"http://twitter.com/download/iphone\" rel=\"nofollow\">Twitter for iPhone</a>', 'truncated': True, 'in_reply_to_status_id': None, 'in_reply_to_status_id_str': None, 'in_reply_to_user_id': None, 'in_reply_to_user_id_str': None, 'in_reply_to_screen_name': None, 'user': {'id': 1228462620, 'id_str': '1228462620', 'name': 'Andrew Lawrence', 'screen_name': 'ndrew_lawrence', 'location': None, 'url': None, 'description': 'Deputy Director of Rapid Response @mmfa but views here are my own - 99% of RTs are endorsements', 'translator_type': 'none', 'protected': False, 'verified': False, 'followers_count': 54355, 'friends_count': 3408, 'listed_count': 611, 'favourites_count': 144791, 'statuses_count': 54549, 'created_at': 'Thu Feb 28 22:06:12 +0000 2013', 'utc_offset': None, 'time_zone': None, 'geo_enabled': True, 'lang': None, 'contributors_enabled': False, 'is_translator': False, 'profile_background_color': '131516', 'profile_background_image_url': 'http://abs.twimg.com/images/themes/theme14/bg.gif', 'profile_background_image_url_https': 'https://abs.twimg.com/images/themes/theme14/bg.gif', 'profile_background_tile': True, 'profile_link_color': '009999', 'profile_sidebar_border_color': 'EEEEEE', 'profile_sidebar_fill_color': 'EFEFEF', 'profile_text_color': '333333', 'profile_use_background_image': True, 'profile_image_url': 'http://pbs.twimg.com/profile_images/1356356087243485186/iRP1GfTn_normal.png', 'profile_image_url_https': 'https://pbs.twimg.com/profile_images/1356356087243485186/iRP1GfTn_normal.png', 'profile_banner_url': 'https://pbs.twimg.com/profile_banners/1228462620/1585716105', 'default_profile': False, 'default_profile_image': False, 'following': None, 'follow_request_sent': None, 'notifications': None}, 'geo': None, 'coordinates': None, 'place': None, 'contributors': None, 'quoted_status_id': 1360615591028129794, 'quoted_status_id_str': '1360615591028129794', 'quoted_status': {'created_at': 'Sat Feb 12 15:43:30 +0000 2021', 'id': 1360615591028129794, 'id_str': '1360615591028129794', 'text': 'Kangaroo court anyone? No end in sight.  This could drag on indefinitely.  Meanwhile, no cabinet noms are getting d… https://t.co/WzuwANmOvt', 'source': '<a href=\"http://twitter.com/download/iphone\" rel=\"nofollow\">Twitter for iPhone</a>', 'truncated': True, 'in_reply_to_status_id': None, 'in_reply_to_status_id_str': None, 'in_reply_to_user_id': None, 'in_reply_to_user_id_str': None, 'in_reply_to_screen_name': None, 'user': {'id': 13218102, 'id_str': '13218102', 'name': 'Senator John Cornyn', 'screen_name': 'JohnCornyn', 'location': 'Austin, Texas', 'url': None, 'description': 'Mainly news I find interesting, pics, and opinions. Honored to represent the great state of Texas in the US Senate. RTs =/= endorsements', 'translator_type': 'none', 'protected': False, 'verified': True, 'followers_count': 293821, 'friends_count': 11997, 'listed_count': 5588, 'favourites_count': 4287, 'statuses_count': 43395, 'created_at': 'Thu Feb 07 19:52:55 +0000 2008', 'utc_offset': None, 'time_zone': None, 'geo_enabled': False, 'lang': None, 'contributors_enabled': False, 'is_translator': False, 'profile_background_color': '71829E', 'profile_background_image_url': 'http://abs.twimg.com/images/themes/theme1/bg.png', 'profile_background_image_url_https': 'https://abs.twimg.com/images/themes/theme1/bg.png', 'profile_background_tile': True, 'profile_link_color': '0000FF', 'profile_sidebar_border_color': '002D62', 'profile_sidebar_fill_color': 'FFFFFF', 'profile_text_color': '002D62', 'profile_use_background_image': True, 'profile_image_url': 'http://pbs.twimg.com/profile_images/1246564218259767296/iwEbEtCj_normal.jpg', 'profile_image_url_https': 'https://pbs.twimg.com/profile_images/1246564218259767296/iwEbEtCj_normal.jpg', 'profile_banner_url': 'https://pbs.twimg.com/profile_banners/13218102/1584541403', 'default_profile': False, 'default_profile_image': False, 'following': None, 'follow_request_sent': None, 'notifications': None}, 'geo': None, 'coordinates': None, 'place': None, 'contributors': None, 'is_quote_status': False, 'extended_tweet': {'full_text': 'Kangaroo court anyone? No end in sight.  This could drag on indefinitely.  Meanwhile, no cabinet noms are getting done, no Covid relief etc. Biden folks can’t be happy', 'display_text_range': [0, 167], 'entities': {'hashtags': [], 'urls': [], 'user_mentions': [], 'symbols': []}}, 'quote_count': 212, 'reply_count': 1670, 'retweet_count': 247, 'favorite_count': 1022, 'entities': {'hashtags': [], 'urls': [{'url': 'https://t.co/WzuwANmOvt', 'expanded_url': 'https://twitter.com/i/web/status/1360615591028129794', 'display_url': 'twitter.com/i/web/status/1…', 'indices': [117, 140]}], 'user_mentions': [], 'symbols': []}, 'favorited': False, 'retweeted': False, 'filter_level': 'low', 'lang': 'en'}, 'quoted_status_permalink': {'url': 'https://t.co/j7TANYusrf', 'expanded': 'https://twitter.com/johncornyn/status/1360615591028129794', 'display': 'twitter.com/johncornyn/sta…'}, 'is_quote_status': True, 'extended_tweet': {'full_text': 'republicans are worried impeachment is getting in the way of important business like voting against/filibustering everything https://t.co/j7TANYusrf', 'display_text_range': [0, 124], 'entities': {'hashtags': [], 'urls': [{'url': 'https://t.co/j7TANYusrf', 'expanded_url': 'https://twitter.com/johncornyn/status/1360615591028129794', 'display_url': 'twitter.com/johncornyn/sta…', 'indices': [125, 148]}], 'user_mentions': [], 'symbols': []}}, 'quote_count': 2, 'reply_count': 20, 'retweet_count': 210, 'favorite_count': 902, 'entities': {'hashtags': [], 'urls': [{'url': 'https://t.co/IKYakGkrCD', 'expanded_url': 'https://twitter.com/i/web/status/1360621131343024128', 'display_url': 'twitter.com/i/web/status/1…', 'indices': [117, 140]}], 'user_mentions': [], 'symbols': []}, 'favorited': False, 'retweeted': False, 'possibly_sensitive': False, 'filter_level': 'low', 'lang': 'en'}, 'quoted_status_id': 1360615591028129794, 'quoted_status_id_str': '1360615591028129794', 'quoted_status': {'created_at': 'Sat Feb 12 15:43:30 +0000 2021', 'id': 1360615591028129794, 'id_str': '1360615591028129794', 'text': 'Kangaroo court anyone? No end in sight.  This could drag on indefinitely.  Meanwhile, no cabinet noms are getting d… https://t.co/WzuwANmOvt', 'source': '<a href=\"http://twitter.com/download/iphone\" rel=\"nofollow\">Twitter for iPhone</a>', 'truncated': True, 'in_reply_to_status_id': None, 'in_reply_to_status_id_str': None, 'in_reply_to_user_id': None, 'in_reply_to_user_id_str': None, 'in_reply_to_screen_name': None, 'user': {'id': 13218102, 'id_str': '13218102', 'name': 'Senator John Cornyn', 'screen_name': 'JohnCornyn', 'location': 'Austin, Texas', 'url': None, 'description': 'Mainly news I find interesting, pics, and opinions. Honored to represent the great state of Texas in the US Senate. RTs =/= endorsements', 'translator_type': 'none', 'protected': False, 'verified': True, 'followers_count': 293821, 'friends_count': 11997, 'listed_count': 5588, 'favourites_count': 4287, 'statuses_count': 43395, 'created_at': 'Thu Feb 07 19:52:55 +0000 2008', 'utc_offset': None, 'time_zone': None, 'geo_enabled': False, 'lang': None, 'contributors_enabled': False, 'is_translator': False, 'profile_background_color': '71829E', 'profile_background_image_url': 'http://abs.twimg.com/images/themes/theme1/bg.png', 'profile_background_image_url_https': 'https://abs.twimg.com/images/themes/theme1/bg.png', 'profile_background_tile': True, 'profile_link_color': '0000FF', 'profile_sidebar_border_color': '002D62', 'profile_sidebar_fill_color': 'FFFFFF', 'profile_text_color': '002D62', 'profile_use_background_image': True, 'profile_image_url': 'http://pbs.twimg.com/profile_images/1246564218259767296/iwEbEtCj_normal.jpg', 'profile_image_url_https': 'https://pbs.twimg.com/profile_images/1246564218259767296/iwEbEtCj_normal.jpg', 'profile_banner_url': 'https://pbs.twimg.com/profile_banners/13218102/1584541403', 'default_profile': False, 'default_profile_image': False, 'following': None, 'follow_request_sent': None, 'notifications': None}, 'geo': None, 'coordinates': None, 'place': None, 'contributors': None, 'is_quote_status': False, 'extended_tweet': {'full_text': 'Kangaroo court anyone? No end in sight.  This could drag on indefinitely.  Meanwhile, no cabinet noms are getting done, no Covid relief etc. Biden folks can’t be happy', 'display_text_range': [0, 167], 'entities': {'hashtags': [], 'urls': [], 'user_mentions': [], 'symbols': []}}, 'quote_count': 212, 'reply_count': 1670, 'retweet_count': 247, 'favorite_count': 1022, 'entities': {'hashtags': [], 'urls': [{'url': 'https://t.co/WzuwANmOvt', 'expanded_url': 'https://twitter.com/i/web/status/1360615591028129794', 'display_url': 'twitter.com/i/web/status/1…', 'indices': [117, 140]}], 'user_mentions': [], 'symbols': []}, 'favorited': False, 'retweeted': False, 'filter_level': 'low', 'lang': 'en'}, 'quoted_status_permalink': {'url': 'https://t.co/j7TANYusrf', 'expanded': 'https://twitter.com/johncornyn/status/1360615591028129794', 'display': 'twitter.com/johncornyn/sta…'}, 'is_quote_status': True, 'quote_count': 0, 'reply_count': 0, 'retweet_count': 0, 'favorite_count': 0, 'entities': {'hashtags': [], 'urls': [], 'user_mentions': [{'screen_name': 'ndrew_lawrence', 'name': 'Andrew Lawrence', 'id': 1228462620, 'id_str': '1228462620', 'indices': [3, 18]}], 'symbols': []}, 'favorited': False, 'retweeted': False, 'filter_level': 'low', 'lang': 'en', 'timestamp_ms': '1613234105210'}\n",
      "{'created_at': 'Sat Feb 12 16:37:37 +0000 2021', 'id': 1360629209161371650, 'id_str': '1360629209161371650', 'text': 'India”s role in Covid vaccine will be recognised as a significant milestone in future.We will earn global goodwill… https://t.co/9aZNBTRefd', 'source': '<a href=\"http://twitter.com/download/iphone\" rel=\"nofollow\">Twitter for iPhone</a>', 'truncated': True, 'in_reply_to_status_id': None, 'in_reply_to_status_id_str': None, 'in_reply_to_user_id': None, 'in_reply_to_user_id_str': None, 'in_reply_to_screen_name': None, 'user': {'id': 902127499479359488, 'id_str': '902127499479359488', 'name': 'Dr Parul M Sharma', 'screen_name': 'DrParulSharma1', 'location': 'Gurgaon,Delhi,India ', 'url': 'http://www.eyecaregurgaon.com', 'description': 'Eye Surgeon-Director-Max Healthcare-Delhi&Ggn/Viaan Eye Centre-Ggn/Love सौधीं मिट्टी की ख़ुशबू ,घुँघरू,big smiles, wanderlust/am for better India,mental health', 'translator_type': 'none', 'protected': False, 'verified': False, 'followers_count': 814, 'friends_count': 113, 'listed_count': 2, 'favourites_count': 987, 'statuses_count': 891, 'created_at': 'Mon Aug 28 11:15:31 +0000 2017', 'utc_offset': None, 'time_zone': None, 'geo_enabled': True, 'lang': None, 'contributors_enabled': False, 'is_translator': False, 'profile_background_color': 'F5F8FA', 'profile_background_image_url': '', 'profile_background_image_url_https': '', 'profile_background_tile': False, 'profile_link_color': '1DA1F2', 'profile_sidebar_border_color': 'C0DEED', 'profile_sidebar_fill_color': 'DDEEF6', 'profile_text_color': '333333', 'profile_use_background_image': True, 'profile_image_url': 'http://pbs.twimg.com/profile_images/1201295124967251968/6Mx371vo_normal.jpg', 'profile_image_url_https': 'https://pbs.twimg.com/profile_images/1201295124967251968/6Mx371vo_normal.jpg', 'profile_banner_url': 'https://pbs.twimg.com/profile_banners/902127499479359488/1503919773', 'default_profile': True, 'default_profile_image': False, 'following': None, 'follow_request_sent': None, 'notifications': None}, 'geo': None, 'coordinates': None, 'place': {'id': '64231a922dea526e', 'url': 'https://api.twitter.com/1.1/geo/id/64231a922dea526e.json', 'place_type': 'city', 'name': 'Gurgaon', 'full_name': 'Gurgaon, India', 'country_code': 'IN', 'country': 'India', 'bounding_box': {'type': 'Polygon', 'coordinates': [[[76.707671, 28.199529], [76.707671, 28.537521], [77.241711, 28.537521], [77.241711, 28.199529]]]}, 'attributes': {}}, 'contributors': None, 'is_quote_status': False, 'extended_tweet': {'full_text': 'India”s role in Covid vaccine will be recognised as a significant milestone in future.We will earn global goodwill (already our maitri vaccine program supplies 20 countries) and turn the pandemic into endemic. However masks n hand sanitisation will stay as mutant threat remains', 'display_text_range': [0, 278], 'entities': {'hashtags': [], 'urls': [], 'user_mentions': [], 'symbols': []}}, 'quote_count': 0, 'reply_count': 0, 'retweet_count': 0, 'favorite_count': 0, 'entities': {'hashtags': [], 'urls': [{'url': 'https://t.co/9aZNBTRefd', 'expanded_url': 'https://twitter.com/i/web/status/1360629209161371650', 'display_url': 'twitter.com/i/web/status/1…', 'indices': [116, 139]}], 'user_mentions': [], 'symbols': []}, 'favorited': False, 'retweeted': False, 'filter_level': 'low', 'lang': 'en', 'timestamp_ms': '1613234257389'}\n",
      "{'created_at': 'Sat Feb 12 16:37:28 +0000 2021', 'id': 1360629171974787074, 'id_str': '1360629171974787074', 'text': \"RT @nthnashma: Recently, I've seen a few posts reframing how HIV and AIDS could be understood as a genocide given how little governments ca…\", 'source': '<a href=\"http://twitter.com/download/iphone\" rel=\"nofollow\">Twitter for iPhone</a>', 'truncated': False, 'in_reply_to_status_id': None, 'in_reply_to_status_id_str': None, 'in_reply_to_user_id': None, 'in_reply_to_user_id_str': None, 'in_reply_to_screen_name': None, 'user': {'id': 3320788192, 'id_str': '3320788192', 'name': 'nao', 'screen_name': 'naydaily', 'location': 'London, England', 'url': None, 'description': None, 'translator_type': 'none', 'protected': False, 'verified': False, 'followers_count': 195, 'friends_count': 188, 'listed_count': 0, 'favourites_count': 55546, 'statuses_count': 31669, 'created_at': 'Fri Jun 12 11:02:07 +0000 2015', 'utc_offset': None, 'time_zone': None, 'geo_enabled': False, 'lang': None, 'contributors_enabled': False, 'is_translator': False, 'profile_background_color': 'C0DEED', 'profile_background_image_url': 'http://abs.twimg.com/images/themes/theme1/bg.png', 'profile_background_image_url_https': 'https://abs.twimg.com/images/themes/theme1/bg.png', 'profile_background_tile': False, 'profile_link_color': '1DA1F2', 'profile_sidebar_border_color': 'C0DEED', 'profile_sidebar_fill_color': 'DDEEF6', 'profile_text_color': '333333', 'profile_use_background_image': True, 'profile_image_url': 'http://pbs.twimg.com/profile_images/1040987281014894592/m_l-Y9h8_normal.jpg', 'profile_image_url_https': 'https://pbs.twimg.com/profile_images/1040987281014894592/m_l-Y9h8_normal.jpg', 'profile_banner_url': 'https://pbs.twimg.com/profile_banners/3320788192/1590764723', 'default_profile': True, 'default_profile_image': False, 'following': None, 'follow_request_sent': None, 'notifications': None}, 'geo': None, 'coordinates': None, 'place': None, 'contributors': None, 'retweeted_status': {'created_at': 'Sat Feb 12 15:50:37 +0000 2021', 'id': 1360617380666351621, 'id_str': '1360617380666351621', 'text': \"Recently, I've seen a few posts reframing how HIV and AIDS could be understood as a genocide given how little gover… https://t.co/T74IvVHPdT\", 'source': '<a href=\"https://mobile.twitter.com\" rel=\"nofollow\">Twitter Web App</a>', 'truncated': True, 'in_reply_to_status_id': None, 'in_reply_to_status_id_str': None, 'in_reply_to_user_id': None, 'in_reply_to_user_id_str': None, 'in_reply_to_screen_name': None, 'user': {'id': 429614846, 'id_str': '429614846', 'name': 'nathan ma', 'screen_name': 'nthnashma', 'location': 'Berlin', 'url': 'https://www.nathanashma.com/', 'description': 'I tweeted what I tweeted and I wrote what I wrote. Work: nathanashma@gmail.com', 'translator_type': 'none', 'protected': False, 'verified': False, 'followers_count': 7728, 'friends_count': 1576, 'listed_count': 53, 'favourites_count': 114943, 'statuses_count': 76667, 'created_at': 'Tue Dec 06 05:25:12 +0000 2011', 'utc_offset': None, 'time_zone': None, 'geo_enabled': False, 'lang': None, 'contributors_enabled': False, 'is_translator': False, 'profile_background_color': '000000', 'profile_background_image_url': 'http://abs.twimg.com/images/themes/theme1/bg.png', 'profile_background_image_url_https': 'https://abs.twimg.com/images/themes/theme1/bg.png', 'profile_background_tile': False, 'profile_link_color': 'ABB8C2', 'profile_sidebar_border_color': '000000', 'profile_sidebar_fill_color': '000000', 'profile_text_color': '000000', 'profile_use_background_image': False, 'profile_image_url': 'http://pbs.twimg.com/profile_images/1313880268403605507/U7iBmGBA_normal.jpg', 'profile_image_url_https': 'https://pbs.twimg.com/profile_images/1313880268403605507/U7iBmGBA_normal.jpg', 'profile_banner_url': 'https://pbs.twimg.com/profile_banners/429614846/1498645293', 'default_profile': False, 'default_profile_image': False, 'following': None, 'follow_request_sent': None, 'notifications': None}, 'geo': None, 'coordinates': None, 'place': None, 'contributors': None, 'quoted_status_id': 1360595747708809218, 'quoted_status_id_str': '1360595747708809218', 'quoted_status': {'created_at': 'Sat Feb 12 14:24:39 +0000 2021', 'id': 1360595747708809218, 'id_str': '1360595747708809218', 'text': 'New ‘do not resuscitate’ orders imposed on Covid-19 patients with learning difficulties https://t.co/4iEBbmGatP', 'source': '<a href=\"https://www.echobox.com\" rel=\"nofollow\">Echobox</a>', 'truncated': False, 'in_reply_to_status_id': None, 'in_reply_to_status_id_str': None, 'in_reply_to_user_id': None, 'in_reply_to_user_id_str': None, 'in_reply_to_screen_name': None, 'user': {'id': 87818409, 'id_str': '87818409', 'name': 'The Guardian', 'screen_name': 'guardian', 'location': 'London', 'url': 'https://www.theguardian.com', 'description': 'The need for independent journalism has never been greater. Become a Guardian supporter: https://support.theguardian.com', 'translator_type': 'regular', 'protected': False, 'verified': True, 'followers_count': 9528285, 'friends_count': 1071, 'listed_count': 64371, 'favourites_count': 137, 'statuses_count': 655447, 'created_at': 'Thu Nov 05 23:49:19 +0000 2009', 'utc_offset': None, 'time_zone': None, 'geo_enabled': False, 'lang': None, 'contributors_enabled': False, 'is_translator': False, 'profile_background_color': 'FFFFFF', 'profile_background_image_url': 'http://abs.twimg.com/images/themes/theme1/bg.png', 'profile_background_image_url_https': 'https://abs.twimg.com/images/themes/theme1/bg.png', 'profile_background_tile': False, 'profile_link_color': '005789', 'profile_sidebar_border_color': 'FFFFFF', 'profile_sidebar_fill_color': 'CAE3F3', 'profile_text_color': '333333', 'profile_use_background_image': False, 'profile_image_url': 'http://pbs.twimg.com/profile_images/1175141826870861825/K2qKoGla_normal.png', 'profile_image_url_https': 'https://pbs.twimg.com/profile_images/1175141826870861825/K2qKoGla_normal.png', 'profile_banner_url': 'https://pbs.twimg.com/profile_banners/87818409/1569228354', 'default_profile': False, 'default_profile_image': False, 'following': None, 'follow_request_sent': None, 'notifications': None}, 'geo': None, 'coordinates': None, 'place': None, 'contributors': None, 'is_quote_status': False, 'quote_count': 380, 'reply_count': 99, 'retweet_count': 255, 'favorite_count': 198, 'entities': {'hashtags': [], 'urls': [{'url': 'https://t.co/4iEBbmGatP', 'expanded_url': 'https://www.theguardian.com/world/2021/feb/13/new-do-not-resuscitate-orders-imposed-on-covid-19-patients-with-learning-difficulties?utm_term=Autofeed&CMP=twt_gu&utm_medium&utm_source=Twitter#Echobox=1613225875', 'display_url': 'theguardian.com/world/2021/feb…', 'indices': [88, 111]}], 'user_mentions': [], 'symbols': []}, 'favorited': False, 'retweeted': False, 'possibly_sensitive': False, 'filter_level': 'low', 'lang': 'en'}, 'quoted_status_permalink': {'url': 'https://t.co/aqZ3nGFtoF', 'expanded': 'https://twitter.com/guardian/status/1360595747708809218', 'display': 'twitter.com/guardian/statu…'}, 'is_quote_status': True, 'extended_tweet': {'full_text': \"Recently, I've seen a few posts reframing how HIV and AIDS could be understood as a genocide given how little governments cared about those who were most impacted by the pandemic and it's worth considering who is being left behind in this pandemic\", 'display_text_range': [0, 247], 'entities': {'hashtags': [], 'urls': [], 'user_mentions': [], 'symbols': []}}, 'quote_count': 2, 'reply_count': 2, 'retweet_count': 92, 'favorite_count': 228, 'entities': {'hashtags': [], 'urls': [{'url': 'https://t.co/T74IvVHPdT', 'expanded_url': 'https://twitter.com/i/web/status/1360617380666351621', 'display_url': 'twitter.com/i/web/status/1…', 'indices': [117, 140]}], 'user_mentions': [], 'symbols': []}, 'favorited': False, 'retweeted': False, 'filter_level': 'low', 'lang': 'en'}, 'quoted_status_id': 1360595747708809218, 'quoted_status_id_str': '1360595747708809218', 'quoted_status': {'created_at': 'Sat Feb 12 14:24:39 +0000 2021', 'id': 1360595747708809218, 'id_str': '1360595747708809218', 'text': 'New ‘do not resuscitate’ orders imposed on Covid-19 patients with learning difficulties https://t.co/4iEBbmGatP', 'source': '<a href=\"https://www.echobox.com\" rel=\"nofollow\">Echobox</a>', 'truncated': False, 'in_reply_to_status_id': None, 'in_reply_to_status_id_str': None, 'in_reply_to_user_id': None, 'in_reply_to_user_id_str': None, 'in_reply_to_screen_name': None, 'user': {'id': 87818409, 'id_str': '87818409', 'name': 'The Guardian', 'screen_name': 'guardian', 'location': 'London', 'url': 'https://www.theguardian.com', 'description': 'The need for independent journalism has never been greater. Become a Guardian supporter: https://support.theguardian.com', 'translator_type': 'regular', 'protected': False, 'verified': True, 'followers_count': 9528285, 'friends_count': 1071, 'listed_count': 64371, 'favourites_count': 137, 'statuses_count': 655447, 'created_at': 'Thu Nov 05 23:49:19 +0000 2009', 'utc_offset': None, 'time_zone': None, 'geo_enabled': False, 'lang': None, 'contributors_enabled': False, 'is_translator': False, 'profile_background_color': 'FFFFFF', 'profile_background_image_url': 'http://abs.twimg.com/images/themes/theme1/bg.png', 'profile_background_image_url_https': 'https://abs.twimg.com/images/themes/theme1/bg.png', 'profile_background_tile': False, 'profile_link_color': '005789', 'profile_sidebar_border_color': 'FFFFFF', 'profile_sidebar_fill_color': 'CAE3F3', 'profile_text_color': '333333', 'profile_use_background_image': False, 'profile_image_url': 'http://pbs.twimg.com/profile_images/1175141826870861825/K2qKoGla_normal.png', 'profile_image_url_https': 'https://pbs.twimg.com/profile_images/1175141826870861825/K2qKoGla_normal.png', 'profile_banner_url': 'https://pbs.twimg.com/profile_banners/87818409/1569228354', 'default_profile': False, 'default_profile_image': False, 'following': None, 'follow_request_sent': None, 'notifications': None}, 'geo': None, 'coordinates': None, 'place': None, 'contributors': None, 'is_quote_status': False, 'quote_count': 380, 'reply_count': 99, 'retweet_count': 255, 'favorite_count': 198, 'entities': {'hashtags': [], 'urls': [{'url': 'https://t.co/4iEBbmGatP', 'expanded_url': 'https://www.theguardian.com/world/2021/feb/13/new-do-not-resuscitate-orders-imposed-on-covid-19-patients-with-learning-difficulties?utm_term=Autofeed&CMP=twt_gu&utm_medium&utm_source=Twitter#Echobox=1613225875', 'display_url': 'theguardian.com/world/2021/feb…', 'indices': [88, 111]}], 'user_mentions': [], 'symbols': []}, 'favorited': False, 'retweeted': False, 'possibly_sensitive': False, 'filter_level': 'low', 'lang': 'en'}, 'quoted_status_permalink': {'url': 'https://t.co/aqZ3nGFtoF', 'expanded': 'https://twitter.com/guardian/status/1360595747708809218', 'display': 'twitter.com/guardian/statu…'}, 'is_quote_status': True, 'quote_count': 0, 'reply_count': 0, 'retweet_count': 0, 'favorite_count': 0, 'entities': {'hashtags': [], 'urls': [], 'user_mentions': [{'screen_name': 'nthnashma', 'name': 'nathan ma', 'id': 429614846, 'id_str': '429614846', 'indices': [3, 13]}], 'symbols': []}, 'favorited': False, 'retweeted': False, 'filter_level': 'low', 'lang': 'en', 'timestamp_ms': '1613234248523'}\n",
      "{'created_at': 'Sat Feb 12 16:39:51 +0000 2021', 'id': 1360629770946510859, 'id_str': '1360629770946510859', 'text': 'RT @kasie: Sen. Jeff Merkley tells us @NBCNews @NBCNewsNow calling witnesses could lead to suspension of trial for “weeks” while they’re de…', 'source': '<a href=\"https://mobile.twitter.com\" rel=\"nofollow\">Twitter Web App</a>', 'truncated': False, 'in_reply_to_status_id': None, 'in_reply_to_status_id_str': None, 'in_reply_to_user_id': None, 'in_reply_to_user_id_str': None, 'in_reply_to_screen_name': None, 'user': {'id': 744304995185664000, 'id_str': '744304995185664000', 'name': 'Joe Proznick', 'screen_name': 'joe_proznick', 'location': 'Jacksonville, Florida', 'url': None, 'description': 'I am a nice guy, but ladies I am not flirting with you, because I am very happily married. #Resistance', 'translator_type': 'none', 'protected': False, 'verified': False, 'followers_count': 346, 'friends_count': 1013, 'listed_count': 1, 'favourites_count': 46323, 'statuses_count': 22503, 'created_at': 'Sat Jun 18 23:05:14 +0000 2016', 'utc_offset': None, 'time_zone': None, 'geo_enabled': True, 'lang': None, 'contributors_enabled': False, 'is_translator': False, 'profile_background_color': '000000', 'profile_background_image_url': 'http://abs.twimg.com/images/themes/theme1/bg.png', 'profile_background_image_url_https': 'https://abs.twimg.com/images/themes/theme1/bg.png', 'profile_background_tile': False, 'profile_link_color': 'E81C4F', 'profile_sidebar_border_color': '000000', 'profile_sidebar_fill_color': '000000', 'profile_text_color': '000000', 'profile_use_background_image': False, 'profile_image_url': 'http://pbs.twimg.com/profile_images/1356264365255782402/SQcn4DaW_normal.jpg', 'profile_image_url_https': 'https://pbs.twimg.com/profile_images/1356264365255782402/SQcn4DaW_normal.jpg', 'default_profile': False, 'default_profile_image': False, 'following': None, 'follow_request_sent': None, 'notifications': None}, 'geo': None, 'coordinates': None, 'place': None, 'contributors': None, 'retweeted_status': {'created_at': 'Sat Feb 12 16:31:03 +0000 2021', 'id': 1360627558023331844, 'id_str': '1360627558023331844', 'text': 'Sen. Jeff Merkley tells us @NBCNews @NBCNewsNow calling witnesses could lead to suspension of trial for “weeks” whi… https://t.co/UZDk3Laznk', 'source': '<a href=\"http://twitter.com/download/iphone\" rel=\"nofollow\">Twitter for iPhone</a>', 'truncated': True, 'in_reply_to_status_id': None, 'in_reply_to_status_id_str': None, 'in_reply_to_user_id': None, 'in_reply_to_user_id_str': None, 'in_reply_to_screen_name': None, 'user': {'id': 12354832, 'id_str': '12354832', 'name': 'Kasie Hunt', 'screen_name': 'kasie', 'location': 'Washington, DC', 'url': None, 'description': '@NBCNews Capitol Hill Correspondent. Host, #WayTooEarly, 5am ET M-F @MSNBC. Once/always #Wire1 @AP. Why are you awake?! Tell us: WayTooEarly@msnbc.com', 'translator_type': 'none', 'protected': False, 'verified': True, 'followers_count': 608342, 'friends_count': 2416, 'listed_count': 5918, 'favourites_count': 21911, 'statuses_count': 37120, 'created_at': 'Thu Jan 17 11:28:36 +0000 2008', 'utc_offset': None, 'time_zone': None, 'geo_enabled': True, 'lang': None, 'contributors_enabled': False, 'is_translator': False, 'profile_background_color': 'C6E2EE', 'profile_background_image_url': 'http://abs.twimg.com/images/themes/theme2/bg.gif', 'profile_background_image_url_https': 'https://abs.twimg.com/images/themes/theme2/bg.gif', 'profile_background_tile': False, 'profile_link_color': '1F98C7', 'profile_sidebar_border_color': 'FFFFFF', 'profile_sidebar_fill_color': 'DAECF4', 'profile_text_color': '663B12', 'profile_use_background_image': True, 'profile_image_url': 'http://pbs.twimg.com/profile_images/1235655767698661376/bIU9xP3k_normal.jpg', 'profile_image_url_https': 'https://pbs.twimg.com/profile_images/1235655767698661376/bIU9xP3k_normal.jpg', 'profile_banner_url': 'https://pbs.twimg.com/profile_banners/12354832/1610562906', 'default_profile': False, 'default_profile_image': False, 'following': None, 'follow_request_sent': None, 'notifications': None}, 'geo': None, 'coordinates': None, 'place': None, 'contributors': None, 'is_quote_status': False, 'extended_tweet': {'full_text': 'Sen. Jeff Merkley tells us @NBCNews @NBCNewsNow calling witnesses could lead to suspension of trial for “weeks” while they’re deposed — letting Senate move on President Biden‘s COVID plan', 'display_text_range': [0, 187], 'entities': {'hashtags': [], 'urls': [], 'user_mentions': [{'screen_name': 'NBCNews', 'name': 'NBC News', 'id': 14173315, 'id_str': '14173315', 'indices': [27, 35]}, {'screen_name': 'NBCNewsNow', 'name': 'NBC News NOW', 'id': 8036392, 'id_str': '8036392', 'indices': [36, 47]}], 'symbols': []}}, 'quote_count': 31, 'reply_count': 51, 'retweet_count': 177, 'favorite_count': 902, 'entities': {'hashtags': [], 'urls': [{'url': 'https://t.co/UZDk3Laznk', 'expanded_url': 'https://twitter.com/i/web/status/1360627558023331844', 'display_url': 'twitter.com/i/web/status/1…', 'indices': [117, 140]}], 'user_mentions': [{'screen_name': 'NBCNews', 'name': 'NBC News', 'id': 14173315, 'id_str': '14173315', 'indices': [27, 35]}, {'screen_name': 'NBCNewsNow', 'name': 'NBC News NOW', 'id': 8036392, 'id_str': '8036392', 'indices': [36, 47]}], 'symbols': []}, 'favorited': False, 'retweeted': False, 'filter_level': 'low', 'lang': 'en'}, 'is_quote_status': False, 'quote_count': 0, 'reply_count': 0, 'retweet_count': 0, 'favorite_count': 0, 'entities': {'hashtags': [], 'urls': [], 'user_mentions': [{'screen_name': 'kasie', 'name': 'Kasie Hunt', 'id': 12354832, 'id_str': '12354832', 'indices': [3, 9]}, {'screen_name': 'NBCNews', 'name': 'NBC News', 'id': 14173315, 'id_str': '14173315', 'indices': [38, 46]}, {'screen_name': 'NBCNewsNow', 'name': 'NBC News NOW', 'id': 8036392, 'id_str': '8036392', 'indices': [47, 58]}], 'symbols': []}, 'favorited': False, 'retweeted': False, 'filter_level': 'low', 'lang': 'en', 'timestamp_ms': '1613234391329'}\n",
      "{'created_at': 'Sat Feb 12 16:39:41 +0000 2021', 'id': 1360629730148573184, 'id_str': '1360629730148573184', 'text': 'its called an antibody test an Viral antigen detection test. ... and other things are you this uneducated to know h… https://t.co/JdMBHMyfGO', 'source': '<a href=\"https://mobile.twitter.com\" rel=\"nofollow\">Twitter Web App</a>', 'truncated': True, 'in_reply_to_status_id': None, 'in_reply_to_status_id_str': None, 'in_reply_to_user_id': None, 'in_reply_to_user_id_str': None, 'in_reply_to_screen_name': None, 'user': {'id': 1357393355534139393, 'id_str': '1357393355534139393', 'name': 'Markie Balentine', 'screen_name': 'MarkieBalentine', 'location': None, 'url': None, 'description': 'i am markie', 'translator_type': 'none', 'protected': False, 'verified': False, 'followers_count': 180, 'friends_count': 573, 'listed_count': 0, 'favourites_count': 618, 'statuses_count': 1877, 'created_at': 'Thu Feb 04 18:19:51 +0000 2021', 'utc_offset': None, 'time_zone': None, 'geo_enabled': False, 'lang': None, 'contributors_enabled': False, 'is_translator': False, 'profile_background_color': 'F5F8FA', 'profile_background_image_url': '', 'profile_background_image_url_https': '', 'profile_background_tile': False, 'profile_link_color': '1DA1F2', 'profile_sidebar_border_color': 'C0DEED', 'profile_sidebar_fill_color': 'DDEEF6', 'profile_text_color': '333333', 'profile_use_background_image': True, 'profile_image_url': 'http://pbs.twimg.com/profile_images/1357393531426516992/WqXEq_7M_normal.jpg', 'profile_image_url_https': 'https://pbs.twimg.com/profile_images/1357393531426516992/WqXEq_7M_normal.jpg', 'default_profile': True, 'default_profile_image': False, 'following': None, 'follow_request_sent': None, 'notifications': None}, 'geo': None, 'coordinates': None, 'place': None, 'contributors': None, 'quoted_status_id': 1360453470994771968, 'quoted_status_id_str': '1360453470994771968', 'quoted_status': {'created_at': 'Sat Feb 12 04:59:18 +0000 2021', 'id': 1360453470994771968, 'id_str': '1360453470994771968', 'text': '@AlecMacGillis ‘NO DOCUMENTED CASES except for the following documented cases’, lol. I agree that it’s very unlikel… https://t.co/IRzdrkSXnY', 'display_text_range': [15, 140], 'source': '<a href=\"http://twitter.com/download/iphone\" rel=\"nofollow\">Twitter for iPhone</a>', 'truncated': True, 'in_reply_to_status_id': 1360441686451752967, 'in_reply_to_status_id_str': '1360441686451752967', 'in_reply_to_user_id': 436925910, 'in_reply_to_user_id_str': '436925910', 'in_reply_to_screen_name': 'AlecMacGillis', 'user': {'id': 986006725797924864, 'id_str': '986006725797924864', 'name': 'Rustavo', 'screen_name': 'RRcandid', 'location': None, 'url': None, 'description': 'A basic reply guy', 'translator_type': 'none', 'protected': False, 'verified': False, 'followers_count': 14, 'friends_count': 458, 'listed_count': 0, 'favourites_count': 12706, 'statuses_count': 1405, 'created_at': 'Mon Apr 16 22:21:37 +0000 2018', 'utc_offset': None, 'time_zone': None, 'geo_enabled': False, 'lang': None, 'contributors_enabled': False, 'is_translator': False, 'profile_background_color': 'F5F8FA', 'profile_background_image_url': '', 'profile_background_image_url_https': '', 'profile_background_tile': False, 'profile_link_color': '1DA1F2', 'profile_sidebar_border_color': 'C0DEED', 'profile_sidebar_fill_color': 'DDEEF6', 'profile_text_color': '333333', 'profile_use_background_image': True, 'profile_image_url': 'http://pbs.twimg.com/profile_images/1071786733216456704/0HAmD0t7_normal.jpg', 'profile_image_url_https': 'https://pbs.twimg.com/profile_images/1071786733216456704/0HAmD0t7_normal.jpg', 'default_profile': True, 'default_profile_image': False, 'following': None, 'follow_request_sent': None, 'notifications': None}, 'geo': None, 'coordinates': None, 'place': None, 'contributors': None, 'is_quote_status': False, 'extended_tweet': {'full_text': '@AlecMacGillis ‘NO DOCUMENTED CASES except for the following documented cases’, lol. I agree that it’s very unlikely that you’re gonna catch COVID from that guy you ran behind for a mile on that trail in the park, but if you did, how would anyone document it?', 'display_text_range': [15, 259], 'entities': {'hashtags': [], 'urls': [], 'user_mentions': [{'screen_name': 'AlecMacGillis', 'name': 'Alec MacGillis', 'id': 436925910, 'id_str': '436925910', 'indices': [0, 14]}], 'symbols': []}}, 'quote_count': 0, 'reply_count': 1, 'retweet_count': 0, 'favorite_count': 2, 'entities': {'hashtags': [], 'urls': [{'url': 'https://t.co/IRzdrkSXnY', 'expanded_url': 'https://twitter.com/i/web/status/1360453470994771968', 'display_url': 'twitter.com/i/web/status/1…', 'indices': [117, 140]}], 'user_mentions': [{'screen_name': 'AlecMacGillis', 'name': 'Alec MacGillis', 'id': 436925910, 'id_str': '436925910', 'indices': [0, 14]}], 'symbols': []}, 'favorited': False, 'retweeted': False, 'filter_level': 'low', 'lang': 'en'}, 'quoted_status_permalink': {'url': 'https://t.co/Fnez7Bky1i', 'expanded': 'https://twitter.com/RRcandid/status/1360453470994771968', 'display': 'twitter.com/RRcandid/statu…'}, 'is_quote_status': True, 'extended_tweet': {'full_text': 'its called an antibody test an Viral antigen detection test. ... and other things are you this uneducated to know how they can track a virus??? have you ever read any CDC information or anything its called being infected with COVID-19 thats how you document it...', 'display_text_range': [0, 263], 'entities': {'hashtags': [], 'urls': [], 'user_mentions': [], 'symbols': []}}, 'quote_count': 0, 'reply_count': 0, 'retweet_count': 0, 'favorite_count': 0, 'entities': {'hashtags': [], 'urls': [{'url': 'https://t.co/JdMBHMyfGO', 'expanded_url': 'https://twitter.com/i/web/status/1360629730148573184', 'display_url': 'twitter.com/i/web/status/1…', 'indices': [117, 140]}], 'user_mentions': [], 'symbols': []}, 'favorited': False, 'retweeted': False, 'filter_level': 'low', 'lang': 'en', 'timestamp_ms': '1613234381602'}\n",
      "{'created_at': 'Sat Feb 12 16:42:05 +0000 2021', 'id': 1360630335206285320, 'id_str': '1360630335206285320', 'text': 'Barnard Castle brexit job losses- - funny deranged brexitoid Dominic Cummings didn’t see that coming during his COV… https://t.co/ucZDqWln4b', 'source': '<a href=\"http://twitter.com/download/iphone\" rel=\"nofollow\">Twitter for iPhone</a>', 'truncated': True, 'in_reply_to_status_id': None, 'in_reply_to_status_id_str': None, 'in_reply_to_user_id': None, 'in_reply_to_user_id_str': None, 'in_reply_to_screen_name': None, 'user': {'id': 827256021663952901, 'id_str': '827256021663952901', 'name': 'Dr Pat Riart', 'screen_name': 'DrRiart', 'location': ' EU', 'url': None, 'description': '#FBPE -still counting the benefits of brexit on the fingers of no hands', 'translator_type': 'none', 'protected': False, 'verified': False, 'followers_count': 4419, 'friends_count': 4401, 'listed_count': 14, 'favourites_count': 38047, 'statuses_count': 42842, 'created_at': 'Thu Feb 02 20:43:00 +0000 2017', 'utc_offset': None, 'time_zone': None, 'geo_enabled': True, 'lang': None, 'contributors_enabled': False, 'is_translator': False, 'profile_background_color': 'F5F8FA', 'profile_background_image_url': '', 'profile_background_image_url_https': '', 'profile_background_tile': False, 'profile_link_color': '1DA1F2', 'profile_sidebar_border_color': 'C0DEED', 'profile_sidebar_fill_color': 'DDEEF6', 'profile_text_color': '333333', 'profile_use_background_image': True, 'profile_image_url': 'http://pbs.twimg.com/profile_images/827257151609401351/vAothoTa_normal.jpg', 'profile_image_url_https': 'https://pbs.twimg.com/profile_images/827257151609401351/vAothoTa_normal.jpg', 'default_profile': True, 'default_profile_image': False, 'following': None, 'follow_request_sent': None, 'notifications': None}, 'geo': None, 'coordinates': None, 'place': {'id': '460c5314e8a33c64', 'url': 'https://api.twitter.com/1.1/geo/id/460c5314e8a33c64.json', 'place_type': 'city', 'name': 'Wandsworth', 'full_name': 'Wandsworth, London', 'country_code': 'GB', 'country': 'United Kingdom', 'bounding_box': {'type': 'Polygon', 'coordinates': [[[-0.259465, 51.417277], [-0.259465, 51.486036], [-0.127974, 51.486036], [-0.127974, 51.417277]]]}, 'attributes': {}}, 'contributors': None, 'quoted_status_id': 1360566130440568833, 'quoted_status_id_str': '1360566130440568833', 'quoted_status': {'created_at': 'Sat Feb 12 12:26:58 +0000 2021', 'id': 1360566130440568833, 'id_str': '1360566130440568833', 'text': 'GlaxoSmithKline: Ulverston and Barnard Castle Zinnat works to close as plants moved to Austria due to Brexit. I’m t… https://t.co/p4QcVGwOR6', 'source': '<a href=\"http://twitter.com/download/iphone\" rel=\"nofollow\">Twitter for iPhone</a>', 'truncated': True, 'in_reply_to_status_id': None, 'in_reply_to_status_id_str': None, 'in_reply_to_user_id': None, 'in_reply_to_user_id_str': None, 'in_reply_to_screen_name': None, 'user': {'id': 19491239, 'id_str': '19491239', 'name': 'Naomi Smith 🇬🇧🇪🇺🏳️\\u200d🌈🏳️\\u200d⚧️', 'screen_name': 'pimlicat', 'location': 'Citizen of Everywhere', 'url': 'https://hey-mp.uk/?c=work', 'description': 'Chief Exec @bestforbritain, co-host @ohgodwhatnowpod & @bunker_pod, cross-party activist, internationalist, xenophile, humanist, vegan, FCMA/CGMA', 'translator_type': 'none', 'protected': False, 'verified': False, 'followers_count': 25277, 'friends_count': 4980, 'listed_count': 300, 'favourites_count': 25186, 'statuses_count': 48199, 'created_at': 'Sun Jan 25 15:18:14 +0000 2009', 'utc_offset': None, 'time_zone': None, 'geo_enabled': False, 'lang': None, 'contributors_enabled': False, 'is_translator': False, 'profile_background_color': 'B2DFDA', 'profile_background_image_url': 'http://abs.twimg.com/images/themes/theme13/bg.gif', 'profile_background_image_url_https': 'https://abs.twimg.com/images/themes/theme13/bg.gif', 'profile_background_tile': False, 'profile_link_color': 'E0B91B', 'profile_sidebar_border_color': 'EEEEEE', 'profile_sidebar_fill_color': 'FFFFFF', 'profile_text_color': '333333', 'profile_use_background_image': True, 'profile_image_url': 'http://pbs.twimg.com/profile_images/1154046873616801798/F3SoS4cx_normal.jpg', 'profile_image_url_https': 'https://pbs.twimg.com/profile_images/1154046873616801798/F3SoS4cx_normal.jpg', 'profile_banner_url': 'https://pbs.twimg.com/profile_banners/19491239/1603973186', 'default_profile': False, 'default_profile_image': False, 'following': None, 'follow_request_sent': None, 'notifications': None}, 'geo': None, 'coordinates': None, 'place': None, 'contributors': None, 'is_quote_status': False, 'extended_tweet': {'full_text': 'GlaxoSmithKline: Ulverston and Barnard Castle Zinnat works to close as plants moved to Austria due to Brexit. I’m told hundreds of jobs will be lost. \\n\\nhttps://t.co/42YQi1VnlU', 'display_text_range': [0, 175], 'entities': {'hashtags': [], 'urls': [{'url': 'https://t.co/42YQi1VnlU', 'expanded_url': 'https://www.bbc.com/news/uk-england-56027122', 'display_url': 'bbc.com/news/uk-englan…', 'indices': [152, 175]}], 'user_mentions': [], 'symbols': []}}, 'quote_count': 5, 'reply_count': 14, 'retweet_count': 77, 'favorite_count': 83, 'entities': {'hashtags': [], 'urls': [{'url': 'https://t.co/p4QcVGwOR6', 'expanded_url': 'https://twitter.com/i/web/status/1360566130440568833', 'display_url': 'twitter.com/i/web/status/1…', 'indices': [117, 140]}], 'user_mentions': [], 'symbols': []}, 'favorited': False, 'retweeted': False, 'possibly_sensitive': False, 'filter_level': 'low', 'lang': 'en'}, 'quoted_status_permalink': {'url': 'https://t.co/MiizWMn1g7', 'expanded': 'https://twitter.com/pimlicat/status/1360566130440568833', 'display': 'twitter.com/pimlicat/statu…'}, 'is_quote_status': True, 'extended_tweet': {'full_text': 'Barnard Castle brexit job losses- - funny deranged brexitoid Dominic Cummings didn’t see that coming during his COVID eye test @OdysseanProject', 'display_text_range': [0, 143], 'entities': {'hashtags': [], 'urls': [], 'user_mentions': [{'screen_name': 'OdysseanProject', 'name': 'Odyssean Project', 'id': 1328493359544086539, 'id_str': '1328493359544086539', 'indices': [127, 143]}], 'symbols': []}}, 'quote_count': 0, 'reply_count': 0, 'retweet_count': 0, 'favorite_count': 0, 'entities': {'hashtags': [], 'urls': [{'url': 'https://t.co/ucZDqWln4b', 'expanded_url': 'https://twitter.com/i/web/status/1360630335206285320', 'display_url': 'twitter.com/i/web/status/1…', 'indices': [117, 140]}], 'user_mentions': [], 'symbols': []}, 'favorited': False, 'retweeted': False, 'filter_level': 'low', 'lang': 'en', 'timestamp_ms': '1613234525859'}\n",
      "{'created_at': 'Sat Feb 12 16:41:55 +0000 2021', 'id': 1360630291597991937, 'id_str': '1360630291597991937', 'text': 'RT @noahchermes: once covid is over let’s bring back smoking in bars i think we’ve earned it', 'source': '<a href=\"http://twitter.com/download/iphone\" rel=\"nofollow\">Twitter for iPhone</a>', 'truncated': False, 'in_reply_to_status_id': None, 'in_reply_to_status_id_str': None, 'in_reply_to_user_id': None, 'in_reply_to_user_id_str': None, 'in_reply_to_screen_name': None, 'user': {'id': 1279911335992553472, 'id_str': '1279911335992553472', 'name': 'fab', 'screen_name': 'cloudygreenn', 'location': None, 'url': None, 'description': 'I’m just here for the content of my people \\U0001f974', 'translator_type': 'none', 'protected': False, 'verified': False, 'followers_count': 0, 'friends_count': 94, 'listed_count': 0, 'favourites_count': 1580, 'statuses_count': 379, 'created_at': 'Sun Jul 05 22:53:46 +0000 2020', 'utc_offset': None, 'time_zone': None, 'geo_enabled': False, 'lang': None, 'contributors_enabled': False, 'is_translator': False, 'profile_background_color': 'F5F8FA', 'profile_background_image_url': '', 'profile_background_image_url_https': '', 'profile_background_tile': False, 'profile_link_color': '1DA1F2', 'profile_sidebar_border_color': 'C0DEED', 'profile_sidebar_fill_color': 'DDEEF6', 'profile_text_color': '333333', 'profile_use_background_image': True, 'profile_image_url': 'http://pbs.twimg.com/profile_images/1312154745218375681/bOIUUj9a_normal.jpg', 'profile_image_url_https': 'https://pbs.twimg.com/profile_images/1312154745218375681/bOIUUj9a_normal.jpg', 'default_profile': True, 'default_profile_image': False, 'following': None, 'follow_request_sent': None, 'notifications': None}, 'geo': None, 'coordinates': None, 'place': None, 'contributors': None, 'retweeted_status': {'created_at': 'Fri Feb 12 02:35:36 +0000 2021', 'id': 1360054919986880512, 'id_str': '1360054919986880512', 'text': 'once covid is over let’s bring back smoking in bars i think we’ve earned it', 'source': '<a href=\"http://twitter.com/download/iphone\" rel=\"nofollow\">Twitter for iPhone</a>', 'truncated': False, 'in_reply_to_status_id': None, 'in_reply_to_status_id_str': None, 'in_reply_to_user_id': None, 'in_reply_to_user_id_str': None, 'in_reply_to_screen_name': None, 'user': {'id': 17603539, 'id_str': '17603539', 'name': '🤠🤡clownboy🤡🤠', 'screen_name': 'noahchermes', 'location': 'Montréal, QC', 'url': 'http://depop.com/transthreads', 'description': 'noah | transsexual christian dumbass | (he/il)', 'translator_type': 'none', 'protected': False, 'verified': False, 'followers_count': 872, 'friends_count': 793, 'listed_count': 8, 'favourites_count': 210749, 'statuses_count': 29858, 'created_at': 'Mon Nov 24 22:47:12 +0000 2008', 'utc_offset': None, 'time_zone': None, 'geo_enabled': True, 'lang': None, 'contributors_enabled': False, 'is_translator': False, 'profile_background_color': '000000', 'profile_background_image_url': 'http://abs.twimg.com/images/themes/theme1/bg.png', 'profile_background_image_url_https': 'https://abs.twimg.com/images/themes/theme1/bg.png', 'profile_background_tile': True, 'profile_link_color': '7FDBB6', 'profile_sidebar_border_color': '000000', 'profile_sidebar_fill_color': '000000', 'profile_text_color': '8400FF', 'profile_use_background_image': True, 'profile_image_url': 'http://pbs.twimg.com/profile_images/1330137484555128833/Q6JOJDTi_normal.jpg', 'profile_image_url_https': 'https://pbs.twimg.com/profile_images/1330137484555128833/Q6JOJDTi_normal.jpg', 'profile_banner_url': 'https://pbs.twimg.com/profile_banners/17603539/1505761720', 'default_profile': False, 'default_profile_image': False, 'following': None, 'follow_request_sent': None, 'notifications': None}, 'geo': None, 'coordinates': None, 'place': None, 'contributors': None, 'is_quote_status': False, 'quote_count': 1199, 'reply_count': 370, 'retweet_count': 8412, 'favorite_count': 84524, 'entities': {'hashtags': [], 'urls': [], 'user_mentions': [], 'symbols': []}, 'favorited': False, 'retweeted': False, 'filter_level': 'low', 'lang': 'en'}, 'is_quote_status': False, 'quote_count': 0, 'reply_count': 0, 'retweet_count': 0, 'favorite_count': 0, 'entities': {'hashtags': [], 'urls': [], 'user_mentions': [{'screen_name': 'noahchermes', 'name': '🤠🤡clownboy🤡🤠', 'id': 17603539, 'id_str': '17603539', 'indices': [3, 15]}], 'symbols': []}, 'favorited': False, 'retweeted': False, 'filter_level': 'low', 'lang': 'en', 'timestamp_ms': '1613234515462'}\n",
      "{'created_at': 'Sat Feb 12 16:44:16 +0000 2021', 'id': 1360630881854119938, 'id_str': '1360630881854119938', 'text': 'RT @JolyonMaugham: \"This is a company that’s been enriched with contracts worth £350 million and it still doesn’t seem to be enough.”\\nhttps…', 'source': '<a href=\"http://twitter.com/download/android\" rel=\"nofollow\">Twitter for Android</a>', 'truncated': False, 'in_reply_to_status_id': None, 'in_reply_to_status_id_str': None, 'in_reply_to_user_id': None, 'in_reply_to_user_id_str': None, 'in_reply_to_screen_name': None, 'user': {'id': 2156874201, 'id_str': '2156874201', 'name': 'Martin Oxley On the Road in Europe #EU2021', 'screen_name': 'martin_oxley', 'location': 'UK & Europe', 'url': 'https://www.linkedin.com/in/martinoxley', 'description': '#FBPE Europe - freedom, hope & social prosperity 🇪🇺👏', 'translator_type': 'none', 'protected': False, 'verified': False, 'followers_count': 8281, 'friends_count': 8613, 'listed_count': 249, 'favourites_count': 65827, 'statuses_count': 81869, 'created_at': 'Mon Oct 28 07:35:47 +0000 2013', 'utc_offset': None, 'time_zone': None, 'geo_enabled': True, 'lang': None, 'contributors_enabled': False, 'is_translator': False, 'profile_background_color': 'C0DEED', 'profile_background_image_url': 'http://abs.twimg.com/images/themes/theme1/bg.png', 'profile_background_image_url_https': 'https://abs.twimg.com/images/themes/theme1/bg.png', 'profile_background_tile': False, 'profile_link_color': '066E94', 'profile_sidebar_border_color': 'C0DEED', 'profile_sidebar_fill_color': 'DDEEF6', 'profile_text_color': '333333', 'profile_use_background_image': True, 'profile_image_url': 'http://pbs.twimg.com/profile_images/874149041248116736/3ncgCrCN_normal.jpg', 'profile_image_url_https': 'https://pbs.twimg.com/profile_images/874149041248116736/3ncgCrCN_normal.jpg', 'profile_banner_url': 'https://pbs.twimg.com/profile_banners/2156874201/1609341426', 'default_profile': False, 'default_profile_image': False, 'following': None, 'follow_request_sent': None, 'notifications': None}, 'geo': None, 'coordinates': None, 'place': None, 'contributors': None, 'retweeted_status': {'created_at': 'Fri Feb 12 20:27:27 +0000 2021', 'id': 1360324660525740039, 'id_str': '1360324660525740039', 'text': '\"This is a company that’s been enriched with contracts worth £350 million and it still doesn’t seem to be enough.”\\nhttps://t.co/DvgUs3XItp', 'source': '<a href=\"http://twitter.com/download/android\" rel=\"nofollow\">Twitter for Android</a>', 'truncated': False, 'in_reply_to_status_id': None, 'in_reply_to_status_id_str': None, 'in_reply_to_user_id': None, 'in_reply_to_user_id_str': None, 'in_reply_to_screen_name': None, 'user': {'id': 406842374, 'id_str': '406842374', 'name': 'Jo Maugham', 'screen_name': 'JolyonMaugham', 'location': 'London', 'url': 'http://goodlawproject.org', 'description': 'Director @GoodLawProject. Barrister. Hon Professor @DurhamLawSchool. Live your values. Has the receipts. He/him.', 'translator_type': 'none', 'protected': False, 'verified': True, 'followers_count': 265795, 'friends_count': 1847, 'listed_count': 1724, 'favourites_count': 65429, 'statuses_count': 117350, 'created_at': 'Mon Nov 07 08:23:01 +0000 2011', 'utc_offset': None, 'time_zone': None, 'geo_enabled': True, 'lang': None, 'contributors_enabled': False, 'is_translator': False, 'profile_background_color': '709397', 'profile_background_image_url': 'http://abs.twimg.com/images/themes/theme6/bg.gif', 'profile_background_image_url_https': 'https://abs.twimg.com/images/themes/theme6/bg.gif', 'profile_background_tile': False, 'profile_link_color': 'FF3300', 'profile_sidebar_border_color': '86A4A6', 'profile_sidebar_fill_color': 'A0C5C7', 'profile_text_color': '333333', 'profile_use_background_image': False, 'profile_image_url': 'http://pbs.twimg.com/profile_images/1114418560569311232/lPQh79Be_normal.jpg', 'profile_image_url_https': 'https://pbs.twimg.com/profile_images/1114418560569311232/lPQh79Be_normal.jpg', 'profile_banner_url': 'https://pbs.twimg.com/profile_banners/406842374/1568954167', 'default_profile': False, 'default_profile_image': False, 'following': None, 'follow_request_sent': None, 'notifications': None}, 'geo': None, 'coordinates': None, 'place': None, 'contributors': None, 'is_quote_status': False, 'quote_count': 32, 'reply_count': 43, 'retweet_count': 854, 'favorite_count': 1689, 'entities': {'hashtags': [], 'urls': [{'url': 'https://t.co/DvgUs3XItp', 'expanded_url': 'https://www.telegraph.co.uk/news/2021/02/12/pest-control-firm-million-pound-covid-contacts-claimed-thousands/', 'display_url': 'telegraph.co.uk/news/2021/02/1…', 'indices': [115, 138]}], 'user_mentions': [], 'symbols': []}, 'favorited': False, 'retweeted': False, 'possibly_sensitive': False, 'filter_level': 'low', 'lang': 'en'}, 'is_quote_status': False, 'quote_count': 0, 'reply_count': 0, 'retweet_count': 0, 'favorite_count': 0, 'entities': {'hashtags': [], 'urls': [], 'user_mentions': [{'screen_name': 'JolyonMaugham', 'name': 'Jo Maugham', 'id': 406842374, 'id_str': '406842374', 'indices': [3, 17]}], 'symbols': []}, 'favorited': False, 'retweeted': False, 'filter_level': 'low', 'lang': 'en', 'timestamp_ms': '1613234656190'}\n",
      "{'created_at': 'Sat Feb 12 16:46:38 +0000 2021', 'id': 1360631477537558535, 'id_str': '1360631477537558535', 'text': 'RT @anirb_das: 1. Canada is prioritizing giving PRs to those who are already living and working in Canada. During Covid times, it makes sen…', 'source': '<a href=\"http://twitter.com/download/android\" rel=\"nofollow\">Twitter for Android</a>', 'truncated': False, 'in_reply_to_status_id': None, 'in_reply_to_status_id_str': None, 'in_reply_to_user_id': None, 'in_reply_to_user_id_str': None, 'in_reply_to_screen_name': None, 'user': {'id': 265265590, 'id_str': '265265590', 'name': 'Harish Chennamsetty', 'screen_name': 'HarishChenmsety', 'location': 'Lowell, MA', 'url': 'https://www.linkedin.com/in/chharish', 'description': 'An ordinary citizen. Systems Engineer.\\nProblem Solver. Legal Dreamer. RTs are not endorsements.', 'translator_type': 'none', 'protected': False, 'verified': False, 'followers_count': 193, 'friends_count': 229, 'listed_count': 6, 'favourites_count': 189, 'statuses_count': 822, 'created_at': 'Sun Mar 12 08:09:54 +0000 2011', 'utc_offset': None, 'time_zone': None, 'geo_enabled': True, 'lang': None, 'contributors_enabled': False, 'is_translator': False, 'profile_background_color': '478FB2', 'profile_background_image_url': 'http://abs.twimg.com/images/themes/theme15/bg.png', 'profile_background_image_url_https': 'https://abs.twimg.com/images/themes/theme15/bg.png', 'profile_background_tile': False, 'profile_link_color': '478EB2', 'profile_sidebar_border_color': 'FFFFFF', 'profile_sidebar_fill_color': 'C0DFEC', 'profile_text_color': '333333', 'profile_use_background_image': True, 'profile_image_url': 'http://pbs.twimg.com/profile_images/558816404497903616/FTAiZLw0_normal.jpeg', 'profile_image_url_https': 'https://pbs.twimg.com/profile_images/558816404497903616/FTAiZLw0_normal.jpeg', 'profile_banner_url': 'https://pbs.twimg.com/profile_banners/265265590/1419901134', 'default_profile': False, 'default_profile_image': False, 'following': None, 'follow_request_sent': None, 'notifications': None}, 'geo': None, 'coordinates': None, 'place': None, 'contributors': None, 'retweeted_status': {'created_at': 'Sat Feb 12 16:45:48 +0000 2021', 'id': 1360631269072244736, 'id_str': '1360631269072244736', 'text': '1. Canada is prioritizing giving PRs to those who are already living and working in Canada. During Covid times, it… https://t.co/Q7i29sJhZA', 'source': '<a href=\"http://twitter.com/download/android\" rel=\"nofollow\">Twitter for Android</a>', 'truncated': True, 'in_reply_to_status_id': None, 'in_reply_to_status_id_str': None, 'in_reply_to_user_id': None, 'in_reply_to_user_id_str': None, 'in_reply_to_screen_name': None, 'user': {'id': 2717152555, 'id_str': '2717152555', 'name': 'Anirban Das', 'screen_name': 'anirb_das', 'location': 'Baltimore', 'url': None, 'description': 'Founder and President, Skilled Immigrants in America (SIIA) http://siia.us @SIIA_US. Views are my own unless RT-ed by SIIA account.', 'translator_type': 'none', 'protected': False, 'verified': False, 'followers_count': 6292, 'friends_count': 29, 'listed_count': 28, 'favourites_count': 1359, 'statuses_count': 12438, 'created_at': 'Fri Aug 08 13:38:34 +0000 2014', 'utc_offset': None, 'time_zone': None, 'geo_enabled': True, 'lang': None, 'contributors_enabled': False, 'is_translator': False, 'profile_background_color': 'C6E2EE', 'profile_background_image_url': 'http://abs.twimg.com/images/themes/theme2/bg.gif', 'profile_background_image_url_https': 'https://abs.twimg.com/images/themes/theme2/bg.gif', 'profile_background_tile': False, 'profile_link_color': '1F98C7', 'profile_sidebar_border_color': 'C6E2EE', 'profile_sidebar_fill_color': 'DAECF4', 'profile_text_color': '663B12', 'profile_use_background_image': True, 'profile_image_url': 'http://pbs.twimg.com/profile_images/1299076418266165248/I9WQgEw8_normal.jpg', 'profile_image_url_https': 'https://pbs.twimg.com/profile_images/1299076418266165248/I9WQgEw8_normal.jpg', 'profile_banner_url': 'https://pbs.twimg.com/profile_banners/2717152555/1422392408', 'default_profile': False, 'default_profile_image': False, 'following': None, 'follow_request_sent': None, 'notifications': None}, 'geo': None, 'coordinates': None, 'place': None, 'contributors': None, 'is_quote_status': False, 'extended_tweet': {'full_text': '1. Canada is prioritizing giving PRs to those who are already living and working in Canada. During Covid times, it makes sense right? Or any time? Somehow this concept is foreign to US. Folks fighting hard to bring new people in while those already here struggle to get EADs.', 'display_text_range': [0, 275], 'entities': {'hashtags': [], 'urls': [], 'user_mentions': [], 'symbols': []}}, 'quote_count': 0, 'reply_count': 1, 'retweet_count': 3, 'favorite_count': 1, 'entities': {'hashtags': [], 'urls': [{'url': 'https://t.co/Q7i29sJhZA', 'expanded_url': 'https://twitter.com/i/web/status/1360631269072244736', 'display_url': 'twitter.com/i/web/status/1…', 'indices': [116, 139]}], 'user_mentions': [], 'symbols': []}, 'favorited': False, 'retweeted': False, 'filter_level': 'low', 'lang': 'en'}, 'is_quote_status': False, 'quote_count': 0, 'reply_count': 0, 'retweet_count': 0, 'favorite_count': 0, 'entities': {'hashtags': [], 'urls': [], 'user_mentions': [{'screen_name': 'anirb_das', 'name': 'Anirban Das', 'id': 2717152555, 'id_str': '2717152555', 'indices': [3, 13]}], 'symbols': []}, 'favorited': False, 'retweeted': False, 'filter_level': 'low', 'lang': 'en', 'timestamp_ms': '1613234798212'}\n",
      "{'created_at': 'Sat Feb 12 16:46:27 +0000 2021', 'id': 1360631434558406658, 'id_str': '1360631434558406658', 'text': 'RT @jaketapper: The story keeps getting worse for Andrew Cuomo on Covid-19\\n\\nhttps://t.co/Gb8AVApkH6', 'source': '<a href=\"http://twitter.com/download/iphone\" rel=\"nofollow\">Twitter for iPhone</a>', 'truncated': False, 'in_reply_to_status_id': None, 'in_reply_to_status_id_str': None, 'in_reply_to_user_id': None, 'in_reply_to_user_id_str': None, 'in_reply_to_screen_name': None, 'user': {'id': 1203035740336082944, 'id_str': '1203035740336082944', 'name': 'Justin Watch', 'screen_name': 'watch_justin', 'location': 'Rent Free in Your Head', 'url': None, 'description': '#BearDown #MAGA', 'translator_type': 'none', 'protected': False, 'verified': False, 'followers_count': 259, 'friends_count': 2006, 'listed_count': 0, 'favourites_count': 54024, 'statuses_count': 61690, 'created_at': 'Fri Dec 06 19:37:40 +0000 2019', 'utc_offset': None, 'time_zone': None, 'geo_enabled': False, 'lang': None, 'contributors_enabled': False, 'is_translator': False, 'profile_background_color': 'F5F8FA', 'profile_background_image_url': '', 'profile_background_image_url_https': '', 'profile_background_tile': False, 'profile_link_color': '1DA1F2', 'profile_sidebar_border_color': 'C0DEED', 'profile_sidebar_fill_color': 'DDEEF6', 'profile_text_color': '333333', 'profile_use_background_image': True, 'profile_image_url': 'http://pbs.twimg.com/profile_images/1300446202882711554/O6tZmZJy_normal.jpg', 'profile_image_url_https': 'https://pbs.twimg.com/profile_images/1300446202882711554/O6tZmZJy_normal.jpg', 'profile_banner_url': 'https://pbs.twimg.com/profile_banners/1203035740336082944/1575724716', 'default_profile': True, 'default_profile_image': False, 'following': None, 'follow_request_sent': None, 'notifications': None}, 'geo': None, 'coordinates': None, 'place': None, 'contributors': None, 'retweeted_status': {'created_at': 'Fri Feb 12 22:31:10 +0000 2021', 'id': 1360355795427352576, 'id_str': '1360355795427352576', 'text': 'The story keeps getting worse for Andrew Cuomo on Covid-19\\n\\nhttps://t.co/Gb8AVApkH6', 'source': '<a href=\"http://twitter.com/download/iphone\" rel=\"nofollow\">Twitter for iPhone</a>', 'truncated': False, 'in_reply_to_status_id': None, 'in_reply_to_status_id_str': None, 'in_reply_to_user_id': None, 'in_reply_to_user_id_str': None, 'in_reply_to_screen_name': None, 'user': {'id': 14529929, 'id_str': '14529929', 'name': 'Jake Tapper', 'screen_name': 'jaketapper', 'location': 'Washington, D.C.', 'url': 'https://jaketapper.com', 'description': 'Dad, husband, CNN Anchor of @TheLeadCNN and @CNNSOTU, author of @TheOutpostbook and @TheHellfireClub, long-suffering Philly sports fan. 🦅 🇺🇸', 'translator_type': 'none', 'protected': False, 'verified': True, 'followers_count': 3341662, 'friends_count': 9527, 'listed_count': 25227, 'favourites_count': 33115, 'statuses_count': 237990, 'created_at': 'Fri Apr 25 17:23:28 +0000 2008', 'utc_offset': None, 'time_zone': None, 'geo_enabled': True, 'lang': None, 'contributors_enabled': False, 'is_translator': False, 'profile_background_color': 'EDECE9', 'profile_background_image_url': 'http://abs.twimg.com/images/themes/theme3/bg.gif', 'profile_background_image_url_https': 'https://abs.twimg.com/images/themes/theme3/bg.gif', 'profile_background_tile': False, 'profile_link_color': '088253', 'profile_sidebar_border_color': 'FFFFFF', 'profile_sidebar_fill_color': 'E3E2DE', 'profile_text_color': '634047', 'profile_use_background_image': True, 'profile_image_url': 'http://pbs.twimg.com/profile_images/1174871900062924801/yPzQf1y6_normal.jpg', 'profile_image_url_https': 'https://pbs.twimg.com/profile_images/1174871900062924801/yPzQf1y6_normal.jpg', 'profile_banner_url': 'https://pbs.twimg.com/profile_banners/14529929/1353593155', 'default_profile': False, 'default_profile_image': False, 'following': None, 'follow_request_sent': None, 'notifications': None}, 'geo': None, 'coordinates': None, 'place': None, 'contributors': None, 'is_quote_status': False, 'quote_count': 966, 'reply_count': 3907, 'retweet_count': 2660, 'favorite_count': 9649, 'entities': {'hashtags': [], 'urls': [{'url': 'https://t.co/Gb8AVApkH6', 'expanded_url': 'https://www.cnn.com/2021/02/12/politics/andrew-cuomo-nursing-homes-covid-19/index.html', 'display_url': 'cnn.com/2021/02/12/pol…', 'indices': [60, 83]}], 'user_mentions': [], 'symbols': []}, 'favorited': False, 'retweeted': False, 'possibly_sensitive': False, 'filter_level': 'low', 'lang': 'en'}, 'is_quote_status': False, 'quote_count': 0, 'reply_count': 0, 'retweet_count': 0, 'favorite_count': 0, 'entities': {'hashtags': [], 'urls': [{'url': 'https://t.co/Gb8AVApkH6', 'expanded_url': 'https://www.cnn.com/2021/02/12/politics/andrew-cuomo-nursing-homes-covid-19/index.html', 'display_url': 'cnn.com/2021/02/12/pol…', 'indices': [76, 99]}], 'user_mentions': [{'screen_name': 'jaketapper', 'name': 'Jake Tapper', 'id': 14529929, 'id_str': '14529929', 'indices': [3, 14]}], 'symbols': []}, 'favorited': False, 'retweeted': False, 'possibly_sensitive': False, 'filter_level': 'low', 'lang': 'en', 'timestamp_ms': '1613234787965'}\n",
      "{'created_at': 'Sat Feb 12 16:49:01 +0000 2021', 'id': 1360632077574524933, 'id_str': '1360632077574524933', 'text': '#COVID-19   \\n\\nThe stress of COVID-19 that people have is attacking someone indiscriminately.  This is a crazy socie… https://t.co/cTOmBwMrAk', 'source': '<a href=\"http://twitter.com/download/iphone\" rel=\"nofollow\">Twitter for iPhone</a>', 'truncated': True, 'in_reply_to_status_id': None, 'in_reply_to_status_id_str': None, 'in_reply_to_user_id': None, 'in_reply_to_user_id_str': None, 'in_reply_to_screen_name': None, 'user': {'id': 2852028858, 'id_str': '2852028858', 'name': 'どい先生 ／Doi teacher', 'screen_name': 'perrier54321', 'location': '首都圏', 'url': None, 'description': 'My favorite things right now are art, music, movies,writing and photography. And I am very worried about global warming.', 'translator_type': 'none', 'protected': False, 'verified': False, 'followers_count': 279, 'friends_count': 2759, 'listed_count': 1, 'favourites_count': 2603, 'statuses_count': 8787, 'created_at': 'Sat Oct 11 14:22:39 +0000 2014', 'utc_offset': None, 'time_zone': None, 'geo_enabled': True, 'lang': None, 'contributors_enabled': False, 'is_translator': False, 'profile_background_color': '000000', 'profile_background_image_url': 'http://abs.twimg.com/images/themes/theme1/bg.png', 'profile_background_image_url_https': 'https://abs.twimg.com/images/themes/theme1/bg.png', 'profile_background_tile': False, 'profile_link_color': '4A913C', 'profile_sidebar_border_color': '000000', 'profile_sidebar_fill_color': '000000', 'profile_text_color': '000000', 'profile_use_background_image': False, 'profile_image_url': 'http://pbs.twimg.com/profile_images/1354597125942726658/rPxwe2mW_normal.jpg', 'profile_image_url_https': 'https://pbs.twimg.com/profile_images/1354597125942726658/rPxwe2mW_normal.jpg', 'profile_banner_url': 'https://pbs.twimg.com/profile_banners/2852028858/1612636816', 'default_profile': False, 'default_profile_image': False, 'following': None, 'follow_request_sent': None, 'notifications': None}, 'geo': None, 'coordinates': None, 'place': None, 'contributors': None, 'is_quote_status': False, 'extended_tweet': {'full_text': '#COVID-19   \\n\\nThe stress of COVID-19 that people have is attacking someone indiscriminately.  This is a crazy society.  A society that has lost reason, ethics, and morality is like the city of Sodom and Gomorrah.', 'display_text_range': [0, 212], 'entities': {'hashtags': [{'text': 'COVID', 'indices': [0, 6]}], 'urls': [], 'user_mentions': [], 'symbols': []}}, 'quote_count': 0, 'reply_count': 0, 'retweet_count': 0, 'favorite_count': 0, 'entities': {'hashtags': [{'text': 'COVID', 'indices': [0, 6]}], 'urls': [{'url': 'https://t.co/cTOmBwMrAk', 'expanded_url': 'https://twitter.com/i/web/status/1360632077574524933', 'display_url': 'twitter.com/i/web/status/1…', 'indices': [117, 140]}], 'user_mentions': [], 'symbols': []}, 'favorited': False, 'retweeted': False, 'filter_level': 'low', 'lang': 'en', 'timestamp_ms': '1613234941272'}\n",
      "{'created_at': 'Sat Feb 12 16:48:52 +0000 2021', 'id': 1360632039397986305, 'id_str': '1360632039397986305', 'text': 'I remember when news of the COVID-19 variant being detected in Bontoc broke out and a lot of netizens were confused… https://t.co/rK7hDdP9LJ', 'source': '<a href=\"https://mobile.twitter.com\" rel=\"nofollow\">Twitter Web App</a>', 'truncated': True, 'in_reply_to_status_id': None, 'in_reply_to_status_id_str': None, 'in_reply_to_user_id': None, 'in_reply_to_user_id_str': None, 'in_reply_to_screen_name': None, 'user': {'id': 1340936934969888769, 'id_str': '1340936934969888769', 'name': 'daleiseose', 'screen_name': 'isanghuse', 'location': None, 'url': None, 'description': \"'Kakailyan' is the term from my dialect that I like the most.\\n\\n(Tweets will contain typos, errors)\", 'translator_type': 'none', 'protected': False, 'verified': False, 'followers_count': 0, 'friends_count': 15, 'listed_count': 0, 'favourites_count': 135, 'statuses_count': 44, 'created_at': 'Mon Dec 21 08:27:44 +0000 2020', 'utc_offset': None, 'time_zone': None, 'geo_enabled': False, 'lang': None, 'contributors_enabled': False, 'is_translator': False, 'profile_background_color': 'F5F8FA', 'profile_background_image_url': '', 'profile_background_image_url_https': '', 'profile_background_tile': False, 'profile_link_color': '1DA1F2', 'profile_sidebar_border_color': 'C0DEED', 'profile_sidebar_fill_color': 'DDEEF6', 'profile_text_color': '333333', 'profile_use_background_image': True, 'profile_image_url': 'http://pbs.twimg.com/profile_images/1358258104786325505/3XuqhnKr_normal.jpg', 'profile_image_url_https': 'https://pbs.twimg.com/profile_images/1358258104786325505/3XuqhnKr_normal.jpg', 'profile_banner_url': 'https://pbs.twimg.com/profile_banners/1340936934969888769/1612668944', 'default_profile': True, 'default_profile_image': False, 'following': None, 'follow_request_sent': None, 'notifications': None}, 'geo': None, 'coordinates': None, 'place': None, 'contributors': None, 'is_quote_status': False, 'extended_tweet': {'full_text': 'I remember when news of the COVID-19 variant being detected in Bontoc broke out and a lot of netizens were confused about how the virus managed to reach the \"bundok\", even making the capital their laughing stock. I thought they could have scrutinized the report without...', 'display_text_range': [0, 272], 'entities': {'hashtags': [], 'urls': [], 'user_mentions': [], 'symbols': []}}, 'quote_count': 0, 'reply_count': 0, 'retweet_count': 0, 'favorite_count': 0, 'entities': {'hashtags': [], 'urls': [{'url': 'https://t.co/rK7hDdP9LJ', 'expanded_url': 'https://twitter.com/i/web/status/1360632039397986305', 'display_url': 'twitter.com/i/web/status/1…', 'indices': [117, 140]}], 'user_mentions': [], 'symbols': []}, 'favorited': False, 'retweeted': False, 'filter_level': 'low', 'lang': 'en', 'timestamp_ms': '1613234932170'}\n",
      "{'created_at': 'Sat Feb 12 16:51:16 +0000 2021', 'id': 1360632646573948928, 'id_str': '1360632646573948928', 'text': 'RT @JackPosobiec: Chris Cuomo loves to lecture America from his high horse \\n\\nWhen it comes to his own family, he’s silent\\n\\nHe’s done https:…', 'source': '<a href=\"http://twitter.com/download/iphone\" rel=\"nofollow\">Twitter for iPhone</a>', 'truncated': False, 'in_reply_to_status_id': None, 'in_reply_to_status_id_str': None, 'in_reply_to_user_id': None, 'in_reply_to_user_id_str': None, 'in_reply_to_screen_name': None, 'user': {'id': 964191724351434752, 'id_str': '964191724351434752', 'name': 'sherry', 'screen_name': 'sherryclayton53', 'location': 'Campobello,SC', 'url': None, 'description': 'I love the Lord, I love my family, I love my country, constitution and my President Trump NRA member!✝️🇺🇸😎', 'translator_type': 'none', 'protected': False, 'verified': False, 'followers_count': 2343, 'friends_count': 3564, 'listed_count': 2, 'favourites_count': 138494, 'statuses_count': 166979, 'created_at': 'Thu Feb 15 17:36:35 +0000 2018', 'utc_offset': None, 'time_zone': None, 'geo_enabled': False, 'lang': None, 'contributors_enabled': False, 'is_translator': False, 'profile_background_color': '000000', 'profile_background_image_url': 'http://abs.twimg.com/images/themes/theme1/bg.png', 'profile_background_image_url_https': 'https://abs.twimg.com/images/themes/theme1/bg.png', 'profile_background_tile': False, 'profile_link_color': '981CEB', 'profile_sidebar_border_color': '000000', 'profile_sidebar_fill_color': '000000', 'profile_text_color': '000000', 'profile_use_background_image': False, 'profile_image_url': 'http://abs.twimg.com/sticky/default_profile_images/default_profile_normal.png', 'profile_image_url_https': 'https://abs.twimg.com/sticky/default_profile_images/default_profile_normal.png', 'default_profile': False, 'default_profile_image': False, 'following': None, 'follow_request_sent': None, 'notifications': None}, 'geo': None, 'coordinates': None, 'place': None, 'contributors': None, 'retweeted_status': {'created_at': 'Sat Feb 12 15:39:32 +0000 2021', 'id': 1360614590397169667, 'id_str': '1360614590397169667', 'text': 'Chris Cuomo loves to lecture America from his high horse \\n\\nWhen it comes to his own family, he’s silent\\n\\nHe’s done https://t.co/XCeQFetwxh', 'source': '<a href=\"http://twitter.com/download/iphone\" rel=\"nofollow\">Twitter for iPhone</a>', 'truncated': False, 'in_reply_to_status_id': None, 'in_reply_to_status_id_str': None, 'in_reply_to_user_id': None, 'in_reply_to_user_id_str': None, 'in_reply_to_screen_name': None, 'user': {'id': 592730371, 'id_str': '592730371', 'name': 'Jack Posobiec 🇺🇸', 'screen_name': 'JackPosobiec', 'location': 'Rent-free in your head', 'url': 'http://AntifaMovie.com', 'description': 'Christian, China analyst, veteran', 'translator_type': 'none', 'protected': False, 'verified': True, 'followers_count': 1187940, 'friends_count': 936, 'listed_count': 5637, 'favourites_count': 113373, 'statuses_count': 78786, 'created_at': 'Mon May 28 13:31:22 +0000 2012', 'utc_offset': None, 'time_zone': None, 'geo_enabled': True, 'lang': None, 'contributors_enabled': False, 'is_translator': False, 'profile_background_color': '000000', 'profile_background_image_url': 'http://abs.twimg.com/images/themes/theme1/bg.png', 'profile_background_image_url_https': 'https://abs.twimg.com/images/themes/theme1/bg.png', 'profile_background_tile': True, 'profile_link_color': '1B95E0', 'profile_sidebar_border_color': 'FFFFFF', 'profile_sidebar_fill_color': 'DDEEF6', 'profile_text_color': '333333', 'profile_use_background_image': True, 'profile_image_url': 'http://pbs.twimg.com/profile_images/1353499770749386752/6OwgEoO7_normal.jpg', 'profile_image_url_https': 'https://pbs.twimg.com/profile_images/1353499770749386752/6OwgEoO7_normal.jpg', 'profile_banner_url': 'https://pbs.twimg.com/profile_banners/592730371/1604684480', 'default_profile': False, 'default_profile_image': False, 'following': None, 'follow_request_sent': None, 'notifications': None}, 'geo': None, 'coordinates': None, 'place': None, 'contributors': None, 'is_quote_status': False, 'quote_count': 43, 'reply_count': 119, 'retweet_count': 802, 'favorite_count': 2952, 'entities': {'hashtags': [], 'urls': [{'url': 'https://t.co/XCeQFetwxh', 'expanded_url': 'https://www.dailymail.co.uk/news/article-9256103/Chris-Cuomo-fire-saying-brothers-COVID-deaths-coverup-scandal.html', 'display_url': 'dailymail.co.uk/news/article-9…', 'indices': [115, 138]}], 'user_mentions': [], 'symbols': []}, 'favorited': False, 'retweeted': False, 'possibly_sensitive': False, 'filter_level': 'low', 'lang': 'en'}, 'is_quote_status': False, 'quote_count': 0, 'reply_count': 0, 'retweet_count': 0, 'favorite_count': 0, 'entities': {'hashtags': [], 'urls': [], 'user_mentions': [{'screen_name': 'JackPosobiec', 'name': 'Jack Posobiec 🇺🇸', 'id': 592730371, 'id_str': '592730371', 'indices': [3, 16]}], 'symbols': []}, 'favorited': False, 'retweeted': False, 'filter_level': 'low', 'lang': 'en', 'timestamp_ms': '1613235076932'}\n",
      "{'created_at': 'Sat Feb 12 16:51:07 +0000 2021', 'id': 1360632604932902918, 'id_str': '1360632604932902918', 'text': 'so @OHdeptofhealth made an employee resign over the mid-reported COVID-19 deaths? While our entire legislature is l… https://t.co/DHL8z26ACh', 'source': '<a href=\"http://twitter.com/#!/download/ipad\" rel=\"nofollow\">Twitter for iPad</a>', 'truncated': True, 'in_reply_to_status_id': None, 'in_reply_to_status_id_str': None, 'in_reply_to_user_id': None, 'in_reply_to_user_id_str': None, 'in_reply_to_screen_name': None, 'user': {'id': 1299714446470909952, 'id_str': '1299714446470909952', 'name': 'Columbus Alleyways', 'screen_name': 'columbusalleys', 'location': 'Flavortown, Ohio', 'url': None, 'description': 'Pictures of Columbus Alleyways  \\U0001f9f1 🚎 🌃', 'translator_type': 'none', 'protected': False, 'verified': False, 'followers_count': 96, 'friends_count': 160, 'listed_count': 0, 'favourites_count': 1494, 'statuses_count': 935, 'created_at': 'Sat Aug 29 14:24:18 +0000 2020', 'utc_offset': None, 'time_zone': None, 'geo_enabled': False, 'lang': None, 'contributors_enabled': False, 'is_translator': False, 'profile_background_color': 'F5F8FA', 'profile_background_image_url': '', 'profile_background_image_url_https': '', 'profile_background_tile': False, 'profile_link_color': '1DA1F2', 'profile_sidebar_border_color': 'C0DEED', 'profile_sidebar_fill_color': 'DDEEF6', 'profile_text_color': '333333', 'profile_use_background_image': True, 'profile_image_url': 'http://pbs.twimg.com/profile_images/1299714614012280832/qaDQJQRB_normal.jpg', 'profile_image_url_https': 'https://pbs.twimg.com/profile_images/1299714614012280832/qaDQJQRB_normal.jpg', 'profile_banner_url': 'https://pbs.twimg.com/profile_banners/1299714446470909952/1598711712', 'default_profile': True, 'default_profile_image': False, 'following': None, 'follow_request_sent': None, 'notifications': None}, 'geo': None, 'coordinates': None, 'place': None, 'contributors': None, 'is_quote_status': False, 'extended_tweet': {'full_text': 'so @OHdeptofhealth made an employee resign over the mid-reported COVID-19 deaths? While our entire legislature is literally trying to kill us by not mandating masks, lockdowns, etc? https://t.co/JFtdsxaEQI How awful a job is this, when we have no public health infra? failed state', 'display_text_range': [0, 280], 'entities': {'hashtags': [], 'urls': [{'url': 'https://t.co/JFtdsxaEQI', 'expanded_url': 'https://www.nbc4i.com/community/health-department-employee-resigns-days-after-thousands-of-unreported-covid-19-deaths-uncovered/', 'display_url': 'nbc4i.com/community/heal…', 'indices': [182, 205]}], 'user_mentions': [{'screen_name': 'OHdeptofhealth', 'name': 'Ohio Dept of Health', 'id': 90422822, 'id_str': '90422822', 'indices': [3, 18]}], 'symbols': []}}, 'quote_count': 0, 'reply_count': 0, 'retweet_count': 0, 'favorite_count': 0, 'entities': {'hashtags': [], 'urls': [{'url': 'https://t.co/DHL8z26ACh', 'expanded_url': 'https://twitter.com/i/web/status/1360632604932902918', 'display_url': 'twitter.com/i/web/status/1…', 'indices': [117, 140]}], 'user_mentions': [{'screen_name': 'OHdeptofhealth', 'name': 'Ohio Dept of Health', 'id': 90422822, 'id_str': '90422822', 'indices': [3, 18]}], 'symbols': []}, 'favorited': False, 'retweeted': False, 'possibly_sensitive': False, 'filter_level': 'low', 'lang': 'en', 'timestamp_ms': '1613235067004'}\n",
      "{'created_at': 'Sat Feb 12 16:53:40 +0000 2021', 'id': 1360633249257558019, 'id_str': '1360633249257558019', 'text': 'RT @attorneyatbah: Newfoundland: has 59 new COVID-19 cases today, including B117 variant; immediately orders 2 week lockdown. \\n\\nAlberta: ha…', 'source': '<a href=\"http://twitter.com/download/iphone\" rel=\"nofollow\">Twitter for iPhone</a>', 'truncated': False, 'in_reply_to_status_id': None, 'in_reply_to_status_id_str': None, 'in_reply_to_user_id': None, 'in_reply_to_user_id_str': None, 'in_reply_to_screen_name': None, 'user': {'id': 2236761985, 'id_str': '2236761985', 'name': 'Brent Radlinsky', 'screen_name': 'BrentRadlinsky', 'location': 'Lethbridge, Alberta', 'url': None, 'description': 'Yankees fan and host of The Fourteen Twenty podcast @sports_twenty', 'translator_type': 'none', 'protected': False, 'verified': False, 'followers_count': 222, 'friends_count': 1020, 'listed_count': 3, 'favourites_count': 328, 'statuses_count': 2506, 'created_at': 'Mon Dec 09 00:17:24 +0000 2013', 'utc_offset': None, 'time_zone': None, 'geo_enabled': True, 'lang': None, 'contributors_enabled': False, 'is_translator': False, 'profile_background_color': 'C0DEED', 'profile_background_image_url': 'http://abs.twimg.com/images/themes/theme1/bg.png', 'profile_background_image_url_https': 'https://abs.twimg.com/images/themes/theme1/bg.png', 'profile_background_tile': False, 'profile_link_color': '1DA1F2', 'profile_sidebar_border_color': 'C0DEED', 'profile_sidebar_fill_color': 'DDEEF6', 'profile_text_color': '333333', 'profile_use_background_image': True, 'profile_image_url': 'http://pbs.twimg.com/profile_images/847673841572691969/PN6MFNDx_normal.jpg', 'profile_image_url_https': 'https://pbs.twimg.com/profile_images/847673841572691969/PN6MFNDx_normal.jpg', 'profile_banner_url': 'https://pbs.twimg.com/profile_banners/2236761985/1439257315', 'default_profile': True, 'default_profile_image': False, 'following': None, 'follow_request_sent': None, 'notifications': None}, 'geo': None, 'coordinates': None, 'place': None, 'contributors': None, 'retweeted_status': {'created_at': 'Sat Feb 12 01:37:14 +0000 2021', 'id': 1360402620528005120, 'id_str': '1360402620528005120', 'text': 'Newfoundland: has 59 new COVID-19 cases today, including B117 variant; immediately orders 2 week lockdown. \\n\\nAlbert… https://t.co/2PbmGKPYb2', 'source': '<a href=\"https://mobile.twitter.com\" rel=\"nofollow\">Twitter Web App</a>', 'truncated': True, 'in_reply_to_status_id': None, 'in_reply_to_status_id_str': None, 'in_reply_to_user_id': None, 'in_reply_to_user_id_str': None, 'in_reply_to_screen_name': None, 'user': {'id': 1325557111988785152, 'id_str': '1325557111988785152', 'name': 'Laurentian Effete', 'screen_name': 'attorneyatbah', 'location': 'Calgary, AB', 'url': None, 'description': 'Socially liberal, fiscally also liberal. \\n(he/him/counsel)', 'translator_type': 'none', 'protected': False, 'verified': False, 'followers_count': 403, 'friends_count': 665, 'listed_count': 2, 'favourites_count': 4890, 'statuses_count': 1018, 'created_at': 'Sun Nov 08 21:53:42 +0000 2020', 'utc_offset': None, 'time_zone': None, 'geo_enabled': False, 'lang': None, 'contributors_enabled': False, 'is_translator': False, 'profile_background_color': 'F5F8FA', 'profile_background_image_url': '', 'profile_background_image_url_https': '', 'profile_background_tile': False, 'profile_link_color': '1DA1F2', 'profile_sidebar_border_color': 'C0DEED', 'profile_sidebar_fill_color': 'DDEEF6', 'profile_text_color': '333333', 'profile_use_background_image': True, 'profile_image_url': 'http://pbs.twimg.com/profile_images/1351087021163483139/RmgVas5J_normal.jpg', 'profile_image_url_https': 'https://pbs.twimg.com/profile_images/1351087021163483139/RmgVas5J_normal.jpg', 'profile_banner_url': 'https://pbs.twimg.com/profile_banners/1325557111988785152/1611993747', 'default_profile': True, 'default_profile_image': False, 'following': None, 'follow_request_sent': None, 'notifications': None}, 'geo': None, 'coordinates': None, 'place': None, 'contributors': None, 'is_quote_status': False, 'extended_tweet': {'full_text': 'Newfoundland: has 59 new COVID-19 cases today, including B117 variant; immediately orders 2 week lockdown. \\n\\nAlberta: has 314 new cases today, including B117 variant; immediately orders another round at Earls. \\n\\n#COVID19AB', 'display_text_range': [0, 222], 'entities': {'hashtags': [{'text': 'COVID19AB', 'indices': [212, 222]}], 'urls': [], 'user_mentions': [], 'symbols': []}}, 'quote_count': 26, 'reply_count': 25, 'retweet_count': 301, 'favorite_count': 987, 'entities': {'hashtags': [], 'urls': [{'url': 'https://t.co/2PbmGKPYb2', 'expanded_url': 'https://twitter.com/i/web/status/1360402620528005120', 'display_url': 'twitter.com/i/web/status/1…', 'indices': [117, 140]}], 'user_mentions': [], 'symbols': []}, 'favorited': False, 'retweeted': False, 'filter_level': 'low', 'lang': 'en'}, 'is_quote_status': False, 'quote_count': 0, 'reply_count': 0, 'retweet_count': 0, 'favorite_count': 0, 'entities': {'hashtags': [], 'urls': [], 'user_mentions': [{'screen_name': 'attorneyatbah', 'name': 'Laurentian Effete', 'id': 1325557111988785152, 'id_str': '1325557111988785152', 'indices': [3, 17]}], 'symbols': []}, 'favorited': False, 'retweeted': False, 'filter_level': 'low', 'lang': 'en', 'timestamp_ms': '1613235220623'}\n",
      "{'created_at': 'Sat Feb 12 16:53:30 +0000 2021', 'id': 1360633208639950850, 'id_str': '1360633208639950850', 'text': '@DGHisham Vaccine and loneliness killing more people than Covid. Open up everything. Please stop scaring people wit… https://t.co/syofjloB4C', 'display_text_range': [10, 140], 'source': '<a href=\"http://twitter.com/download/android\" rel=\"nofollow\">Twitter for Android</a>', 'truncated': True, 'in_reply_to_status_id': 1360578415657578497, 'in_reply_to_status_id_str': '1360578415657578497', 'in_reply_to_user_id': 1595149746, 'in_reply_to_user_id_str': '1595149746', 'in_reply_to_screen_name': 'DGHisham', 'user': {'id': 203980766, 'id_str': '203980766', 'name': 'Rama', 'screen_name': 'wdf3783', 'location': None, 'url': None, 'description': 'Booo', 'translator_type': 'none', 'protected': False, 'verified': False, 'followers_count': 25, 'friends_count': 317, 'listed_count': 0, 'favourites_count': 3241, 'statuses_count': 507, 'created_at': 'Sun Oct 17 17:02:20 +0000 2010', 'utc_offset': None, 'time_zone': None, 'geo_enabled': False, 'lang': None, 'contributors_enabled': False, 'is_translator': False, 'profile_background_color': 'C0DEED', 'profile_background_image_url': 'http://abs.twimg.com/images/themes/theme1/bg.png', 'profile_background_image_url_https': 'https://abs.twimg.com/images/themes/theme1/bg.png', 'profile_background_tile': False, 'profile_link_color': '1DA1F2', 'profile_sidebar_border_color': 'C0DEED', 'profile_sidebar_fill_color': 'DDEEF6', 'profile_text_color': '333333', 'profile_use_background_image': True, 'profile_image_url': 'http://pbs.twimg.com/profile_images/1334483931861696512/0Gfdi6RK_normal.jpg', 'profile_image_url_https': 'https://pbs.twimg.com/profile_images/1334483931861696512/0Gfdi6RK_normal.jpg', 'profile_banner_url': 'https://pbs.twimg.com/profile_banners/203980766/1607000752', 'default_profile': True, 'default_profile_image': False, 'following': None, 'follow_request_sent': None, 'notifications': None}, 'geo': None, 'coordinates': None, 'place': None, 'contributors': None, 'is_quote_status': False, 'extended_tweet': {'full_text': '@DGHisham Vaccine and loneliness killing more people than Covid. Open up everything. Please stop scaring people with media and for the profit.', 'display_text_range': [10, 142], 'entities': {'hashtags': [], 'urls': [], 'user_mentions': [{'screen_name': 'DGHisham', 'name': 'Noor Hisham Abdullah', 'id': 1595149746, 'id_str': '1595149746', 'indices': [0, 9]}], 'symbols': []}}, 'quote_count': 0, 'reply_count': 0, 'retweet_count': 0, 'favorite_count': 0, 'entities': {'hashtags': [], 'urls': [{'url': 'https://t.co/syofjloB4C', 'expanded_url': 'https://twitter.com/i/web/status/1360633208639950850', 'display_url': 'twitter.com/i/web/status/1…', 'indices': [117, 140]}], 'user_mentions': [{'screen_name': 'DGHisham', 'name': 'Noor Hisham Abdullah', 'id': 1595149746, 'id_str': '1595149746', 'indices': [0, 9]}], 'symbols': []}, 'favorited': False, 'retweeted': False, 'filter_level': 'low', 'lang': 'en', 'timestamp_ms': '1613235210939'}\n",
      "{'created_at': 'Sat Feb 12 16:56:10 +0000 2021', 'id': 1360633879674171401, 'id_str': '1360633879674171401', 'text': 'RT @mack3636: How about you start explaining how Gerald Butts Employer was just handed a Justin Trudeau Contract.\\nHow about you explain why…', 'source': '<a href=\"http://twitter.com/download/android\" rel=\"nofollow\">Twitter for Android</a>', 'truncated': False, 'in_reply_to_status_id': None, 'in_reply_to_status_id_str': None, 'in_reply_to_user_id': None, 'in_reply_to_user_id_str': None, 'in_reply_to_screen_name': None, 'user': {'id': 15656289, 'id_str': '15656289', 'name': 'Bruce B 🗣', 'screen_name': 'BBICON', 'location': 'Earth', 'url': 'http://noneofyourbusiness.com', 'description': 'Horror/Paranormal enthusiast.👻👽 \\n#420 ninja 💚                                                              Previous PRO Sports fan🚫', 'translator_type': 'none', 'protected': False, 'verified': False, 'followers_count': 4833, 'friends_count': 1461, 'listed_count': 103, 'favourites_count': 18975, 'statuses_count': 78872, 'created_at': 'Wed Jul 30 04:15:06 +0000 2008', 'utc_offset': None, 'time_zone': None, 'geo_enabled': True, 'lang': None, 'contributors_enabled': False, 'is_translator': False, 'profile_background_color': 'ACDED6', 'profile_background_image_url': 'http://abs.twimg.com/images/themes/theme18/bg.gif', 'profile_background_image_url_https': 'https://abs.twimg.com/images/themes/theme18/bg.gif', 'profile_background_tile': False, 'profile_link_color': '038543', 'profile_sidebar_border_color': 'EEEEEE', 'profile_sidebar_fill_color': 'F6F6F6', 'profile_text_color': '333333', 'profile_use_background_image': True, 'profile_image_url': 'http://pbs.twimg.com/profile_images/1343911392139743233/mRzo93uY_normal.jpg', 'profile_image_url_https': 'https://pbs.twimg.com/profile_images/1343911392139743233/mRzo93uY_normal.jpg', 'profile_banner_url': 'https://pbs.twimg.com/profile_banners/15656289/1612939454', 'default_profile': False, 'default_profile_image': False, 'following': None, 'follow_request_sent': None, 'notifications': None}, 'geo': None, 'coordinates': None, 'place': None, 'contributors': None, 'retweeted_status': {'created_at': 'Sat Feb 12 16:44:25 +0000 2021', 'id': 1360630919145484289, 'id_str': '1360630919145484289', 'text': 'How about you start explaining how Gerald Butts Employer was just handed a Justin Trudeau Contract.\\nHow about you e… https://t.co/qW4fXPNkkT', 'source': '<a href=\"https://mobile.twitter.com\" rel=\"nofollow\">Twitter Web App</a>', 'truncated': True, 'in_reply_to_status_id': None, 'in_reply_to_status_id_str': None, 'in_reply_to_user_id': None, 'in_reply_to_user_id_str': None, 'in_reply_to_screen_name': None, 'user': {'id': 267331036, 'id_str': '267331036', 'name': 'Miss Tammy', 'screen_name': 'mack3636', 'location': 'Strathcona County, Alberta', 'url': None, 'description': 'I love 🇨🇦 O&G! Alberta strong💪support all Military 🇨🇦🇺🇸.  #BackTheBlue \\n#trudeaucorruption \\n#TrudeauMustGo #LiberalismIsAMentalDisorder', 'translator_type': 'none', 'protected': False, 'verified': False, 'followers_count': 7760, 'friends_count': 7880, 'listed_count': 19, 'favourites_count': 277913, 'statuses_count': 133511, 'created_at': 'Wed Mar 16 18:56:13 +0000 2011', 'utc_offset': None, 'time_zone': None, 'geo_enabled': False, 'lang': None, 'contributors_enabled': False, 'is_translator': False, 'profile_background_color': '000000', 'profile_background_image_url': 'http://abs.twimg.com/images/themes/theme1/bg.png', 'profile_background_image_url_https': 'https://abs.twimg.com/images/themes/theme1/bg.png', 'profile_background_tile': False, 'profile_link_color': '981CEB', 'profile_sidebar_border_color': '000000', 'profile_sidebar_fill_color': '000000', 'profile_text_color': '000000', 'profile_use_background_image': False, 'profile_image_url': 'http://pbs.twimg.com/profile_images/1328721720170090497/ozAfj3Qr_normal.jpg', 'profile_image_url_https': 'https://pbs.twimg.com/profile_images/1328721720170090497/ozAfj3Qr_normal.jpg', 'profile_banner_url': 'https://pbs.twimg.com/profile_banners/267331036/1463340713', 'default_profile': False, 'default_profile_image': False, 'following': None, 'follow_request_sent': None, 'notifications': None}, 'geo': None, 'coordinates': None, 'place': None, 'contributors': None, 'quoted_status_id': 1360267029169766403, 'quoted_status_id_str': '1360267029169766403', 'quoted_status': {'created_at': 'Fri Feb 12 16:38:26 +0000 2021', 'id': 1360267029169766403, 'id_str': '1360267029169766403', 'text': 'I’ve got a few updates on our vaccine rollout, border measures, and response to COVID-19. Tune in now for the lates… https://t.co/WepQfFYgce', 'source': '<a href=\"http://twitter.com/download/iphone\" rel=\"nofollow\">Twitter for iPhone</a>', 'truncated': True, 'in_reply_to_status_id': None, 'in_reply_to_status_id_str': None, 'in_reply_to_user_id': None, 'in_reply_to_user_id_str': None, 'in_reply_to_screen_name': None, 'user': {'id': 14260960, 'id_str': '14260960', 'name': 'Justin Trudeau', 'screen_name': 'JustinTrudeau', 'location': 'Papineau', 'url': 'https://pm.gc.ca/', 'description': 'Father, husband, 23rd Prime Minister of Canada. Account run by PM & staff. Papa, mari, 23e premier ministre du Canada. Compte géré par le PM et son personnel.', 'translator_type': 'none', 'protected': False, 'verified': True, 'followers_count': 5555961, 'friends_count': 942, 'listed_count': 13929, 'favourites_count': 115, 'statuses_count': 33138, 'created_at': 'Sun Mar 30 21:04:14 +0000 2008', 'utc_offset': None, 'time_zone': None, 'geo_enabled': True, 'lang': None, 'contributors_enabled': False, 'is_translator': False, 'profile_background_color': 'DBDCDD', 'profile_background_image_url': 'http://abs.twimg.com/images/themes/theme1/bg.png', 'profile_background_image_url_https': 'https://abs.twimg.com/images/themes/theme1/bg.png', 'profile_background_tile': False, 'profile_link_color': 'B50000', 'profile_sidebar_border_color': 'FFFFFF', 'profile_sidebar_fill_color': 'B80B0B', 'profile_text_color': '000000', 'profile_use_background_image': False, 'profile_image_url': 'http://pbs.twimg.com/profile_images/1325097364542119936/opMrhjvW_normal.jpg', 'profile_image_url_https': 'https://pbs.twimg.com/profile_images/1325097364542119936/opMrhjvW_normal.jpg', 'profile_banner_url': 'https://pbs.twimg.com/profile_banners/14260960/1604761077', 'default_profile': False, 'default_profile_image': False, 'following': None, 'follow_request_sent': None, 'notifications': None}, 'geo': None, 'coordinates': None, 'place': None, 'contributors': None, 'is_quote_status': False, 'extended_tweet': {'full_text': 'I’ve got a few updates on our vaccine rollout, border measures, and response to COVID-19. Tune in now for the latest: https://t.co/jYdmGX16qF', 'display_text_range': [0, 141], 'entities': {'hashtags': [], 'urls': [{'url': 'https://t.co/jYdmGX16qF', 'expanded_url': 'https://www.cpac.ca/en/direct/cpac3/562059/pm-justin-trudeau-provides-update-on-federal-response-to-covid-19-83/', 'display_url': 'cpac.ca/en/direct/cpac…', 'indices': [118, 141]}], 'user_mentions': [], 'symbols': []}}, 'quote_count': 16, 'reply_count': 221, 'retweet_count': 100, 'favorite_count': 444, 'entities': {'hashtags': [], 'urls': [{'url': 'https://t.co/WepQfFYgce', 'expanded_url': 'https://twitter.com/i/web/status/1360267029169766403', 'display_url': 'twitter.com/i/web/status/1…', 'indices': [117, 140]}], 'user_mentions': [], 'symbols': []}, 'favorited': False, 'retweeted': False, 'possibly_sensitive': False, 'filter_level': 'low', 'lang': 'en'}, 'quoted_status_permalink': {'url': 'https://t.co/8PZh7VhASh', 'expanded': 'https://twitter.com/JustinTrudeau/status/1360267029169766403', 'display': 'twitter.com/JustinTrudeau/…'}, 'is_quote_status': True, 'extended_tweet': {'full_text': 'How about you start explaining how Gerald Butts Employer was just handed a Justin Trudeau Contract.\\nHow about you explain why all your close friends are receiving Contracts with our Money.\\nDid \"WE\" teach you nothing.\\nI guess once a thief always a thief.', 'display_text_range': [0, 253], 'entities': {'hashtags': [], 'urls': [], 'user_mentions': [], 'symbols': []}}, 'quote_count': 2, 'reply_count': 1, 'retweet_count': 11, 'favorite_count': 14, 'entities': {'hashtags': [], 'urls': [{'url': 'https://t.co/qW4fXPNkkT', 'expanded_url': 'https://twitter.com/i/web/status/1360630919145484289', 'display_url': 'twitter.com/i/web/status/1…', 'indices': [117, 140]}], 'user_mentions': [], 'symbols': []}, 'favorited': False, 'retweeted': False, 'filter_level': 'low', 'lang': 'en'}, 'quoted_status_id': 1360267029169766403, 'quoted_status_id_str': '1360267029169766403', 'quoted_status': {'created_at': 'Fri Feb 12 16:38:26 +0000 2021', 'id': 1360267029169766403, 'id_str': '1360267029169766403', 'text': 'I’ve got a few updates on our vaccine rollout, border measures, and response to COVID-19. Tune in now for the lates… https://t.co/WepQfFYgce', 'source': '<a href=\"http://twitter.com/download/iphone\" rel=\"nofollow\">Twitter for iPhone</a>', 'truncated': True, 'in_reply_to_status_id': None, 'in_reply_to_status_id_str': None, 'in_reply_to_user_id': None, 'in_reply_to_user_id_str': None, 'in_reply_to_screen_name': None, 'user': {'id': 14260960, 'id_str': '14260960', 'name': 'Justin Trudeau', 'screen_name': 'JustinTrudeau', 'location': 'Papineau', 'url': 'https://pm.gc.ca/', 'description': 'Father, husband, 23rd Prime Minister of Canada. Account run by PM & staff. Papa, mari, 23e premier ministre du Canada. Compte géré par le PM et son personnel.', 'translator_type': 'none', 'protected': False, 'verified': True, 'followers_count': 5555961, 'friends_count': 942, 'listed_count': 13929, 'favourites_count': 115, 'statuses_count': 33138, 'created_at': 'Sun Mar 30 21:04:14 +0000 2008', 'utc_offset': None, 'time_zone': None, 'geo_enabled': True, 'lang': None, 'contributors_enabled': False, 'is_translator': False, 'profile_background_color': 'DBDCDD', 'profile_background_image_url': 'http://abs.twimg.com/images/themes/theme1/bg.png', 'profile_background_image_url_https': 'https://abs.twimg.com/images/themes/theme1/bg.png', 'profile_background_tile': False, 'profile_link_color': 'B50000', 'profile_sidebar_border_color': 'FFFFFF', 'profile_sidebar_fill_color': 'B80B0B', 'profile_text_color': '000000', 'profile_use_background_image': False, 'profile_image_url': 'http://pbs.twimg.com/profile_images/1325097364542119936/opMrhjvW_normal.jpg', 'profile_image_url_https': 'https://pbs.twimg.com/profile_images/1325097364542119936/opMrhjvW_normal.jpg', 'profile_banner_url': 'https://pbs.twimg.com/profile_banners/14260960/1604761077', 'default_profile': False, 'default_profile_image': False, 'following': None, 'follow_request_sent': None, 'notifications': None}, 'geo': None, 'coordinates': None, 'place': None, 'contributors': None, 'is_quote_status': False, 'extended_tweet': {'full_text': 'I’ve got a few updates on our vaccine rollout, border measures, and response to COVID-19. Tune in now for the latest: https://t.co/jYdmGX16qF', 'display_text_range': [0, 141], 'entities': {'hashtags': [], 'urls': [{'url': 'https://t.co/jYdmGX16qF', 'expanded_url': 'https://www.cpac.ca/en/direct/cpac3/562059/pm-justin-trudeau-provides-update-on-federal-response-to-covid-19-83/', 'display_url': 'cpac.ca/en/direct/cpac…', 'indices': [118, 141]}], 'user_mentions': [], 'symbols': []}}, 'quote_count': 16, 'reply_count': 221, 'retweet_count': 100, 'favorite_count': 444, 'entities': {'hashtags': [], 'urls': [{'url': 'https://t.co/WepQfFYgce', 'expanded_url': 'https://twitter.com/i/web/status/1360267029169766403', 'display_url': 'twitter.com/i/web/status/1…', 'indices': [117, 140]}], 'user_mentions': [], 'symbols': []}, 'favorited': False, 'retweeted': False, 'possibly_sensitive': False, 'filter_level': 'low', 'lang': 'en'}, 'quoted_status_permalink': {'url': 'https://t.co/8PZh7VhASh', 'expanded': 'https://twitter.com/JustinTrudeau/status/1360267029169766403', 'display': 'twitter.com/JustinTrudeau/…'}, 'is_quote_status': True, 'quote_count': 0, 'reply_count': 0, 'retweet_count': 0, 'favorite_count': 0, 'entities': {'hashtags': [], 'urls': [], 'user_mentions': [{'screen_name': 'mack3636', 'name': 'Miss Tammy', 'id': 267331036, 'id_str': '267331036', 'indices': [3, 12]}], 'symbols': []}, 'favorited': False, 'retweeted': False, 'filter_level': 'low', 'lang': 'en', 'timestamp_ms': '1613235370926'}\n",
      "{'created_at': 'Sat Feb 12 16:55:59 +0000 2021', 'id': 1360633833608118276, 'id_str': '1360633833608118276', 'text': 'RT @Arcticwolff: Think this thing thru folks.\\nWhatever public support for this sham fraud impeachment is left will soon quickly evaporate a…', 'source': '<a href=\"https://mobile.twitter.com\" rel=\"nofollow\">Twitter Web App</a>', 'truncated': False, 'in_reply_to_status_id': None, 'in_reply_to_status_id_str': None, 'in_reply_to_user_id': None, 'in_reply_to_user_id_str': None, 'in_reply_to_screen_name': None, 'user': {'id': 784834739966468096, 'id_str': '784834739966468096', 'name': 'Jullyard', 'screen_name': 'QueenofAllElse', 'location': 'Florida, USA', 'url': None, 'description': 'Maskless in FREE FL\\nAMERICAN REFUGEE\\nLiberty or Death- Exclamation Point!', 'translator_type': 'none', 'protected': False, 'verified': False, 'followers_count': 262, 'friends_count': 183, 'listed_count': 1, 'favourites_count': 20769, 'statuses_count': 14835, 'created_at': 'Sat Oct 08 19:15:58 +0000 2016', 'utc_offset': None, 'time_zone': None, 'geo_enabled': False, 'lang': None, 'contributors_enabled': False, 'is_translator': False, 'profile_background_color': 'F5F8FA', 'profile_background_image_url': '', 'profile_background_image_url_https': '', 'profile_background_tile': False, 'profile_link_color': '1DA1F2', 'profile_sidebar_border_color': 'C0DEED', 'profile_sidebar_fill_color': 'DDEEF6', 'profile_text_color': '333333', 'profile_use_background_image': True, 'profile_image_url': 'http://pbs.twimg.com/profile_images/784907422028689408/Vfibonn3_normal.jpg', 'profile_image_url_https': 'https://pbs.twimg.com/profile_images/784907422028689408/Vfibonn3_normal.jpg', 'profile_banner_url': 'https://pbs.twimg.com/profile_banners/784834739966468096/1475971485', 'default_profile': True, 'default_profile_image': False, 'following': None, 'follow_request_sent': None, 'notifications': None}, 'geo': None, 'coordinates': None, 'place': None, 'contributors': None, 'retweeted_status': {'created_at': 'Sat Feb 12 16:43:30 +0000 2021', 'id': 1360630688249176065, 'id_str': '1360630688249176065', 'text': 'Think this thing thru folks.\\nWhatever public support for this sham fraud impeachment is left will soon quickly evap… https://t.co/HS5z84ezb6', 'source': '<a href=\"https://mobile.twitter.com\" rel=\"nofollow\">Twitter Web App</a>', 'truncated': True, 'in_reply_to_status_id': None, 'in_reply_to_status_id_str': None, 'in_reply_to_user_id': None, 'in_reply_to_user_id_str': None, 'in_reply_to_screen_name': None, 'user': {'id': 155182282, 'id_str': '155182282', 'name': 'Greg (Just a Simple Man)', 'screen_name': 'Arcticwolff', 'location': 'Cleveland, OH', 'url': None, 'description': '\\xa0截拳道 Tao Jeet Kune Do. \\nBe like water my friend.\\nMay the Lord be with you.', 'translator_type': 'none', 'protected': False, 'verified': False, 'followers_count': 8053, 'friends_count': 2642, 'listed_count': 3, 'favourites_count': 79330, 'statuses_count': 37217, 'created_at': 'Sun Jun 12 11:28:31 +0000 2010', 'utc_offset': None, 'time_zone': None, 'geo_enabled': True, 'lang': None, 'contributors_enabled': False, 'is_translator': False, 'profile_background_color': '1A1B1F', 'profile_background_image_url': 'http://abs.twimg.com/images/themes/theme9/bg.gif', 'profile_background_image_url_https': 'https://abs.twimg.com/images/themes/theme9/bg.gif', 'profile_background_tile': False, 'profile_link_color': '2FC2EF', 'profile_sidebar_border_color': '181A1E', 'profile_sidebar_fill_color': '252429', 'profile_text_color': '666666', 'profile_use_background_image': True, 'profile_image_url': 'http://pbs.twimg.com/profile_images/1192071984269725699/PN7IRXgO_normal.jpg', 'profile_image_url_https': 'https://pbs.twimg.com/profile_images/1192071984269725699/PN7IRXgO_normal.jpg', 'profile_banner_url': 'https://pbs.twimg.com/profile_banners/155182282/1437395882', 'default_profile': False, 'default_profile_image': False, 'following': None, 'follow_request_sent': None, 'notifications': None}, 'geo': None, 'coordinates': None, 'place': None, 'contributors': None, 'is_quote_status': False, 'extended_tweet': {'full_text': 'Think this thing thru folks.\\nWhatever public support for this sham fraud impeachment is left will soon quickly evaporate and people want Covid relief and those stimulus checks and they are going to blame somebody for not getting it.\\n\\nMeanwhile Trump will be playing golf.', 'display_text_range': [0, 271], 'entities': {'hashtags': [], 'urls': [], 'user_mentions': [], 'symbols': []}}, 'quote_count': 0, 'reply_count': 1, 'retweet_count': 1, 'favorite_count': 6, 'entities': {'hashtags': [], 'urls': [{'url': 'https://t.co/HS5z84ezb6', 'expanded_url': 'https://twitter.com/i/web/status/1360630688249176065', 'display_url': 'twitter.com/i/web/status/1…', 'indices': [117, 140]}], 'user_mentions': [], 'symbols': []}, 'favorited': False, 'retweeted': False, 'filter_level': 'low', 'lang': 'en'}, 'is_quote_status': False, 'quote_count': 0, 'reply_count': 0, 'retweet_count': 0, 'favorite_count': 0, 'entities': {'hashtags': [], 'urls': [], 'user_mentions': [{'screen_name': 'Arcticwolff', 'name': 'Greg (Just a Simple Man)', 'id': 155182282, 'id_str': '155182282', 'indices': [3, 15]}], 'symbols': []}, 'favorited': False, 'retweeted': False, 'filter_level': 'low', 'lang': 'en', 'timestamp_ms': '1613235359943'}\n",
      "{'created_at': 'Sat Feb 12 16:59:25 +0000 2021', 'id': 1360634695495548928, 'id_str': '1360634695495548928', 'text': 'RT @Arizona_Larry: Are you running this story in Arizona? \\n\\nhttps://t.co/52QHcTKOuG', 'source': '<a href=\"http://twitter.com/#!/download/ipad\" rel=\"nofollow\">Twitter for iPad</a>', 'truncated': False, 'in_reply_to_status_id': None, 'in_reply_to_status_id_str': None, 'in_reply_to_user_id': None, 'in_reply_to_user_id_str': None, 'in_reply_to_screen_name': None, 'user': {'id': 37007615, 'id_str': '37007615', 'name': 'Farmsie', 'screen_name': 'alskling88', 'location': 'Dublin,Ca', 'url': None, 'description': 'Follow me on Parler @alskling88 Ignorance is a choice. Candy Crush Lives Matter. Tweet others as you would have others tweet you.', 'translator_type': 'none', 'protected': False, 'verified': False, 'followers_count': 841, 'friends_count': 1172, 'listed_count': 0, 'favourites_count': 76423, 'statuses_count': 16258, 'created_at': 'Fri May 01 18:33:20 +0000 2009', 'utc_offset': None, 'time_zone': None, 'geo_enabled': False, 'lang': None, 'contributors_enabled': False, 'is_translator': False, 'profile_background_color': 'C0DEED', 'profile_background_image_url': 'http://abs.twimg.com/images/themes/theme1/bg.png', 'profile_background_image_url_https': 'https://abs.twimg.com/images/themes/theme1/bg.png', 'profile_background_tile': False, 'profile_link_color': '1DA1F2', 'profile_sidebar_border_color': 'C0DEED', 'profile_sidebar_fill_color': 'DDEEF6', 'profile_text_color': '333333', 'profile_use_background_image': True, 'profile_image_url': 'http://pbs.twimg.com/profile_images/1324400018699083776/Bac3zWL__normal.jpg', 'profile_image_url_https': 'https://pbs.twimg.com/profile_images/1324400018699083776/Bac3zWL__normal.jpg', 'profile_banner_url': 'https://pbs.twimg.com/profile_banners/37007615/1583206995', 'default_profile': True, 'default_profile_image': False, 'following': None, 'follow_request_sent': None, 'notifications': None}, 'geo': None, 'coordinates': None, 'place': None, 'contributors': None, 'retweeted_status': {'created_at': 'Sat Feb 12 03:39:24 +0000 2021', 'id': 1360433365493551105, 'id_str': '1360433365493551105', 'text': 'Are you running this story in Arizona? \\n\\nhttps://t.co/52QHcTKOuG', 'source': '<a href=\"https://mobile.twitter.com\" rel=\"nofollow\">Twitter Web App</a>', 'truncated': False, 'in_reply_to_status_id': None, 'in_reply_to_status_id_str': None, 'in_reply_to_user_id': None, 'in_reply_to_user_id_str': None, 'in_reply_to_screen_name': None, 'user': {'id': 1311916030109786113, 'id_str': '1311916030109786113', 'name': 'Plastic Cowboy', 'screen_name': 'Arizona_Larry', 'location': None, 'url': None, 'description': 'Common sense = conservatism. *MAGA* Traveling photographer - comfortably numb. 1st runner-up in the better half contest. \\nGab = @Arizona_Larry', 'translator_type': 'none', 'protected': False, 'verified': False, 'followers_count': 1825, 'friends_count': 1977, 'listed_count': 0, 'favourites_count': 6843, 'statuses_count': 7554, 'created_at': 'Fri Oct 02 06:29:09 +0000 2020', 'utc_offset': None, 'time_zone': None, 'geo_enabled': False, 'lang': None, 'contributors_enabled': False, 'is_translator': False, 'profile_background_color': 'F5F8FA', 'profile_background_image_url': '', 'profile_background_image_url_https': '', 'profile_background_tile': False, 'profile_link_color': '1DA1F2', 'profile_sidebar_border_color': 'C0DEED', 'profile_sidebar_fill_color': 'DDEEF6', 'profile_text_color': '333333', 'profile_use_background_image': True, 'profile_image_url': 'http://pbs.twimg.com/profile_images/1315329619034218496/Y_wYF_v3_normal.jpg', 'profile_image_url_https': 'https://pbs.twimg.com/profile_images/1315329619034218496/Y_wYF_v3_normal.jpg', 'profile_banner_url': 'https://pbs.twimg.com/profile_banners/1311916030109786113/1610386773', 'default_profile': True, 'default_profile_image': False, 'following': None, 'follow_request_sent': None, 'notifications': None}, 'geo': None, 'coordinates': None, 'place': None, 'contributors': None, 'is_quote_status': False, 'quote_count': 1, 'reply_count': 1, 'retweet_count': 10, 'favorite_count': 6, 'entities': {'hashtags': [], 'urls': [{'url': 'https://t.co/52QHcTKOuG', 'expanded_url': 'https://www.thegatewaypundit.com/2021/02/cdc-exposed-inflated-covid-deaths-1600-throughout-election-violated-multiple-federal-laws-peer-reviewed-study-finds-state-local-governments-must-act/?utm_source=Twitter&utm_medium=PostTopSharingButtons&utm_campaign=websitesharingbuttons', 'display_url': 'thegatewaypundit.com/2021/02/cdc-ex…', 'indices': [41, 64]}], 'user_mentions': [], 'symbols': []}, 'favorited': False, 'retweeted': False, 'possibly_sensitive': False, 'filter_level': 'low', 'lang': 'en'}, 'is_quote_status': False, 'quote_count': 0, 'reply_count': 0, 'retweet_count': 0, 'favorite_count': 0, 'entities': {'hashtags': [], 'urls': [{'url': 'https://t.co/52QHcTKOuG', 'expanded_url': 'https://www.thegatewaypundit.com/2021/02/cdc-exposed-inflated-covid-deaths-1600-throughout-election-violated-multiple-federal-laws-peer-reviewed-study-finds-state-local-governments-must-act/?utm_source=Twitter&utm_medium=PostTopSharingButtons&utm_campaign=websitesharingbuttons', 'display_url': 'thegatewaypundit.com/2021/02/cdc-ex…', 'indices': [60, 83]}], 'user_mentions': [{'screen_name': 'Arizona_Larry', 'name': 'Plastic Cowboy', 'id': 1311916030109786113, 'id_str': '1311916030109786113', 'indices': [3, 17]}], 'symbols': []}, 'favorited': False, 'retweeted': False, 'possibly_sensitive': False, 'filter_level': 'low', 'lang': 'en', 'timestamp_ms': '1613235565433'}\n",
      "{'created_at': 'Sat Feb 12 16:59:15 +0000 2021', 'id': 1360634652629889025, 'id_str': '1360634652629889025', 'text': 'kinda very scared that covid is in pei already and we just don’t know yet, watching nfld right now is very very frightening', 'source': '<a href=\"http://twitter.com/download/iphone\" rel=\"nofollow\">Twitter for iPhone</a>', 'truncated': False, 'in_reply_to_status_id': None, 'in_reply_to_status_id_str': None, 'in_reply_to_user_id': None, 'in_reply_to_user_id_str': None, 'in_reply_to_screen_name': None, 'user': {'id': 1026646894045523969, 'id_str': '1026646894045523969', 'name': 'chloe \\U0001f9a6', 'screen_name': 'ChloeGreenan', 'location': 'Charlottetown', 'url': 'https://vm.tiktok.com/ZSa6juF3/', 'description': 'upei poli sci, upei philosophy, pei, please be kind to everyone, she/her', 'translator_type': 'none', 'protected': False, 'verified': False, 'followers_count': 40, 'friends_count': 153, 'listed_count': 0, 'favourites_count': 1205, 'statuses_count': 462, 'created_at': 'Tue Aug 07 01:51:08 +0000 2018', 'utc_offset': None, 'time_zone': None, 'geo_enabled': False, 'lang': None, 'contributors_enabled': False, 'is_translator': False, 'profile_background_color': 'F5F8FA', 'profile_background_image_url': '', 'profile_background_image_url_https': '', 'profile_background_tile': False, 'profile_link_color': '1DA1F2', 'profile_sidebar_border_color': 'C0DEED', 'profile_sidebar_fill_color': 'DDEEF6', 'profile_text_color': '333333', 'profile_use_background_image': True, 'profile_image_url': 'http://pbs.twimg.com/profile_images/1360632156922540033/PkaCC6YB_normal.jpg', 'profile_image_url_https': 'https://pbs.twimg.com/profile_images/1360632156922540033/PkaCC6YB_normal.jpg', 'profile_banner_url': 'https://pbs.twimg.com/profile_banners/1026646894045523969/1607739663', 'default_profile': True, 'default_profile_image': False, 'following': None, 'follow_request_sent': None, 'notifications': None}, 'geo': None, 'coordinates': None, 'place': None, 'contributors': None, 'is_quote_status': False, 'quote_count': 0, 'reply_count': 0, 'retweet_count': 0, 'favorite_count': 0, 'entities': {'hashtags': [], 'urls': [], 'user_mentions': [], 'symbols': []}, 'favorited': False, 'retweeted': False, 'filter_level': 'low', 'lang': 'en', 'timestamp_ms': '1613235555213'}\n",
      "{'limit': {'track': 2, 'timestamp_ms': '1613235607794'}}\n",
      "/content/drive/My Drive/covid_1302.json\n"
     ]
    }
   ],
   "source": [
    "\n",
    "f_0802= \"/content/drive/My Drive/covid_0802.json\"\n",
    "f_0902=\"/content/drive/My Drive/covid_0902.json\"\n",
    "f_1002=\"/content/drive/My Drive/covid_1002.json\"\n",
    "f_1102=\"/content/drive/My Drive/covid_1102.json\"\n",
    "f_1202=\"/content/drive/My Drive/covid_1202.json\"\n",
    "f_1302=\"/content/drive/My Drive/covid_1302.json\"\n",
    "\n",
    "file_list=[f_0802,f_0902,f_1002,f_1102,f_1202,f_1302]\n",
    "\n",
    "dates=[]\n",
    "tweets=[]\n",
    "for fname in file_list:\n",
    "  with open(fname, 'r',encoding=\"utf-8\") as f:\n",
    "    print(fname)\n",
    "    for line in f:\n",
    "        if len(line) < 10:\n",
    "            continue\n",
    "        try:\n",
    "          tweet = json.loads(line)\n",
    "          # tweet= clean_emoji(tweet)\n",
    "          terms_all = [term for term in preprocess(tweet['text'],True) if term not in stop]\n",
    "          # terms_all=[term for term in tweet.split() if term!=''] # check !!! \n",
    "          if '' in terms_all:\n",
    "            terms_all.remove('')\n",
    "          curr_tweet=' '.join(terms_all)\n",
    "          tweets.append(curr_tweet)\n",
    "          dates.append(tweet['created_at'])\n",
    "        except:\n",
    "          print(tweet)\n"
   ]
  },
  {
   "cell_type": "code",
   "execution_count": null,
   "metadata": {
    "id": "QHWX6tPXMV9r"
   },
   "outputs": [],
   "source": [
    "#create df\n",
    "collected_tweets= pd.DataFrame()\n",
    "collected_tweets['Date']=dates\n",
    "collected_tweets['text']=tweets"
   ]
  },
  {
   "cell_type": "code",
   "execution_count": null,
   "metadata": {
    "colab": {
     "base_uri": "https://localhost:8080/",
     "height": 419
    },
    "id": "R706gV7NMa2-",
    "outputId": "978ffdff-c4b3-4e11-eaf5-be6ac8f66254"
   },
   "outputs": [
    {
     "data": {
      "text/html": [
       "<div>\n",
       "<style scoped>\n",
       "    .dataframe tbody tr th:only-of-type {\n",
       "        vertical-align: middle;\n",
       "    }\n",
       "\n",
       "    .dataframe tbody tr th {\n",
       "        vertical-align: top;\n",
       "    }\n",
       "\n",
       "    .dataframe thead th {\n",
       "        text-align: right;\n",
       "    }\n",
       "</style>\n",
       "<table border=\"1\" class=\"dataframe\">\n",
       "  <thead>\n",
       "    <tr style=\"text-align: right;\">\n",
       "      <th></th>\n",
       "      <th>Date</th>\n",
       "      <th>text</th>\n",
       "    </tr>\n",
       "  </thead>\n",
       "  <tbody>\n",
       "    <tr>\n",
       "      <th>0</th>\n",
       "      <td>Mon Feb 08 15:33:06 +0000 2021</td>\n",
       "      <td>@apqc half organizations workforce planning we...</td>\n",
       "    </tr>\n",
       "    <tr>\n",
       "      <th>1</th>\n",
       "      <td>Mon Feb 08 15:33:06 +0000 2021</td>\n",
       "      <td>@danadonly annoying covid made drink wine w 5 ...</td>\n",
       "    </tr>\n",
       "    <tr>\n",
       "      <th>2</th>\n",
       "      <td>Mon Feb 08 15:33:06 +0000 2021</td>\n",
       "      <td>@lisa_mcnally1 covid 19 messages sandwell's co...</td>\n",
       "    </tr>\n",
       "    <tr>\n",
       "      <th>3</th>\n",
       "      <td>Mon Feb 08 15:33:06 +0000 2021</td>\n",
       "      <td>negative</td>\n",
       "    </tr>\n",
       "    <tr>\n",
       "      <th>4</th>\n",
       "      <td>Mon Feb 08 15:33:06 +0000 2021</td>\n",
       "      <td>@mets citi field open mass covid vaccination s...</td>\n",
       "    </tr>\n",
       "    <tr>\n",
       "      <th>...</th>\n",
       "      <td>...</td>\n",
       "      <td>...</td>\n",
       "    </tr>\n",
       "    <tr>\n",
       "      <th>151375</th>\n",
       "      <td>Sat Feb 13 19:42:46 +0000 2021</td>\n",
       "      <td>@henniganp heno reckon pretend football cancel...</td>\n",
       "    </tr>\n",
       "    <tr>\n",
       "      <th>151376</th>\n",
       "      <td>Sat Feb 13 19:42:46 +0000 2021</td>\n",
       "      <td>@therustler83 #foi returned 6 @nhsuk boards #s...</td>\n",
       "    </tr>\n",
       "    <tr>\n",
       "      <th>151377</th>\n",
       "      <td>Sat Feb 13 19:42:46 +0000 2021</td>\n",
       "      <td>@jayztwocents hope feel better soon covid sucks</td>\n",
       "    </tr>\n",
       "    <tr>\n",
       "      <th>151378</th>\n",
       "      <td>Sat Feb 13 19:42:46 +0000 2021</td>\n",
       "      <td>@diannemstewart i'm best day since covid force...</td>\n",
       "    </tr>\n",
       "    <tr>\n",
       "      <th>151379</th>\n",
       "      <td>Sat Feb 13 19:42:46 +0000 2021</td>\n",
       "      <td>@anthonydaleoha 1 3 today reopening decision s...</td>\n",
       "    </tr>\n",
       "  </tbody>\n",
       "</table>\n",
       "<p>151380 rows × 2 columns</p>\n",
       "</div>"
      ],
      "text/plain": [
       "                                  Date                                               text\n",
       "0       Mon Feb 08 15:33:06 +0000 2021  @apqc half organizations workforce planning we...\n",
       "1       Mon Feb 08 15:33:06 +0000 2021  @danadonly annoying covid made drink wine w 5 ...\n",
       "2       Mon Feb 08 15:33:06 +0000 2021  @lisa_mcnally1 covid 19 messages sandwell's co...\n",
       "3       Mon Feb 08 15:33:06 +0000 2021                                           negative\n",
       "4       Mon Feb 08 15:33:06 +0000 2021  @mets citi field open mass covid vaccination s...\n",
       "...                                ...                                                ...\n",
       "151375  Sat Feb 13 19:42:46 +0000 2021  @henniganp heno reckon pretend football cancel...\n",
       "151376  Sat Feb 13 19:42:46 +0000 2021  @therustler83 #foi returned 6 @nhsuk boards #s...\n",
       "151377  Sat Feb 13 19:42:46 +0000 2021    @jayztwocents hope feel better soon covid sucks\n",
       "151378  Sat Feb 13 19:42:46 +0000 2021  @diannemstewart i'm best day since covid force...\n",
       "151379  Sat Feb 13 19:42:46 +0000 2021  @anthonydaleoha 1 3 today reopening decision s...\n",
       "\n",
       "[151380 rows x 2 columns]"
      ]
     },
     "execution_count": 74,
     "metadata": {
      "tags": []
     },
     "output_type": "execute_result"
    }
   ],
   "source": [
    "collected_tweets"
   ]
  },
  {
   "cell_type": "code",
   "execution_count": null,
   "metadata": {
    "id": "ZDD0ZpYpMfyh"
   },
   "outputs": [],
   "source": [
    "collected_tweets['Date']=pd.to_datetime(collected_tweets['Date'])\n",
    "all_tweets= collected_tweets.copy()"
   ]
  },
  {
   "cell_type": "code",
   "execution_count": null,
   "metadata": {
    "colab": {
     "base_uri": "https://localhost:8080/"
    },
    "id": "3tgDWbmrMo8x",
    "outputId": "6f342b3d-5658-498f-ef63-62b35af5d1bb"
   },
   "outputs": [
    {
     "data": {
      "text/plain": [
       "Date    10631\n",
       "text    78600\n",
       "dtype: int64"
      ]
     },
     "execution_count": 76,
     "metadata": {
      "tags": []
     },
     "output_type": "execute_result"
    }
   ],
   "source": [
    "collected_tweets.nunique()"
   ]
  },
  {
   "cell_type": "code",
   "execution_count": null,
   "metadata": {
    "id": "kXRaiSKrMi2b"
   },
   "outputs": [],
   "source": [
    "\n",
    "collected_tweets= collected_tweets.drop_duplicates(subset=['text'], keep='first')"
   ]
  },
  {
   "cell_type": "code",
   "execution_count": null,
   "metadata": {
    "id": "VH2kl7g_6QXp"
   },
   "outputs": [],
   "source": [
    "#collected_tweets.to_csv(\"try.csv\")"
   ]
  },
  {
   "cell_type": "markdown",
   "metadata": {
    "id": "l80kAvcnUjKO"
   },
   "source": [
    "##  sentiment classification \n",
    "\n",
    "We label the collected tweets sentiment by using  dictionaries - positive and negative that we built.\n",
    "\n",
    "We manually built two dictionaries - a positive dictionary and a negative dictionary.\n",
    "\n",
    "We built the dictionary as follows:\n",
    "* From the most popular words from the tweets we classified in question 1, we manually selected the ones that seemed most positive / negative to us and added them to the relevant dictionary.\n",
    "* We found the most popular words in the tweets we collected from Twitter and categorized them as positive or negative as we saw fit.\n",
    "* We added negative charges and emojis for every dictionary.\n",
    "* We added more positive and negative words to each dictionary that seemed relevant to the field.\n",
    "\n",
    "* Labeling explanation:\n",
    "1 -> for labaling positive tweet . \n",
    "0 -> for labaling negative tweet ."
   ]
  },
  {
   "cell_type": "markdown",
   "metadata": {
    "id": "X3B1kAgXZNvE"
   },
   "source": [
    "* create positive and negative dictionarys"
   ]
  },
  {
   "cell_type": "code",
   "execution_count": null,
   "metadata": {
    "colab": {
     "base_uri": "https://localhost:8080/"
    },
    "id": "v7Ry57-5J7IC",
    "outputId": "238d0346-e287-4d5c-d644-1f9013cf6980"
   },
   "outputs": [
    {
     "data": {
      "text/plain": [
       "[('good', 3990),\n",
       " (\"i'm\", 3486),\n",
       " ('quot', 2867),\n",
       " ('day', 2818),\n",
       " ('love', 2708),\n",
       " ('like', 2375),\n",
       " ('get', 2248),\n",
       " ('thanks', 2141),\n",
       " ('going', 2051),\n",
       " ('lol', 2006),\n",
       " ('today', 1934),\n",
       " ('time', 1917),\n",
       " ('go', 1749),\n",
       " ('great', 1723),\n",
       " ('new', 1701),\n",
       " ('one', 1676),\n",
       " ('u', 1667),\n",
       " ('got', 1612),\n",
       " ('twitter', 1600),\n",
       " ('see', 1581),\n",
       " ('know', 1580),\n",
       " ('back', 1521),\n",
       " ('well', 1514),\n",
       " ('amp', 1514),\n",
       " ('morning', 1491),\n",
       " ('night', 1430),\n",
       " ('work', 1301),\n",
       " ('2', 1296),\n",
       " ('hope', 1257),\n",
       " ('think', 1251),\n",
       " ('nice', 1250),\n",
       " ('really', 1225),\n",
       " ('fun', 1193),\n",
       " ('happy', 1189),\n",
       " ('im', 1188),\n",
       " ('haha', 1148),\n",
       " ('oh', 1058),\n",
       " ('much', 1045),\n",
       " ('3', 1036),\n",
       " ('home', 951),\n",
       " (\"i'll\", 914),\n",
       " ('thank', 914),\n",
       " ('still', 912),\n",
       " ('would', 902),\n",
       " ('hey', 877),\n",
       " (\"can't\", 869),\n",
       " ('awesome', 846),\n",
       " ('need', 844),\n",
       " ('yes', 835),\n",
       " (\"that's\", 803),\n",
       " ('way', 801),\n",
       " ('right', 798),\n",
       " ('wait', 789),\n",
       " ('better', 787),\n",
       " ('tomorrow', 786),\n",
       " ('watching', 773),\n",
       " ('want', 769),\n",
       " ('come', 763),\n",
       " ('getting', 758),\n",
       " ('last', 755),\n",
       " ('4', 740),\n",
       " ('make', 739),\n",
       " ('people', 716),\n",
       " ('yeah', 709),\n",
       " ('¿', 684),\n",
       " ('first', 682),\n",
       " ('best', 674),\n",
       " ('bed', 669),\n",
       " ('cool', 668),\n",
       " ('tonight', 661)]"
      ]
     },
     "execution_count": 79,
     "metadata": {
      "tags": []
     },
     "output_type": "execute_result"
    }
   ],
   "source": [
    "# create pos and neg dictionaries - words from Q1 \n",
    "# select relevant 20 pos\\neg terms \n",
    "#pos : \n",
    "pos_top_70= pos_counter.most_common(70)\n",
    "pos_top_70"
   ]
  },
  {
   "cell_type": "code",
   "execution_count": null,
   "metadata": {
    "colab": {
     "base_uri": "https://localhost:8080/"
    },
    "id": "_waAtn00L1TJ",
    "outputId": "1a05a584-30f3-4b51-90bb-e014ff708110"
   },
   "outputs": [
    {
     "data": {
      "text/plain": [
       "19"
      ]
     },
     "execution_count": 80,
     "metadata": {
      "tags": []
     },
     "output_type": "execute_result"
    }
   ],
   "source": [
    "pos_dic=['good', 'love', 'like',' thanks',' lol',' great',' well','better','hope','nice',' fun',' happy',' haha',' thank',' yes',' awesome', 'yeah','best', 'cool']\n",
    "len(pos_dic)"
   ]
  },
  {
   "cell_type": "code",
   "execution_count": null,
   "metadata": {
    "colab": {
     "base_uri": "https://localhost:8080/"
    },
    "id": "v9aQaxmZNort",
    "outputId": "87506408-2ab2-4296-eb67-3b1bb2955fa5"
   },
   "outputs": [
    {
     "data": {
      "text/plain": [
       "[(\"i'm\", 4392),\n",
       " ('work', 3451),\n",
       " ('go', 3096),\n",
       " ('get', 2861),\n",
       " ('day', 2815),\n",
       " ('today', 2614),\n",
       " ('back', 2606),\n",
       " ('like', 2446),\n",
       " ('going', 2226),\n",
       " ('got', 2161),\n",
       " (\"can't\", 1979),\n",
       " ('still', 1931),\n",
       " ('good', 1890),\n",
       " ('really', 1870),\n",
       " ('2', 1855),\n",
       " ('want', 1830),\n",
       " ('time', 1817),\n",
       " ('im', 1720),\n",
       " ('one', 1633),\n",
       " ('quot', 1602),\n",
       " ('sad', 1511),\n",
       " ('last', 1504),\n",
       " ('sleep', 1473),\n",
       " ('miss', 1453),\n",
       " ('know', 1452),\n",
       " ('home', 1438),\n",
       " ('night', 1433),\n",
       " ('need', 1396),\n",
       " ('wish', 1376),\n",
       " ('oh', 1365),\n",
       " ('think', 1354),\n",
       " ('tomorrow', 1324),\n",
       " ('school', 1290),\n",
       " ('much', 1288),\n",
       " ('lol', 1269),\n",
       " ('morning', 1265),\n",
       " ('bad', 1237),\n",
       " ('well', 1230),\n",
       " ('feel', 1216),\n",
       " ('sorry', 1215),\n",
       " ('amp', 1209),\n",
       " ('see', 1203),\n",
       " ('u', 1187),\n",
       " ('3', 1032),\n",
       " ('hate', 1010),\n",
       " ('bed', 981),\n",
       " ('though', 977),\n",
       " ('sick', 974),\n",
       " ('love', 950),\n",
       " ('twitter', 917),\n",
       " ('getting', 908),\n",
       " ('hope', 901),\n",
       " ('would', 883),\n",
       " ('right', 882),\n",
       " ('new', 879),\n",
       " ('week', 817),\n",
       " ('tired', 814),\n",
       " ('could', 811),\n",
       " ('even', 778),\n",
       " ('4', 768),\n",
       " ('tonight', 763),\n",
       " ('feeling', 762),\n",
       " ('cant', 762),\n",
       " ('way', 750),\n",
       " ('come', 746),\n",
       " ('working', 744),\n",
       " ('make', 741),\n",
       " (\"i've\", 736),\n",
       " ('dont', 729),\n",
       " ('gonna', 721)]"
      ]
     },
     "execution_count": 81,
     "metadata": {
      "tags": []
     },
     "output_type": "execute_result"
    }
   ],
   "source": [
    "# neg : \n",
    "neg_top_70= neg_counter.most_common(70)\n",
    "neg_top_70"
   ]
  },
  {
   "cell_type": "code",
   "execution_count": null,
   "metadata": {
    "colab": {
     "base_uri": "https://localhost:8080/"
    },
    "id": "_ESyCBngOjPQ",
    "outputId": "23694972-63e2-4a7e-fae1-3ca7d5b6c991"
   },
   "outputs": [
    {
     "data": {
      "text/plain": [
       "11"
      ]
     },
     "execution_count": 82,
     "metadata": {
      "tags": []
     },
     "output_type": "execute_result"
    }
   ],
   "source": [
    "neg_dic=['cant','sad','last', 'miss','oh','bad','sorry','hate','tired','cant','dont']\n",
    "len(neg_dic)"
   ]
  },
  {
   "cell_type": "code",
   "execution_count": null,
   "metadata": {
    "id": "xF-UATE0Pdxh"
   },
   "outputs": [],
   "source": [
    "# add smileies for each dic\n",
    "pos_smiley= [ ':)', ':-)',':]',':p',':D','👍🏻','😀', '😃','😄','😁','😆','😅','🤣','😂','🙂' ,'😉','😊','😇','🥰','😍','🤩','😘','😋','😛','😜','🤪','😝','🤗','🥳','😎' ]\n",
    "neg_smiley=[ ':(', ':-(',':[','👎🏻','🤐','🤨','😐','😑','😶','😒','🤥','😌','😔','😪','😷','🤒','🤕','🤢' ,'🤮','🤧','🥵','🥶','🥴','😵','😕','😟','🙁','☹️','😮','😯','😲','🥺','😦','😧','😰','😥','😢','😭','😱','😖','😣','💀','☠️']\n",
    "\n",
    "pos_dic.extend(pos_smiley)\n",
    "neg_dic.extend(neg_smiley)\n",
    "\n",
    "# add emoji names : \n",
    "pos_smiley_word= [':smile:',':simple_smile:',':+1:',':thumbsup:',':laughing:',':laughing:',':laughing:',':blush:',':smiley:',':relaxed:',':smirk:',':heart_eyes:',':kissing_heart:',':kissing_closed_eyes:',':alien:',':relieved:',':satisfied:',':wink:',':stuck_out_tongue','_winking_eye:',':stuck_out_tongue_closed_eyes:',':grinning:',':kissing:',':kissing_smiling_eyes:',':stuck_out_tongue:',':joy:',':yum:',':sunglasses:']\n",
    "neg_smiley_word=[':skull:',':worried:',':frowning:',':anguished:',':open_mouth:',':confused:',':hushed:',':expressionless:',':unamused:',':sweat:',':disappointed_relieved:',':weary:',':pensive:',':disappointed:',':confounded:',':fearful:',':cold_sweat:',':persevere:',':cry:',':sob:',':astonished:',':scream:',':neckbeard:',':tired_face:',':angry:',':rage:',':triumph:',':sleepy:',':mask:',':dizzy_face:',':neutral_face:',':no_mouth:',':thumbsdown:',':-1:',':flushed:',':grin:']\n",
    "            \n",
    "pos_dic.extend(pos_smiley_word)\n",
    "neg_dic.extend(neg_smiley_word)\n"
   ]
  },
  {
   "cell_type": "code",
   "execution_count": null,
   "metadata": {
    "id": "2GaZimbXV3X7"
   },
   "outputs": [],
   "source": [
    "# Terms Counting - count how many times term appears\n",
    "def only_count(curr_df):\n",
    "    count_all = Counter()\n",
    "    for index, row in curr_df.iterrows():\n",
    "        if 'Text' in curr_df.columns:\n",
    "          curr_tweet = row['Text']\n",
    "        elif 'text' in curr_df.columns:\n",
    "          curr_tweet = row['text']\n",
    "        if len(curr_tweet) < 1:\n",
    "            continue\n",
    "         # Create a list with all the terms\n",
    "        curr_tweet = emoji.demojize(curr_tweet)\n",
    "        curr_tweet_tokens = preprocess(curr_tweet, True)\n",
    "        terms_all = [term for term in curr_tweet_tokens if term not in stop]\n",
    "        if '' in terms_all:\n",
    "          terms_all.remove('')\n",
    "        # Update the counter\n",
    "        count_all.update(terms_all)\n",
    "\n",
    "    return count_all"
   ]
  },
  {
   "cell_type": "code",
   "execution_count": null,
   "metadata": {
    "colab": {
     "base_uri": "https://localhost:8080/"
    },
    "id": "0LFnusEoMMy_",
    "outputId": "a2260420-a2cc-4bd7-8256-0829b62a67b1"
   },
   "outputs": [
    {
     "data": {
      "text/plain": [
       "[('covid', 42510),\n",
       " ('19', 15204),\n",
       " ('vaccine', 5942),\n",
       " ('people', 5161),\n",
       " ('new', 3801),\n",
       " ('get', 3380),\n",
       " ('amp', 3329),\n",
       " ('like', 2556),\n",
       " ('cases', 2405),\n",
       " ('one', 2305),\n",
       " ('health', 2178),\n",
       " ('us', 2175),\n",
       " ('pandemic', 1984),\n",
       " ('deaths', 1921),\n",
       " ('would', 1876),\n",
       " ('vaccines', 1831),\n",
       " ('need', 1823),\n",
       " ('2', 1776),\n",
       " ('year', 1757),\n",
       " ('know', 1730),\n",
       " ('time', 1683),\n",
       " ('first', 1673),\n",
       " ('still', 1643),\n",
       " ('1', 1613),\n",
       " ('relief', 1600),\n",
       " ('going', 1599),\n",
       " ('”', 1591),\n",
       " ('today', 1571),\n",
       " ('news', 1480),\n",
       " ('many', 1467),\n",
       " ('says', 1432),\n",
       " ('day', 1398),\n",
       " ('go', 1390),\n",
       " ('uk', 1385),\n",
       " ('could', 1385),\n",
       " ('got', 1382),\n",
       " ('last', 1352),\n",
       " ('government', 1336),\n",
       " ('even', 1329),\n",
       " ('think', 1309),\n",
       " ('world', 1290),\n",
       " ('work', 1283),\n",
       " ('vaccination', 1282),\n",
       " ('#covid19', 1280),\n",
       " ('back', 1257),\n",
       " ('th', 1245),\n",
       " ('due', 1235),\n",
       " ('good', 1231),\n",
       " ('see', 1225),\n",
       " ('please', 1221),\n",
       " ('test', 1158),\n",
       " ('help', 1148),\n",
       " ('died', 1120),\n",
       " ('biden', 1115),\n",
       " ('week', 1102),\n",
       " ('want', 1097),\n",
       " ('getting', 1082),\n",
       " ('virus', 1079),\n",
       " (':p', 1075),\n",
       " ('say', 1050),\n",
       " ('take', 1041),\n",
       " ('also', 1032),\n",
       " ('really', 1030),\n",
       " ('#covid', 1023),\n",
       " ('trump', 1019),\n",
       " ('right', 1004),\n",
       " ('said', 988),\n",
       " ('since', 977),\n",
       " ('care', 973),\n",
       " ('3', 962),\n",
       " ('well', 944),\n",
       " ('patients', 939),\n",
       " ('make', 930),\n",
       " ('home', 929),\n",
       " ('u', 918),\n",
       " ('positive', 903),\n",
       " ('much', 897),\n",
       " ('testing', 885),\n",
       " (\"i'm\", 875),\n",
       " ('death', 873),\n",
       " ('data', 853),\n",
       " ('china', 848),\n",
       " ('days', 847),\n",
       " ('way', 843),\n",
       " ('never', 842),\n",
       " ('country', 825),\n",
       " ('public', 817),\n",
       " ('variant', 817),\n",
       " ('10', 812),\n",
       " ('coronavirus', 805),\n",
       " ('state', 803),\n",
       " ('may', 802),\n",
       " ('two', 787),\n",
       " ('great', 784),\n",
       " ('c', 777),\n",
       " ('2021', 776),\n",
       " ('school', 771),\n",
       " ('every', 770),\n",
       " ('live', 768),\n",
       " ('let', 764)]"
      ]
     },
     "execution_count": 85,
     "metadata": {
      "tags": []
     },
     "output_type": "execute_result"
    }
   ],
   "source": [
    "# select manualy positive and negative words from the most common words in collected tweets $$$$$ \n",
    "tweets_counter= only_count(collected_tweets)\n",
    "common_terms_tweets= tweets_counter.most_common(100)\n",
    "common_terms_tweets "
   ]
  },
  {
   "cell_type": "code",
   "execution_count": null,
   "metadata": {
    "colab": {
     "base_uri": "https://localhost:8080/",
     "height": 419
    },
    "id": "uLIJce2XKY2N",
    "outputId": "cb4546fe-7316-4162-acdd-cd38b9674828"
   },
   "outputs": [
    {
     "data": {
      "text/html": [
       "<div>\n",
       "<style scoped>\n",
       "    .dataframe tbody tr th:only-of-type {\n",
       "        vertical-align: middle;\n",
       "    }\n",
       "\n",
       "    .dataframe tbody tr th {\n",
       "        vertical-align: top;\n",
       "    }\n",
       "\n",
       "    .dataframe thead th {\n",
       "        text-align: right;\n",
       "    }\n",
       "</style>\n",
       "<table border=\"1\" class=\"dataframe\">\n",
       "  <thead>\n",
       "    <tr style=\"text-align: right;\">\n",
       "      <th></th>\n",
       "      <th>Date</th>\n",
       "      <th>text</th>\n",
       "    </tr>\n",
       "  </thead>\n",
       "  <tbody>\n",
       "    <tr>\n",
       "      <th>0</th>\n",
       "      <td>2021-02-08 15:33:06+00:00</td>\n",
       "      <td>@apqc half organizations workforce planning we...</td>\n",
       "    </tr>\n",
       "    <tr>\n",
       "      <th>1</th>\n",
       "      <td>2021-02-08 15:33:06+00:00</td>\n",
       "      <td>@danadonly annoying covid made drink wine w 5 ...</td>\n",
       "    </tr>\n",
       "    <tr>\n",
       "      <th>2</th>\n",
       "      <td>2021-02-08 15:33:06+00:00</td>\n",
       "      <td>@lisa_mcnally1 covid 19 messages sandwell's co...</td>\n",
       "    </tr>\n",
       "    <tr>\n",
       "      <th>3</th>\n",
       "      <td>2021-02-08 15:33:06+00:00</td>\n",
       "      <td>negative</td>\n",
       "    </tr>\n",
       "    <tr>\n",
       "      <th>4</th>\n",
       "      <td>2021-02-08 15:33:06+00:00</td>\n",
       "      <td>@mets citi field open mass covid vaccination s...</td>\n",
       "    </tr>\n",
       "    <tr>\n",
       "      <th>...</th>\n",
       "      <td>...</td>\n",
       "      <td>...</td>\n",
       "    </tr>\n",
       "    <tr>\n",
       "      <th>151366</th>\n",
       "      <td>2021-02-13 19:42:46+00:00</td>\n",
       "      <td>@drdavidfriedman interview one world leading a...</td>\n",
       "    </tr>\n",
       "    <tr>\n",
       "      <th>151372</th>\n",
       "      <td>2021-02-13 19:42:46+00:00</td>\n",
       "      <td>@chronus8 @talkradio @mikeparry8 listening lbc...</td>\n",
       "    </tr>\n",
       "    <tr>\n",
       "      <th>151373</th>\n",
       "      <td>2021-02-13 19:42:46+00:00</td>\n",
       "      <td>contesting speeding ticket</td>\n",
       "    </tr>\n",
       "    <tr>\n",
       "      <th>151375</th>\n",
       "      <td>2021-02-13 19:42:46+00:00</td>\n",
       "      <td>@henniganp heno reckon pretend football cancel...</td>\n",
       "    </tr>\n",
       "    <tr>\n",
       "      <th>151377</th>\n",
       "      <td>2021-02-13 19:42:46+00:00</td>\n",
       "      <td>@jayztwocents hope feel better soon covid sucks</td>\n",
       "    </tr>\n",
       "  </tbody>\n",
       "</table>\n",
       "<p>78600 rows × 2 columns</p>\n",
       "</div>"
      ],
      "text/plain": [
       "                            Date                                               text\n",
       "0      2021-02-08 15:33:06+00:00  @apqc half organizations workforce planning we...\n",
       "1      2021-02-08 15:33:06+00:00  @danadonly annoying covid made drink wine w 5 ...\n",
       "2      2021-02-08 15:33:06+00:00  @lisa_mcnally1 covid 19 messages sandwell's co...\n",
       "3      2021-02-08 15:33:06+00:00                                           negative\n",
       "4      2021-02-08 15:33:06+00:00  @mets citi field open mass covid vaccination s...\n",
       "...                          ...                                                ...\n",
       "151366 2021-02-13 19:42:46+00:00  @drdavidfriedman interview one world leading a...\n",
       "151372 2021-02-13 19:42:46+00:00  @chronus8 @talkradio @mikeparry8 listening lbc...\n",
       "151373 2021-02-13 19:42:46+00:00                         contesting speeding ticket\n",
       "151375 2021-02-13 19:42:46+00:00  @henniganp heno reckon pretend football cancel...\n",
       "151377 2021-02-13 19:42:46+00:00    @jayztwocents hope feel better soon covid sucks\n",
       "\n",
       "[78600 rows x 2 columns]"
      ]
     },
     "execution_count": 86,
     "metadata": {
      "tags": []
     },
     "output_type": "execute_result"
    }
   ],
   "source": [
    "collected_tweets"
   ]
  },
  {
   "cell_type": "code",
   "execution_count": null,
   "metadata": {
    "id": "FuDpOf3FPsxy"
   },
   "outputs": [],
   "source": [
    "# pos and neg terms from our collectes tweets \n",
    "pos_tweets_dic=['please','relief','live']\n",
    "neg_tweets_dic=['pandemic','deaths','died']\n",
    "# add to suitable dic  - check acc ! if better\n",
    "pos_dic.extend(pos_tweets_dic)\n",
    "neg_dic.extend(neg_tweets_dic)"
   ]
  },
  {
   "cell_type": "code",
   "execution_count": null,
   "metadata": {
    "id": "usCnJ21JPyrR"
   },
   "outputs": [],
   "source": [
    "# add our words \n",
    "our_pos= ['awesome', 'outstanding', 'impressive','victory','green']\n",
    "our_neg=['terrible', 'crap' , 'useless','miserable','red','worst']\n",
    "# add to suitable dic \n",
    "pos_dic.extend(our_pos)\n",
    "neg_dic.extend(our_neg)"
   ]
  },
  {
   "cell_type": "code",
   "execution_count": null,
   "metadata": {
    "id": "EmHKwN_KV5kN"
   },
   "outputs": [],
   "source": [
    "global pos_count\n",
    "global nut_count\n",
    "global neg_count\n",
    "\n",
    "pos_count=0\n",
    "nut_count=0\n",
    "neg_count=0"
   ]
  },
  {
   "cell_type": "code",
   "execution_count": null,
   "metadata": {
    "id": "gndozig2EUas"
   },
   "outputs": [],
   "source": [
    "# calc sentiment of tweets and classified: 1-> positive, 0->negative. \n",
    "def calc_tweet_sentimant(df):\n",
    "  global pos_count\n",
    "  global nut_count\n",
    "  global neg_count\n",
    "  dates=[]\n",
    "  tweets=[]\n",
    "  sentiments=[]\n",
    "  for (indx,row) in df.iterrows():\n",
    "    positive_counter=0\n",
    "    negative_counter=0\n",
    "    # go over all the words in tweet and check if they exist in the dics\n",
    "    for term in row.text:\n",
    "      if term in pos_dic:\n",
    "        positive_counter+=1\n",
    "      elif term in neg_dic:\n",
    "        negative_counter+=1\n",
    "    #compute score for whole tweet\n",
    "    score= positive_counter - negative_counter\n",
    "    if score>0:# positive sentimant\n",
    "      pos_count=pos_count+1\n",
    "      dates.append(row['Date'])\n",
    "      tweets.append(row['text'])\n",
    "      sentiments.append(1)\n",
    "    elif score<0:# negative sentimant\n",
    "      neg_count+=1\n",
    "      dates.append(row['Date'])\n",
    "      tweets.append(row['text'])\n",
    "      sentiments.append(0)\n",
    "    else:# nutruel sentimant -> not classified \n",
    "      nut_count+=1\n",
    "  \n",
    "  ans=pd.DataFrame()\n",
    "  ans['date']=dates\n",
    "  ans['text']=tweets\n",
    "  ans['target']=sentiments\n",
    "\n",
    "  return ans"
   ]
  },
  {
   "cell_type": "code",
   "execution_count": null,
   "metadata": {
    "id": "dmpgIM8dEGuY"
   },
   "outputs": [],
   "source": [
    "\n",
    "classified_tweets=calc_tweet_sentimant(collected_tweets)"
   ]
  },
  {
   "cell_type": "code",
   "execution_count": null,
   "metadata": {
    "colab": {
     "base_uri": "https://localhost:8080/"
    },
    "id": "aafD5qvMOqfd",
    "outputId": "2d1682f9-45f1-4154-94c0-e0e9ecf4d35c"
   },
   "outputs": [
    {
     "name": "stdout",
     "output_type": "stream",
     "text": [
      "881 76926 793\n"
     ]
    }
   ],
   "source": [
    "print(pos_count,nut_count,neg_count)"
   ]
  },
  {
   "cell_type": "code",
   "execution_count": null,
   "metadata": {
    "colab": {
     "base_uri": "https://localhost:8080/",
     "height": 419
    },
    "id": "iZgze3jOZpuR",
    "outputId": "b63184d2-17f8-477d-a1ba-40dacca67105"
   },
   "outputs": [
    {
     "data": {
      "text/html": [
       "<div>\n",
       "<style scoped>\n",
       "    .dataframe tbody tr th:only-of-type {\n",
       "        vertical-align: middle;\n",
       "    }\n",
       "\n",
       "    .dataframe tbody tr th {\n",
       "        vertical-align: top;\n",
       "    }\n",
       "\n",
       "    .dataframe thead th {\n",
       "        text-align: right;\n",
       "    }\n",
       "</style>\n",
       "<table border=\"1\" class=\"dataframe\">\n",
       "  <thead>\n",
       "    <tr style=\"text-align: right;\">\n",
       "      <th></th>\n",
       "      <th>date</th>\n",
       "      <th>text</th>\n",
       "      <th>target</th>\n",
       "    </tr>\n",
       "  </thead>\n",
       "  <tbody>\n",
       "    <tr>\n",
       "      <th>0</th>\n",
       "      <td>2021-02-08 15:33:11+00:00</td>\n",
       "      <td>@kmatyler last real gathering place covid 😭</td>\n",
       "      <td>0</td>\n",
       "    </tr>\n",
       "    <tr>\n",
       "      <th>1</th>\n",
       "      <td>2021-02-08 15:33:12+00:00</td>\n",
       "      <td>sports ball 🤣 🤣 🤣 #superspreaderbowl #covid #s...</td>\n",
       "      <td>1</td>\n",
       "    </tr>\n",
       "    <tr>\n",
       "      <th>2</th>\n",
       "      <td>2021-02-08 15:33:14+00:00</td>\n",
       "      <td>@kasoa_mayor pls anyone else joining take covi...</td>\n",
       "      <td>1</td>\n",
       "    </tr>\n",
       "    <tr>\n",
       "      <th>3</th>\n",
       "      <td>2021-02-08 15:33:17+00:00</td>\n",
       "      <td>@_f__ire said nothing would come us covid 😔</td>\n",
       "      <td>0</td>\n",
       "    </tr>\n",
       "    <tr>\n",
       "      <th>4</th>\n",
       "      <td>2021-02-08 15:33:22+00:00</td>\n",
       "      <td>@lailagilden3 spending 120 million rands covid...</td>\n",
       "      <td>1</td>\n",
       "    </tr>\n",
       "    <tr>\n",
       "      <th>...</th>\n",
       "      <td>...</td>\n",
       "      <td>...</td>\n",
       "      <td>...</td>\n",
       "    </tr>\n",
       "    <tr>\n",
       "      <th>1669</th>\n",
       "      <td>2021-02-13 19:42:07+00:00</td>\n",
       "      <td>@n4chtvrnvs @goonermetalhead need covid testin...</td>\n",
       "      <td>1</td>\n",
       "    </tr>\n",
       "    <tr>\n",
       "      <th>1670</th>\n",
       "      <td>2021-02-13 19:42:29+00:00</td>\n",
       "      <td>hope 🙁</td>\n",
       "      <td>0</td>\n",
       "    </tr>\n",
       "    <tr>\n",
       "      <th>1671</th>\n",
       "      <td>2021-02-13 19:42:36+00:00</td>\n",
       "      <td>@marrgarritah covid dey catch police 😭</td>\n",
       "      <td>0</td>\n",
       "    </tr>\n",
       "    <tr>\n",
       "      <th>1672</th>\n",
       "      <td>2021-02-13 19:42:39+00:00</td>\n",
       "      <td>last year got dozen roses work 🤷 🏻 ‍ ♀ ️ year ...</td>\n",
       "      <td>1</td>\n",
       "    </tr>\n",
       "    <tr>\n",
       "      <th>1673</th>\n",
       "      <td>2021-02-13 19:42:46+00:00</td>\n",
       "      <td>@henniganp heno reckon pretend football cancel...</td>\n",
       "      <td>1</td>\n",
       "    </tr>\n",
       "  </tbody>\n",
       "</table>\n",
       "<p>1674 rows × 3 columns</p>\n",
       "</div>"
      ],
      "text/plain": [
       "                          date  ... target\n",
       "0    2021-02-08 15:33:11+00:00  ...      0\n",
       "1    2021-02-08 15:33:12+00:00  ...      1\n",
       "2    2021-02-08 15:33:14+00:00  ...      1\n",
       "3    2021-02-08 15:33:17+00:00  ...      0\n",
       "4    2021-02-08 15:33:22+00:00  ...      1\n",
       "...                        ...  ...    ...\n",
       "1669 2021-02-13 19:42:07+00:00  ...      1\n",
       "1670 2021-02-13 19:42:29+00:00  ...      0\n",
       "1671 2021-02-13 19:42:36+00:00  ...      0\n",
       "1672 2021-02-13 19:42:39+00:00  ...      1\n",
       "1673 2021-02-13 19:42:46+00:00  ...      1\n",
       "\n",
       "[1674 rows x 3 columns]"
      ]
     },
     "execution_count": 94,
     "metadata": {
      "tags": []
     },
     "output_type": "execute_result"
    }
   ],
   "source": [
    "classified_tweets"
   ]
  },
  {
   "cell_type": "code",
   "execution_count": null,
   "metadata": {
    "id": "92Q7wuXThk15"
   },
   "outputs": [],
   "source": [
    "# split collected_tweets to 2 ds - positive and negative \n",
    "pos_covid_tweets=classified_tweets.query('target == 1')\n",
    "neg_covid_tweets=classified_tweets.query('target == 0')\n"
   ]
  },
  {
   "cell_type": "markdown",
   "metadata": {
    "id": "Z-rgMLxoWOaa"
   },
   "source": [
    "## Analyze the most popular terms"
   ]
  },
  {
   "cell_type": "code",
   "execution_count": null,
   "metadata": {
    "colab": {
     "base_uri": "https://localhost:8080/",
     "height": 268
    },
    "id": "t45w1Vx9XNVy",
    "outputId": "368c5af4-3940-4e88-cf06-6f680a7d8651"
   },
   "outputs": [
    {
     "data": {
      "image/png": "[encoded data removed]",
      "text/plain": [
       "<Figure size 432x288 with 1 Axes>"
      ]
     },
     "metadata": {
      "tags": []
     },
     "output_type": "display_data"
    }
   ],
   "source": [
    "# positive and negative distribution :\n",
    "tweets_class_count = classified_tweets.groupby(['target'])['target'].count()\n",
    "plt.bar(np.array([\"Negative\",\"Positive\"]),tweets_class_count)\n",
    "plt.show()"
   ]
  },
  {
   "cell_type": "markdown",
   "metadata": {
    "id": "ltKwYOhMYM_d"
   },
   "source": [
    "* Find most common words for positive and negative sentiments:"
   ]
  },
  {
   "cell_type": "markdown",
   "metadata": {
    "id": "S9nq0mSVZh25"
   },
   "source": [
    "positive collected tweets:"
   ]
  },
  {
   "cell_type": "code",
   "execution_count": null,
   "metadata": {
    "colab": {
     "base_uri": "https://localhost:8080/",
     "height": 204
    },
    "id": "2dMjU6Cej4Zr",
    "outputId": "eb169822-1350-437e-bef8-be1bbe76cd5d"
   },
   "outputs": [
    {
     "data": {
      "text/html": [
       "<div>\n",
       "<style scoped>\n",
       "    .dataframe tbody tr th:only-of-type {\n",
       "        vertical-align: middle;\n",
       "    }\n",
       "\n",
       "    .dataframe tbody tr th {\n",
       "        vertical-align: top;\n",
       "    }\n",
       "\n",
       "    .dataframe thead th {\n",
       "        text-align: right;\n",
       "    }\n",
       "</style>\n",
       "<table border=\"1\" class=\"dataframe\">\n",
       "  <thead>\n",
       "    <tr style=\"text-align: right;\">\n",
       "      <th></th>\n",
       "      <th>date</th>\n",
       "      <th>text</th>\n",
       "      <th>target</th>\n",
       "    </tr>\n",
       "  </thead>\n",
       "  <tbody>\n",
       "    <tr>\n",
       "      <th>1</th>\n",
       "      <td>2021-02-08 15:33:12+00:00</td>\n",
       "      <td>sports ball 🤣 🤣 🤣 #superspreaderbowl #covid #s...</td>\n",
       "      <td>1</td>\n",
       "    </tr>\n",
       "    <tr>\n",
       "      <th>2</th>\n",
       "      <td>2021-02-08 15:33:14+00:00</td>\n",
       "      <td>@kasoa_mayor pls anyone else joining take covi...</td>\n",
       "      <td>1</td>\n",
       "    </tr>\n",
       "    <tr>\n",
       "      <th>4</th>\n",
       "      <td>2021-02-08 15:33:22+00:00</td>\n",
       "      <td>@lailagilden3 spending 120 million rands covid...</td>\n",
       "      <td>1</td>\n",
       "    </tr>\n",
       "    <tr>\n",
       "      <th>11</th>\n",
       "      <td>2021-02-08 15:34:09+00:00</td>\n",
       "      <td>really questions super bowl going 😂 😂</td>\n",
       "      <td>1</td>\n",
       "    </tr>\n",
       "    <tr>\n",
       "      <th>13</th>\n",
       "      <td>2021-02-08 15:34:11+00:00</td>\n",
       "      <td>@catturd2 strange reason liberals really trigg...</td>\n",
       "      <td>1</td>\n",
       "    </tr>\n",
       "  </tbody>\n",
       "</table>\n",
       "</div>"
      ],
      "text/plain": [
       "                        date  ... target\n",
       "1  2021-02-08 15:33:12+00:00  ...      1\n",
       "2  2021-02-08 15:33:14+00:00  ...      1\n",
       "4  2021-02-08 15:33:22+00:00  ...      1\n",
       "11 2021-02-08 15:34:09+00:00  ...      1\n",
       "13 2021-02-08 15:34:11+00:00  ...      1\n",
       "\n",
       "[5 rows x 3 columns]"
      ]
     },
     "execution_count": 97,
     "metadata": {
      "tags": []
     },
     "output_type": "execute_result"
    }
   ],
   "source": [
    "pos_covid_tweets.head()"
   ]
  },
  {
   "cell_type": "code",
   "execution_count": null,
   "metadata": {
    "colab": {
     "base_uri": "https://localhost:8080/"
    },
    "id": "h6ysCCDvi4FH",
    "outputId": "85a7222f-55c2-4e41-fb2a-f7e6ca89fe54"
   },
   "outputs": [
    {
     "data": {
      "text/plain": [
       "(881, 3)"
      ]
     },
     "execution_count": 98,
     "metadata": {
      "tags": []
     },
     "output_type": "execute_result"
    }
   ],
   "source": [
    "pos_covid_tweets.shape"
   ]
  },
  {
   "cell_type": "code",
   "execution_count": null,
   "metadata": {
    "colab": {
     "base_uri": "https://localhost:8080/"
    },
    "id": "SbzXalHBkPur",
    "outputId": "75a892cf-aafe-4153-b133-bc253872acc7"
   },
   "outputs": [
    {
     "name": "stdout",
     "output_type": "stream",
     "text": [
      "Number of terms in positive category: 3915\n"
     ]
    }
   ],
   "source": [
    "# count positive terms frequency\n",
    "pos_covid_tweets_counter= only_count(pos_covid_tweets)\n",
    "print(\"Number of terms in positive category:\",len(pos_covid_tweets_counter))"
   ]
  },
  {
   "cell_type": "code",
   "execution_count": null,
   "metadata": {
    "id": "joMI3iWPASDM"
   },
   "outputs": [],
   "source": [
    "# convert emoji description in words to emoji \n",
    "def convert_to_emoji(common_tweets):\n",
    "  for i,e in enumerate(common_tweets):\n",
    "    if e[0].find('_')!=(-1):\n",
    "      curr_list=list(common_tweets[i])\n",
    "      curr_list[0]=emoji.emojize(\":{0}:\".format(e[0]))\n",
    "      common_tweets[i]=tuple(curr_list)\n"
   ]
  },
  {
   "cell_type": "code",
   "execution_count": null,
   "metadata": {
    "colab": {
     "base_uri": "https://localhost:8080/"
    },
    "id": "FJTQZPhdnOp7",
    "outputId": "d68c8123-c2a0-4a39-bea8-1adfe9ccdf3b"
   },
   "outputs": [
    {
     "name": "stdout",
     "output_type": "stream",
     "text": [
      "average length of positive post: 11.154370034052214\n",
      "\n"
     ]
    },
    {
     "data": {
      "text/plain": [
       "[('😂', 733),\n",
       " ('covid', 541),\n",
       " ('🤣', 358),\n",
       " ('19', 80),\n",
       " (':p', 80),\n",
       " ('😍', 59),\n",
       " ('vaccine', 53),\n",
       " ('like', 53),\n",
       " ('😊', 44),\n",
       " ('😅', 43)]"
      ]
     },
     "execution_count": 101,
     "metadata": {
      "tags": []
     },
     "output_type": "execute_result"
    }
   ],
   "source": [
    "# average length - positive\n",
    "print('average length of positive post: {0}'.format(get_average_text_len(pos_covid_tweets)))\n",
    "print()\n",
    "\n",
    "#top 10 terms - positive - Finding 10 highest values\n",
    "\n",
    "high_covid_tweets_pos = pos_covid_tweets_counter.most_common(10)\n",
    "convert_to_emoji(high_covid_tweets_pos)\n",
    "high_covid_tweets_pos\n"
   ]
  },
  {
   "cell_type": "code",
   "execution_count": null,
   "metadata": {
    "colab": {
     "base_uri": "https://localhost:8080/",
     "height": 490
    },
    "id": "XwZu3rtlYg_C",
    "outputId": "b8d9be86-1d85-4fbe-fbf3-52396dcb70f3"
   },
   "outputs": [
    {
     "name": "stderr",
     "output_type": "stream",
     "text": [
      "/usr/local/lib/python3.6/dist-packages/matplotlib/backends/backend_agg.py:214: RuntimeWarning: Glyph 129315 missing from current font.\n",
      "  font.set_text(s, 0.0, flags=flags)\n",
      "/usr/local/lib/python3.6/dist-packages/matplotlib/backends/backend_agg.py:183: RuntimeWarning: Glyph 129315 missing from current font.\n",
      "  font.set_text(s, 0, flags=flags)\n"
     ]
    },
    {
     "data": {
      "image/png": "[encoded data removed]",
      "text/plain": [
       "<Figure size 864x432 with 1 Axes>"
      ]
     },
     "metadata": {
      "needs_background": "light",
      "tags": []
     },
     "output_type": "display_data"
    }
   ],
   "source": [
    "  # positive top 10 terms plot\n",
    "x_labels = [val[0] for val in high_covid_tweets_pos]\n",
    "y_labels = [val[1] for val in high_covid_tweets_pos]\n",
    "plt.figure(figsize=(12, 6))\n",
    "ax = pd.Series(y_labels).plot(kind='bar')\n",
    "ax.set_xticklabels(x_labels)\n",
    "\n",
    "rects = ax.patches\n",
    "\n",
    "for rect, label in zip(rects, y_labels):\n",
    "    height = rect.get_height()\n",
    "    ax.text(rect.get_x() + rect.get_width()/2, height + 5, label, ha='center', va='bottom')"
   ]
  },
  {
   "cell_type": "markdown",
   "metadata": {
    "id": "jIcXK7__UdD_"
   },
   "source": [
    "negative collected tweets:\n",
    "\n"
   ]
  },
  {
   "cell_type": "code",
   "execution_count": null,
   "metadata": {
    "colab": {
     "base_uri": "https://localhost:8080/",
     "height": 204
    },
    "id": "zDGqzTjZUjD_",
    "outputId": "b5158b41-0bca-4340-9313-1e9b5dbf5728"
   },
   "outputs": [
    {
     "data": {
      "text/html": [
       "<div>\n",
       "<style scoped>\n",
       "    .dataframe tbody tr th:only-of-type {\n",
       "        vertical-align: middle;\n",
       "    }\n",
       "\n",
       "    .dataframe tbody tr th {\n",
       "        vertical-align: top;\n",
       "    }\n",
       "\n",
       "    .dataframe thead th {\n",
       "        text-align: right;\n",
       "    }\n",
       "</style>\n",
       "<table border=\"1\" class=\"dataframe\">\n",
       "  <thead>\n",
       "    <tr style=\"text-align: right;\">\n",
       "      <th></th>\n",
       "      <th>date</th>\n",
       "      <th>text</th>\n",
       "      <th>target</th>\n",
       "    </tr>\n",
       "  </thead>\n",
       "  <tbody>\n",
       "    <tr>\n",
       "      <th>0</th>\n",
       "      <td>2021-02-08 15:33:11+00:00</td>\n",
       "      <td>@kmatyler last real gathering place covid 😭</td>\n",
       "      <td>0</td>\n",
       "    </tr>\n",
       "    <tr>\n",
       "      <th>3</th>\n",
       "      <td>2021-02-08 15:33:17+00:00</td>\n",
       "      <td>@_f__ire said nothing would come us covid 😔</td>\n",
       "      <td>0</td>\n",
       "    </tr>\n",
       "    <tr>\n",
       "      <th>5</th>\n",
       "      <td>2021-02-08 15:33:30+00:00</td>\n",
       "      <td>proud drivers part team spot super steph 😷 💪 🦸...</td>\n",
       "      <td>0</td>\n",
       "    </tr>\n",
       "    <tr>\n",
       "      <th>6</th>\n",
       "      <td>2021-02-08 15:33:34+00:00</td>\n",
       "      <td>@aboa_banku 457 covid 19 deaths 772 new cases ...</td>\n",
       "      <td>0</td>\n",
       "    </tr>\n",
       "    <tr>\n",
       "      <th>7</th>\n",
       "      <td>2021-02-08 15:33:37+00:00</td>\n",
       "      <td>@littleelfiies 100 k going choose fan fuck 🥵 w...</td>\n",
       "      <td>0</td>\n",
       "    </tr>\n",
       "  </tbody>\n",
       "</table>\n",
       "</div>"
      ],
      "text/plain": [
       "                       date  ... target\n",
       "0 2021-02-08 15:33:11+00:00  ...      0\n",
       "3 2021-02-08 15:33:17+00:00  ...      0\n",
       "5 2021-02-08 15:33:30+00:00  ...      0\n",
       "6 2021-02-08 15:33:34+00:00  ...      0\n",
       "7 2021-02-08 15:33:37+00:00  ...      0\n",
       "\n",
       "[5 rows x 3 columns]"
      ]
     },
     "execution_count": 103,
     "metadata": {
      "tags": []
     },
     "output_type": "execute_result"
    }
   ],
   "source": [
    "neg_covid_tweets.head()"
   ]
  },
  {
   "cell_type": "code",
   "execution_count": null,
   "metadata": {
    "colab": {
     "base_uri": "https://localhost:8080/"
    },
    "id": "z_2c5giMofOA",
    "outputId": "b989d159-f0da-472a-d67d-a1603de7ad36"
   },
   "outputs": [
    {
     "data": {
      "text/plain": [
       "(793, 3)"
      ]
     },
     "execution_count": 104,
     "metadata": {
      "tags": []
     },
     "output_type": "execute_result"
    }
   ],
   "source": [
    "neg_covid_tweets.shape"
   ]
  },
  {
   "cell_type": "code",
   "execution_count": null,
   "metadata": {
    "colab": {
     "base_uri": "https://localhost:8080/"
    },
    "id": "O3z7A_BHqrE5",
    "outputId": "789c5938-2f29-4f95-9f88-34460eadd1ef"
   },
   "outputs": [
    {
     "name": "stdout",
     "output_type": "stream",
     "text": [
      "Number of terms in negative category: 3335\n"
     ]
    }
   ],
   "source": [
    "# count negative terms frequency\n",
    "neg_covid_tweets_counter= only_count(neg_covid_tweets)\n",
    "print(\"Number of terms in negative category:\",len(neg_covid_tweets_counter))"
   ]
  },
  {
   "cell_type": "code",
   "execution_count": null,
   "metadata": {
    "colab": {
     "base_uri": "https://localhost:8080/"
    },
    "id": "ntUDLRcSq0w_",
    "outputId": "39bd9d0c-70bd-4f9c-8484-2bcb60787571"
   },
   "outputs": [
    {
     "data": {
      "text/plain": [
       "[('covid', 517),\n",
       " ('😭', 473),\n",
       " (':p', 133),\n",
       " ('😷', 129),\n",
       " (':ensive_face:', 78),\n",
       " ('😢', 75),\n",
       " ('19', 74),\n",
       " ('skull', 60),\n",
       " ('get', 52),\n",
       " ('😱', 47)]"
      ]
     },
     "execution_count": 106,
     "metadata": {
      "tags": []
     },
     "output_type": "execute_result"
    }
   ],
   "source": [
    "#top 10 terms - negative - Finding 10 highest values\n",
    "high_covid_tweets_neg = neg_covid_tweets_counter.most_common(10)\n",
    "\n",
    "convert_to_emoji(high_covid_tweets_neg)\n",
    "high_covid_tweets_neg"
   ]
  },
  {
   "cell_type": "code",
   "execution_count": null,
   "metadata": {
    "colab": {
     "base_uri": "https://localhost:8080/",
     "height": 430
    },
    "id": "0-GZZtN3MqXY",
    "outputId": "8db336c6-f82f-4432-843c-f64b16bcbe40"
   },
   "outputs": [
    {
     "data": {
      "image/png": "[encoded data removed]",
      "text/plain": [
       "<Figure size 864x432 with 1 Axes>"
      ]
     },
     "metadata": {
      "needs_background": "light",
      "tags": []
     },
     "output_type": "display_data"
    }
   ],
   "source": [
    "# negative top 10 terms plot\n",
    "x_labels = [val[0] for val in high_covid_tweets_neg]\n",
    "y_labels = [val[1] for val in high_covid_tweets_neg]\n",
    "plt.figure(figsize=(12, 6))\n",
    "ax = pd.Series(y_labels).plot(kind='bar')\n",
    "ax.set_xticklabels(x_labels)\n",
    "\n",
    "rects = ax.patches\n",
    "\n",
    "for rect, label in zip(rects, y_labels):\n",
    "    height = rect.get_height()\n",
    "    ax.text(rect.get_x() + rect.get_width()/2, height + 5, label, ha='center', va='bottom')\n"
   ]
  },
  {
   "cell_type": "code",
   "execution_count": null,
   "metadata": {
    "colab": {
     "base_uri": "https://localhost:8080/",
     "height": 359
    },
    "id": "7qJwFzgaMqUk",
    "outputId": "a4f2a994-388b-4c2f-b6aa-a0b4b6a33e1c"
   },
   "outputs": [
    {
     "data": {
      "text/html": [
       "<div>\n",
       "<style scoped>\n",
       "    .dataframe tbody tr th:only-of-type {\n",
       "        vertical-align: middle;\n",
       "    }\n",
       "\n",
       "    .dataframe tbody tr th {\n",
       "        vertical-align: top;\n",
       "    }\n",
       "\n",
       "    .dataframe thead th {\n",
       "        text-align: right;\n",
       "    }\n",
       "</style>\n",
       "<table border=\"1\" class=\"dataframe\">\n",
       "  <thead>\n",
       "    <tr style=\"text-align: right;\">\n",
       "      <th></th>\n",
       "      <th>Positive Tweets Terms</th>\n",
       "      <th>Negative Tweets Terms</th>\n",
       "    </tr>\n",
       "  </thead>\n",
       "  <tbody>\n",
       "    <tr>\n",
       "      <th>0</th>\n",
       "      <td>(😂, 733)</td>\n",
       "      <td>(covid, 517)</td>\n",
       "    </tr>\n",
       "    <tr>\n",
       "      <th>1</th>\n",
       "      <td>(covid, 541)</td>\n",
       "      <td>(😭, 473)</td>\n",
       "    </tr>\n",
       "    <tr>\n",
       "      <th>2</th>\n",
       "      <td>(🤣, 358)</td>\n",
       "      <td>(:p, 133)</td>\n",
       "    </tr>\n",
       "    <tr>\n",
       "      <th>3</th>\n",
       "      <td>(19, 80)</td>\n",
       "      <td>(😷, 129)</td>\n",
       "    </tr>\n",
       "    <tr>\n",
       "      <th>4</th>\n",
       "      <td>(:p, 80)</td>\n",
       "      <td>(:ensive_face:, 78)</td>\n",
       "    </tr>\n",
       "    <tr>\n",
       "      <th>5</th>\n",
       "      <td>(😍, 59)</td>\n",
       "      <td>(😢, 75)</td>\n",
       "    </tr>\n",
       "    <tr>\n",
       "      <th>6</th>\n",
       "      <td>(vaccine, 53)</td>\n",
       "      <td>(19, 74)</td>\n",
       "    </tr>\n",
       "    <tr>\n",
       "      <th>7</th>\n",
       "      <td>(like, 53)</td>\n",
       "      <td>(skull, 60)</td>\n",
       "    </tr>\n",
       "    <tr>\n",
       "      <th>8</th>\n",
       "      <td>(😊, 44)</td>\n",
       "      <td>(get, 52)</td>\n",
       "    </tr>\n",
       "    <tr>\n",
       "      <th>9</th>\n",
       "      <td>(😅, 43)</td>\n",
       "      <td>(😱, 47)</td>\n",
       "    </tr>\n",
       "  </tbody>\n",
       "</table>\n",
       "</div>"
      ],
      "text/plain": [
       "  Positive Tweets Terms Negative Tweets Terms\n",
       "0              (😂, 733)          (covid, 517)\n",
       "1          (covid, 541)              (😭, 473)\n",
       "2              (🤣, 358)             (:p, 133)\n",
       "3              (19, 80)              (😷, 129)\n",
       "4              (:p, 80)   (:ensive_face:, 78)\n",
       "5               (😍, 59)               (😢, 75)\n",
       "6         (vaccine, 53)              (19, 74)\n",
       "7            (like, 53)           (skull, 60)\n",
       "8               (😊, 44)             (get, 52)\n",
       "9               (😅, 43)               (😱, 47)"
      ]
     },
     "execution_count": 108,
     "metadata": {
      "tags": []
     },
     "output_type": "execute_result"
    }
   ],
   "source": [
    "# most popular terms for each class: \n",
    "top_tweets_df = pd.DataFrame()\n",
    "top_tweets_df['Positive Tweets Terms']= high_covid_tweets_pos\n",
    "top_tweets_df['Negative Tweets Terms']=high_covid_tweets_neg\n",
    "\n",
    "top_tweets_df"
   ]
  },
  {
   "cell_type": "markdown",
   "metadata": {
    "id": "JOeMQtPWszsD"
   },
   "source": [
    "## Discuss the similarity with the train \n",
    "we can see that there is no high similarity between the common words in the training set and those in the test set.\n",
    "The most commonly words we found in the training set dont contain emojis at all, however the common words in the test set consists mostly of emojis. On the other hand, it can be seen that there are single words that were found in both the training set and the test set - like the words: like in the positive terms, get in the negative terms.\n",
    " \n",
    " - We will discuss the common words we found:\n",
    "\n",
    "we can see that most of the common words we have found (positive and negative) are emojis. After all, emojis characterize the type of writing that is common in Twitter and even clearly show positives or negatives. For this reason we chose to add emojis to the dictionaries we created. The emojis that appear in the positive concepts are those of a positive and happy nature while those that appear in the negative concepts are of a negative and sad nature. In addition, it can be seen that the word \"covid\" is common in both dictionaries because it is the word on which we performed the search. It can be seen that, the word \"vaccine\" is among the common positive words because it deals with the path to the solution of the virus and even the end of the plague. The word \"skull\" is a word of a negative nature associated with death and so we can see that we have found it to be common in words labeled as negative."
   ]
  },
  {
   "cell_type": "markdown",
   "metadata": {
    "id": "hYXHnngWElj0"
   },
   "source": [
    "# Q4\n"
   ]
  },
  {
   "cell_type": "code",
   "execution_count": null,
   "metadata": {
    "colab": {
     "base_uri": "https://localhost:8080/",
     "height": 419
    },
    "id": "zujY2s5Get5l",
    "outputId": "1d49c1da-71d9-4868-adfb-02ae030a191d"
   },
   "outputs": [
    {
     "data": {
      "text/html": [
       "<div>\n",
       "<style scoped>\n",
       "    .dataframe tbody tr th:only-of-type {\n",
       "        vertical-align: middle;\n",
       "    }\n",
       "\n",
       "    .dataframe tbody tr th {\n",
       "        vertical-align: top;\n",
       "    }\n",
       "\n",
       "    .dataframe thead th {\n",
       "        text-align: right;\n",
       "    }\n",
       "</style>\n",
       "<table border=\"1\" class=\"dataframe\">\n",
       "  <thead>\n",
       "    <tr style=\"text-align: right;\">\n",
       "      <th></th>\n",
       "      <th>date</th>\n",
       "      <th>text</th>\n",
       "      <th>target</th>\n",
       "    </tr>\n",
       "  </thead>\n",
       "  <tbody>\n",
       "    <tr>\n",
       "      <th>0</th>\n",
       "      <td>2021-02-08 15:33:11+00:00</td>\n",
       "      <td>@kmatyler last real gathering place covid 😭</td>\n",
       "      <td>0</td>\n",
       "    </tr>\n",
       "    <tr>\n",
       "      <th>1</th>\n",
       "      <td>2021-02-08 15:33:12+00:00</td>\n",
       "      <td>sports ball 🤣 🤣 🤣 #superspreaderbowl #covid #s...</td>\n",
       "      <td>1</td>\n",
       "    </tr>\n",
       "    <tr>\n",
       "      <th>2</th>\n",
       "      <td>2021-02-08 15:33:14+00:00</td>\n",
       "      <td>@kasoa_mayor pls anyone else joining take covi...</td>\n",
       "      <td>1</td>\n",
       "    </tr>\n",
       "    <tr>\n",
       "      <th>3</th>\n",
       "      <td>2021-02-08 15:33:17+00:00</td>\n",
       "      <td>@_f__ire said nothing would come us covid 😔</td>\n",
       "      <td>0</td>\n",
       "    </tr>\n",
       "    <tr>\n",
       "      <th>4</th>\n",
       "      <td>2021-02-08 15:33:22+00:00</td>\n",
       "      <td>@lailagilden3 spending 120 million rands covid...</td>\n",
       "      <td>1</td>\n",
       "    </tr>\n",
       "    <tr>\n",
       "      <th>...</th>\n",
       "      <td>...</td>\n",
       "      <td>...</td>\n",
       "      <td>...</td>\n",
       "    </tr>\n",
       "    <tr>\n",
       "      <th>1669</th>\n",
       "      <td>2021-02-13 19:42:07+00:00</td>\n",
       "      <td>@n4chtvrnvs @goonermetalhead need covid testin...</td>\n",
       "      <td>1</td>\n",
       "    </tr>\n",
       "    <tr>\n",
       "      <th>1670</th>\n",
       "      <td>2021-02-13 19:42:29+00:00</td>\n",
       "      <td>hope 🙁</td>\n",
       "      <td>0</td>\n",
       "    </tr>\n",
       "    <tr>\n",
       "      <th>1671</th>\n",
       "      <td>2021-02-13 19:42:36+00:00</td>\n",
       "      <td>@marrgarritah covid dey catch police 😭</td>\n",
       "      <td>0</td>\n",
       "    </tr>\n",
       "    <tr>\n",
       "      <th>1672</th>\n",
       "      <td>2021-02-13 19:42:39+00:00</td>\n",
       "      <td>last year got dozen roses work 🤷 🏻 ‍ ♀ ️ year ...</td>\n",
       "      <td>1</td>\n",
       "    </tr>\n",
       "    <tr>\n",
       "      <th>1673</th>\n",
       "      <td>2021-02-13 19:42:46+00:00</td>\n",
       "      <td>@henniganp heno reckon pretend football cancel...</td>\n",
       "      <td>1</td>\n",
       "    </tr>\n",
       "  </tbody>\n",
       "</table>\n",
       "<p>1674 rows × 3 columns</p>\n",
       "</div>"
      ],
      "text/plain": [
       "                          date  ... target\n",
       "0    2021-02-08 15:33:11+00:00  ...      0\n",
       "1    2021-02-08 15:33:12+00:00  ...      1\n",
       "2    2021-02-08 15:33:14+00:00  ...      1\n",
       "3    2021-02-08 15:33:17+00:00  ...      0\n",
       "4    2021-02-08 15:33:22+00:00  ...      1\n",
       "...                        ...  ...    ...\n",
       "1669 2021-02-13 19:42:07+00:00  ...      1\n",
       "1670 2021-02-13 19:42:29+00:00  ...      0\n",
       "1671 2021-02-13 19:42:36+00:00  ...      0\n",
       "1672 2021-02-13 19:42:39+00:00  ...      1\n",
       "1673 2021-02-13 19:42:46+00:00  ...      1\n",
       "\n",
       "[1674 rows x 3 columns]"
      ]
     },
     "execution_count": 109,
     "metadata": {
      "tags": []
     },
     "output_type": "execute_result"
    }
   ],
   "source": [
    "classified_tweets"
   ]
  },
  {
   "cell_type": "code",
   "execution_count": null,
   "metadata": {
    "colab": {
     "base_uri": "https://localhost:8080/",
     "height": 319
    },
    "id": "U__Alb63EnQz",
    "outputId": "2a0c599e-0fea-4972-c6a2-2b10e311427a"
   },
   "outputs": [
    {
     "name": "stdout",
     "output_type": "stream",
     "text": [
      "Accuracy score: 0.581242532855436\n"
     ]
    },
    {
     "data": {
      "text/plain": [
       "<sklearn.metrics._plot.confusion_matrix.ConfusionMatrixDisplay at 0x7f94716d4b70>"
      ]
     },
     "execution_count": 144,
     "metadata": {
      "tags": []
     },
     "output_type": "execute_result"
    },
    {
     "data": {
      "image/png": "[encoded data removed]",
      "text/plain": [
       "<Figure size 432x288 with 2 Axes>"
      ]
     },
     "metadata": {
      "tags": []
     },
     "output_type": "display_data"
    }
   ],
   "source": [
    "#X_tweets= tf_vec.transform(classified_tweets['text'])\n",
    "\n",
    "preds = svm_best.predict(classified_tweets['text'].tolist())\n",
    "print(\"Accuracy score:\",metrics.accuracy_score(classified_tweets['target'], preds))\n",
    "\n",
    "class_names = ['Negative', 'Positive']\n",
    "plot_confusion_matrix(svm_best, classified_tweets['text'].tolist(), classified_tweets['target'],display_labels=class_names,normalize=None, values_format = '.0f',cmap=plt.cm.Blues)"
   ]
  },
  {
   "cell_type": "code",
   "execution_count": null,
   "metadata": {
    "colab": {
     "base_uri": "https://localhost:8080/"
    },
    "id": "oVMU1OJ2RkEp",
    "outputId": "79920b3b-f906-4fc3-e2d1-ca541590444d"
   },
   "outputs": [
    {
     "name": "stdout",
     "output_type": "stream",
     "text": [
      "              precision    recall  f1-score   support\n",
      "\n",
      "           0       0.57      0.49      0.53       793\n",
      "           1       0.59      0.66      0.62       881\n",
      "\n",
      "    accuracy                           0.58      1674\n",
      "   macro avg       0.58      0.58      0.58      1674\n",
      "weighted avg       0.58      0.58      0.58      1674\n",
      "\n"
     ]
    }
   ],
   "source": [
    "print(metrics.classification_report(classified_tweets['target'], preds))"
   ]
  },
  {
   "cell_type": "markdown",
   "metadata": {
    "id": "scMGmut61M5L"
   },
   "source": [
    "# Q5\n",
    "\n",
    "\n",
    "לבדוק מה קורלייטד מה לא? להשוות לאירוע שקרה בעולם האמיתי בתקופה זו "
   ]
  },
  {
   "cell_type": "markdown",
   "metadata": {
    "id": "zXSEoSsOr7UK"
   },
   "source": [
    "5-a : Aggregate the tweets you collected per day\n"
   ]
  },
  {
   "cell_type": "code",
   "execution_count": null,
   "metadata": {
    "colab": {
     "base_uri": "https://localhost:8080/"
    },
    "id": "uvOiCCWJr6zO",
    "outputId": "a4cd89c0-215e-4a81-8352-4d772a2f5b3b"
   },
   "outputs": [
    {
     "data": {
      "text/plain": [
       "Date    datetime64[ns, UTC]\n",
       "text                 object\n",
       "dtype: object"
      ]
     },
     "execution_count": 112,
     "metadata": {
      "tags": []
     },
     "output_type": "execute_result"
    }
   ],
   "source": [
    "all_tweets.dtypes"
   ]
  },
  {
   "cell_type": "code",
   "execution_count": null,
   "metadata": {
    "colab": {
     "base_uri": "https://localhost:8080/",
     "height": 419
    },
    "id": "bCQw8pLwsWF_",
    "outputId": "1060fa12-9cdf-43df-f2eb-18e1729e7045"
   },
   "outputs": [
    {
     "data": {
      "text/html": [
       "<div>\n",
       "<style scoped>\n",
       "    .dataframe tbody tr th:only-of-type {\n",
       "        vertical-align: middle;\n",
       "    }\n",
       "\n",
       "    .dataframe tbody tr th {\n",
       "        vertical-align: top;\n",
       "    }\n",
       "\n",
       "    .dataframe thead th {\n",
       "        text-align: right;\n",
       "    }\n",
       "</style>\n",
       "<table border=\"1\" class=\"dataframe\">\n",
       "  <thead>\n",
       "    <tr style=\"text-align: right;\">\n",
       "      <th></th>\n",
       "      <th>Date</th>\n",
       "      <th>text</th>\n",
       "    </tr>\n",
       "  </thead>\n",
       "  <tbody>\n",
       "    <tr>\n",
       "      <th>0</th>\n",
       "      <td>2021-02-08 15:33:06+00:00</td>\n",
       "      <td>@apqc half organizations workforce planning we...</td>\n",
       "    </tr>\n",
       "    <tr>\n",
       "      <th>1</th>\n",
       "      <td>2021-02-08 15:33:06+00:00</td>\n",
       "      <td>@danadonly annoying covid made drink wine w 5 ...</td>\n",
       "    </tr>\n",
       "    <tr>\n",
       "      <th>2</th>\n",
       "      <td>2021-02-08 15:33:06+00:00</td>\n",
       "      <td>@lisa_mcnally1 covid 19 messages sandwell's co...</td>\n",
       "    </tr>\n",
       "    <tr>\n",
       "      <th>3</th>\n",
       "      <td>2021-02-08 15:33:06+00:00</td>\n",
       "      <td>negative</td>\n",
       "    </tr>\n",
       "    <tr>\n",
       "      <th>4</th>\n",
       "      <td>2021-02-08 15:33:06+00:00</td>\n",
       "      <td>@mets citi field open mass covid vaccination s...</td>\n",
       "    </tr>\n",
       "    <tr>\n",
       "      <th>...</th>\n",
       "      <td>...</td>\n",
       "      <td>...</td>\n",
       "    </tr>\n",
       "    <tr>\n",
       "      <th>151375</th>\n",
       "      <td>2021-02-13 19:42:46+00:00</td>\n",
       "      <td>@henniganp heno reckon pretend football cancel...</td>\n",
       "    </tr>\n",
       "    <tr>\n",
       "      <th>151376</th>\n",
       "      <td>2021-02-13 19:42:46+00:00</td>\n",
       "      <td>@therustler83 #foi returned 6 @nhsuk boards #s...</td>\n",
       "    </tr>\n",
       "    <tr>\n",
       "      <th>151377</th>\n",
       "      <td>2021-02-13 19:42:46+00:00</td>\n",
       "      <td>@jayztwocents hope feel better soon covid sucks</td>\n",
       "    </tr>\n",
       "    <tr>\n",
       "      <th>151378</th>\n",
       "      <td>2021-02-13 19:42:46+00:00</td>\n",
       "      <td>@diannemstewart i'm best day since covid force...</td>\n",
       "    </tr>\n",
       "    <tr>\n",
       "      <th>151379</th>\n",
       "      <td>2021-02-13 19:42:46+00:00</td>\n",
       "      <td>@anthonydaleoha 1 3 today reopening decision s...</td>\n",
       "    </tr>\n",
       "  </tbody>\n",
       "</table>\n",
       "<p>151380 rows × 2 columns</p>\n",
       "</div>"
      ],
      "text/plain": [
       "                            Date                                               text\n",
       "0      2021-02-08 15:33:06+00:00  @apqc half organizations workforce planning we...\n",
       "1      2021-02-08 15:33:06+00:00  @danadonly annoying covid made drink wine w 5 ...\n",
       "2      2021-02-08 15:33:06+00:00  @lisa_mcnally1 covid 19 messages sandwell's co...\n",
       "3      2021-02-08 15:33:06+00:00                                           negative\n",
       "4      2021-02-08 15:33:06+00:00  @mets citi field open mass covid vaccination s...\n",
       "...                          ...                                                ...\n",
       "151375 2021-02-13 19:42:46+00:00  @henniganp heno reckon pretend football cancel...\n",
       "151376 2021-02-13 19:42:46+00:00  @therustler83 #foi returned 6 @nhsuk boards #s...\n",
       "151377 2021-02-13 19:42:46+00:00    @jayztwocents hope feel better soon covid sucks\n",
       "151378 2021-02-13 19:42:46+00:00  @diannemstewart i'm best day since covid force...\n",
       "151379 2021-02-13 19:42:46+00:00  @anthonydaleoha 1 3 today reopening decision s...\n",
       "\n",
       "[151380 rows x 2 columns]"
      ]
     },
     "execution_count": 113,
     "metadata": {
      "tags": []
     },
     "output_type": "execute_result"
    }
   ],
   "source": [
    "all_tweets\n"
   ]
  },
  {
   "cell_type": "code",
   "execution_count": null,
   "metadata": {
    "id": "5yYUn81Ryl0v"
   },
   "outputs": [],
   "source": [
    "all_tweets['Date']=all_tweets['Date'].dt.date"
   ]
  },
  {
   "cell_type": "code",
   "execution_count": null,
   "metadata": {
    "colab": {
     "base_uri": "https://localhost:8080/",
     "height": 204
    },
    "id": "HlpCRPTuSboP",
    "outputId": "bfa7c941-aeb2-4e58-9789-aec5d538a8e0"
   },
   "outputs": [
    {
     "data": {
      "text/html": [
       "<div>\n",
       "<style scoped>\n",
       "    .dataframe tbody tr th:only-of-type {\n",
       "        vertical-align: middle;\n",
       "    }\n",
       "\n",
       "    .dataframe tbody tr th {\n",
       "        vertical-align: top;\n",
       "    }\n",
       "\n",
       "    .dataframe thead th {\n",
       "        text-align: right;\n",
       "    }\n",
       "</style>\n",
       "<table border=\"1\" class=\"dataframe\">\n",
       "  <thead>\n",
       "    <tr style=\"text-align: right;\">\n",
       "      <th></th>\n",
       "      <th>Date</th>\n",
       "      <th>text</th>\n",
       "    </tr>\n",
       "  </thead>\n",
       "  <tbody>\n",
       "    <tr>\n",
       "      <th>0</th>\n",
       "      <td>2021-02-08</td>\n",
       "      <td>@apqc half organizations workforce planning we...</td>\n",
       "    </tr>\n",
       "    <tr>\n",
       "      <th>1</th>\n",
       "      <td>2021-02-08</td>\n",
       "      <td>@danadonly annoying covid made drink wine w 5 ...</td>\n",
       "    </tr>\n",
       "    <tr>\n",
       "      <th>2</th>\n",
       "      <td>2021-02-08</td>\n",
       "      <td>@lisa_mcnally1 covid 19 messages sandwell's co...</td>\n",
       "    </tr>\n",
       "    <tr>\n",
       "      <th>3</th>\n",
       "      <td>2021-02-08</td>\n",
       "      <td>negative</td>\n",
       "    </tr>\n",
       "    <tr>\n",
       "      <th>4</th>\n",
       "      <td>2021-02-08</td>\n",
       "      <td>@mets citi field open mass covid vaccination s...</td>\n",
       "    </tr>\n",
       "  </tbody>\n",
       "</table>\n",
       "</div>"
      ],
      "text/plain": [
       "         Date                                               text\n",
       "0  2021-02-08  @apqc half organizations workforce planning we...\n",
       "1  2021-02-08  @danadonly annoying covid made drink wine w 5 ...\n",
       "2  2021-02-08  @lisa_mcnally1 covid 19 messages sandwell's co...\n",
       "3  2021-02-08                                           negative\n",
       "4  2021-02-08  @mets citi field open mass covid vaccination s..."
      ]
     },
     "execution_count": 115,
     "metadata": {
      "tags": []
     },
     "output_type": "execute_result"
    }
   ],
   "source": [
    "all_tweets.head()"
   ]
  },
  {
   "cell_type": "code",
   "execution_count": null,
   "metadata": {
    "id": "7J83idUASiuo"
   },
   "outputs": [],
   "source": [
    "all_tweets_by_days=all_tweets.groupby(['Date'])['Date'].count()"
   ]
  },
  {
   "cell_type": "code",
   "execution_count": null,
   "metadata": {
    "colab": {
     "base_uri": "https://localhost:8080/"
    },
    "id": "ELyboXmGT6g9",
    "outputId": "43fb61be-52fc-4219-a0e8-29716a612d72"
   },
   "outputs": [
    {
     "data": {
      "text/plain": [
       "Date\n",
       "2021-02-08    26657\n",
       "2021-02-09    18135\n",
       "2021-02-10    19548\n",
       "2021-02-11    29416\n",
       "2021-02-12    27563\n",
       "2021-02-13    30061\n",
       "Name: Date, dtype: int64"
      ]
     },
     "execution_count": 117,
     "metadata": {
      "tags": []
     },
     "output_type": "execute_result"
    }
   ],
   "source": [
    "all_tweets_by_days"
   ]
  },
  {
   "cell_type": "code",
   "execution_count": null,
   "metadata": {
    "colab": {
     "base_uri": "https://localhost:8080/",
     "height": 413
    },
    "id": "PTeawUxN3HFc",
    "outputId": "6a4db4dd-3725-4447-97ee-486c698417a0"
   },
   "outputs": [
    {
     "data": {
      "image/png": "[encoded data removed]",
      "text/plain": [
       "<Figure size 648x432 with 1 Axes>"
      ]
     },
     "metadata": {
      "tags": []
     },
     "output_type": "display_data"
    }
   ],
   "source": [
    "# Let's draw\n",
    "\n",
    "sns.set(color_codes=True)\n",
    "dx = all_tweets_by_days.plot.line(figsize = (9,6), title = \"Number of tweets by day\")\n",
    "dx.set_xlabel('Date')\n",
    "dx.set_ylabel('Number of Tweets')\n",
    "dx.tick_params(axis='both', which='major', labelsize=13)\n",
    "\n"
   ]
  },
  {
   "cell_type": "markdown",
   "metadata": {
    "id": "gQLpK3V-3ReP"
   },
   "source": [
    "### positive tweets"
   ]
  },
  {
   "cell_type": "code",
   "execution_count": null,
   "metadata": {
    "colab": {
     "base_uri": "https://localhost:8080/"
    },
    "id": "jAggy6Wi3VbX",
    "outputId": "1ea41d23-abc8-4d56-e74c-922e01be0896"
   },
   "outputs": [
    {
     "name": "stdout",
     "output_type": "stream",
     "text": [
      "51526\n",
      "99854\n"
     ]
    }
   ],
   "source": [
    "all_tweets_pred = svm_best.predict(all_tweets['text'].tolist())\n",
    "print((all_tweets_pred== 0).sum())\n",
    "print((all_tweets_pred== 1).sum())"
   ]
  },
  {
   "cell_type": "code",
   "execution_count": null,
   "metadata": {
    "colab": {
     "base_uri": "https://localhost:8080/",
     "height": 204
    },
    "id": "ckFMXR5C4Dha",
    "outputId": "ffbcad55-313d-48d2-e66f-1eb955508850"
   },
   "outputs": [
    {
     "data": {
      "text/html": [
       "<div>\n",
       "<style scoped>\n",
       "    .dataframe tbody tr th:only-of-type {\n",
       "        vertical-align: middle;\n",
       "    }\n",
       "\n",
       "    .dataframe tbody tr th {\n",
       "        vertical-align: top;\n",
       "    }\n",
       "\n",
       "    .dataframe thead th {\n",
       "        text-align: right;\n",
       "    }\n",
       "</style>\n",
       "<table border=\"1\" class=\"dataframe\">\n",
       "  <thead>\n",
       "    <tr style=\"text-align: right;\">\n",
       "      <th></th>\n",
       "      <th>Date</th>\n",
       "      <th>text</th>\n",
       "      <th>target</th>\n",
       "    </tr>\n",
       "  </thead>\n",
       "  <tbody>\n",
       "    <tr>\n",
       "      <th>0</th>\n",
       "      <td>2021-02-08</td>\n",
       "      <td>@apqc half organizations workforce planning we...</td>\n",
       "      <td>1</td>\n",
       "    </tr>\n",
       "    <tr>\n",
       "      <th>1</th>\n",
       "      <td>2021-02-08</td>\n",
       "      <td>@danadonly annoying covid made drink wine w 5 ...</td>\n",
       "      <td>0</td>\n",
       "    </tr>\n",
       "    <tr>\n",
       "      <th>2</th>\n",
       "      <td>2021-02-08</td>\n",
       "      <td>@lisa_mcnally1 covid 19 messages sandwell's co...</td>\n",
       "      <td>0</td>\n",
       "    </tr>\n",
       "    <tr>\n",
       "      <th>3</th>\n",
       "      <td>2021-02-08</td>\n",
       "      <td>negative</td>\n",
       "      <td>1</td>\n",
       "    </tr>\n",
       "    <tr>\n",
       "      <th>4</th>\n",
       "      <td>2021-02-08</td>\n",
       "      <td>@mets citi field open mass covid vaccination s...</td>\n",
       "      <td>1</td>\n",
       "    </tr>\n",
       "  </tbody>\n",
       "</table>\n",
       "</div>"
      ],
      "text/plain": [
       "         Date                                               text  target\n",
       "0  2021-02-08  @apqc half organizations workforce planning we...       1\n",
       "1  2021-02-08  @danadonly annoying covid made drink wine w 5 ...       0\n",
       "2  2021-02-08  @lisa_mcnally1 covid 19 messages sandwell's co...       0\n",
       "3  2021-02-08                                           negative       1\n",
       "4  2021-02-08  @mets citi field open mass covid vaccination s...       1"
      ]
     },
     "execution_count": 120,
     "metadata": {
      "tags": []
     },
     "output_type": "execute_result"
    }
   ],
   "source": [
    "all_tweets['target']=all_tweets_pred\n",
    "all_tweets.head()"
   ]
  },
  {
   "cell_type": "code",
   "execution_count": null,
   "metadata": {
    "colab": {
     "base_uri": "https://localhost:8080/",
     "height": 419
    },
    "id": "VLpwFy7XFs0H",
    "outputId": "f1c5fdd9-e464-47a7-eb20-1e2269d8a9d6"
   },
   "outputs": [
    {
     "data": {
      "text/html": [
       "<div>\n",
       "<style scoped>\n",
       "    .dataframe tbody tr th:only-of-type {\n",
       "        vertical-align: middle;\n",
       "    }\n",
       "\n",
       "    .dataframe tbody tr th {\n",
       "        vertical-align: top;\n",
       "    }\n",
       "\n",
       "    .dataframe thead th {\n",
       "        text-align: right;\n",
       "    }\n",
       "</style>\n",
       "<table border=\"1\" class=\"dataframe\">\n",
       "  <thead>\n",
       "    <tr style=\"text-align: right;\">\n",
       "      <th></th>\n",
       "      <th>Date</th>\n",
       "      <th>text</th>\n",
       "      <th>target</th>\n",
       "    </tr>\n",
       "  </thead>\n",
       "  <tbody>\n",
       "    <tr>\n",
       "      <th>0</th>\n",
       "      <td>2021-02-08</td>\n",
       "      <td>@apqc half organizations workforce planning we...</td>\n",
       "      <td>1</td>\n",
       "    </tr>\n",
       "    <tr>\n",
       "      <th>3</th>\n",
       "      <td>2021-02-08</td>\n",
       "      <td>negative</td>\n",
       "      <td>1</td>\n",
       "    </tr>\n",
       "    <tr>\n",
       "      <th>4</th>\n",
       "      <td>2021-02-08</td>\n",
       "      <td>@mets citi field open mass covid vaccination s...</td>\n",
       "      <td>1</td>\n",
       "    </tr>\n",
       "    <tr>\n",
       "      <th>6</th>\n",
       "      <td>2021-02-08</td>\n",
       "      <td>@michele_norris moms carry burden opposite-sex...</td>\n",
       "      <td>1</td>\n",
       "    </tr>\n",
       "    <tr>\n",
       "      <th>7</th>\n",
       "      <td>2021-02-08</td>\n",
       "      <td>@kelliekelly23 south africa halt planned rollo...</td>\n",
       "      <td>1</td>\n",
       "    </tr>\n",
       "    <tr>\n",
       "      <th>...</th>\n",
       "      <td>...</td>\n",
       "      <td>...</td>\n",
       "      <td>...</td>\n",
       "    </tr>\n",
       "    <tr>\n",
       "      <th>151369</th>\n",
       "      <td>2021-02-13</td>\n",
       "      <td>@margostockdale ok put</td>\n",
       "      <td>1</td>\n",
       "    </tr>\n",
       "    <tr>\n",
       "      <th>151371</th>\n",
       "      <td>2021-02-13</td>\n",
       "      <td>@clarajeffery 1 catching mcconnell made clear ...</td>\n",
       "      <td>1</td>\n",
       "    </tr>\n",
       "    <tr>\n",
       "      <th>151372</th>\n",
       "      <td>2021-02-13</td>\n",
       "      <td>@chronus8 @talkradio @mikeparry8 listening lbc...</td>\n",
       "      <td>1</td>\n",
       "    </tr>\n",
       "    <tr>\n",
       "      <th>151376</th>\n",
       "      <td>2021-02-13</td>\n",
       "      <td>@therustler83 #foi returned 6 @nhsuk boards #s...</td>\n",
       "      <td>1</td>\n",
       "    </tr>\n",
       "    <tr>\n",
       "      <th>151378</th>\n",
       "      <td>2021-02-13</td>\n",
       "      <td>@diannemstewart i'm best day since covid force...</td>\n",
       "      <td>1</td>\n",
       "    </tr>\n",
       "  </tbody>\n",
       "</table>\n",
       "<p>99854 rows × 3 columns</p>\n",
       "</div>"
      ],
      "text/plain": [
       "              Date                                               text  target\n",
       "0       2021-02-08  @apqc half organizations workforce planning we...       1\n",
       "3       2021-02-08                                           negative       1\n",
       "4       2021-02-08  @mets citi field open mass covid vaccination s...       1\n",
       "6       2021-02-08  @michele_norris moms carry burden opposite-sex...       1\n",
       "7       2021-02-08  @kelliekelly23 south africa halt planned rollo...       1\n",
       "...            ...                                                ...     ...\n",
       "151369  2021-02-13                             @margostockdale ok put       1\n",
       "151371  2021-02-13  @clarajeffery 1 catching mcconnell made clear ...       1\n",
       "151372  2021-02-13  @chronus8 @talkradio @mikeparry8 listening lbc...       1\n",
       "151376  2021-02-13  @therustler83 #foi returned 6 @nhsuk boards #s...       1\n",
       "151378  2021-02-13  @diannemstewart i'm best day since covid force...       1\n",
       "\n",
       "[99854 rows x 3 columns]"
      ]
     },
     "execution_count": 121,
     "metadata": {
      "tags": []
     },
     "output_type": "execute_result"
    }
   ],
   "source": [
    "positive_collected= all_tweets[all_tweets['target']==1]\n",
    "positive_collected"
   ]
  },
  {
   "cell_type": "code",
   "execution_count": null,
   "metadata": {
    "id": "SXgd2shhT_oV"
   },
   "outputs": [],
   "source": [
    "pos_tweets_by_days=positive_collected.groupby(['Date'])['Date'].count()"
   ]
  },
  {
   "cell_type": "code",
   "execution_count": null,
   "metadata": {
    "colab": {
     "base_uri": "https://localhost:8080/",
     "height": 413
    },
    "id": "jBYhMig840C_",
    "outputId": "9315c7af-0c45-480b-f59d-750bb31efa21"
   },
   "outputs": [
    {
     "data": {
      "image/png": "[encoded data removed]",
      "text/plain": [
       "<Figure size 648x432 with 1 Axes>"
      ]
     },
     "metadata": {
      "tags": []
     },
     "output_type": "display_data"
    }
   ],
   "source": [
    "# Let's draw\n",
    "\n",
    "sns.set(color_codes=True)\n",
    "dx = pos_tweets_by_days.plot.line(figsize = (9,6), title = \"Number of positive tweets by day\")\n",
    "dx.set_xlabel('Date')\n",
    "dx.set_ylabel('Number of Tweets')\n",
    "dx.tick_params(axis='both', which='major', labelsize=13)\n",
    "\n"
   ]
  },
  {
   "cell_type": "code",
   "execution_count": null,
   "metadata": {
    "id": "CZ1QP7MFUL3y"
   },
   "outputs": [],
   "source": [
    "by_days = pd.concat([all_tweets_by_days, pos_tweets_by_days],axis=1)\n"
   ]
  },
  {
   "cell_type": "code",
   "execution_count": null,
   "metadata": {
    "colab": {
     "base_uri": "https://localhost:8080/",
     "height": 266
    },
    "id": "gW7EjJXEURm9",
    "outputId": "5357368b-0279-4439-8997-77a1e8cef7cd"
   },
   "outputs": [
    {
     "data": {
      "text/html": [
       "<div>\n",
       "<style scoped>\n",
       "    .dataframe tbody tr th:only-of-type {\n",
       "        vertical-align: middle;\n",
       "    }\n",
       "\n",
       "    .dataframe tbody tr th {\n",
       "        vertical-align: top;\n",
       "    }\n",
       "\n",
       "    .dataframe thead th {\n",
       "        text-align: right;\n",
       "    }\n",
       "</style>\n",
       "<table border=\"1\" class=\"dataframe\">\n",
       "  <thead>\n",
       "    <tr style=\"text-align: right;\">\n",
       "      <th></th>\n",
       "      <th>All tweets</th>\n",
       "      <th>Pos tweets</th>\n",
       "    </tr>\n",
       "    <tr>\n",
       "      <th>Date</th>\n",
       "      <th></th>\n",
       "      <th></th>\n",
       "    </tr>\n",
       "  </thead>\n",
       "  <tbody>\n",
       "    <tr>\n",
       "      <th>2021-02-08</th>\n",
       "      <td>26657</td>\n",
       "      <td>17287</td>\n",
       "    </tr>\n",
       "    <tr>\n",
       "      <th>2021-02-09</th>\n",
       "      <td>18135</td>\n",
       "      <td>11875</td>\n",
       "    </tr>\n",
       "    <tr>\n",
       "      <th>2021-02-10</th>\n",
       "      <td>19548</td>\n",
       "      <td>12833</td>\n",
       "    </tr>\n",
       "    <tr>\n",
       "      <th>2021-02-11</th>\n",
       "      <td>29416</td>\n",
       "      <td>19663</td>\n",
       "    </tr>\n",
       "    <tr>\n",
       "      <th>2021-02-12</th>\n",
       "      <td>27563</td>\n",
       "      <td>18007</td>\n",
       "    </tr>\n",
       "    <tr>\n",
       "      <th>2021-02-13</th>\n",
       "      <td>30061</td>\n",
       "      <td>20189</td>\n",
       "    </tr>\n",
       "  </tbody>\n",
       "</table>\n",
       "</div>"
      ],
      "text/plain": [
       "            All tweets  Pos tweets\n",
       "Date                              \n",
       "2021-02-08       26657       17287\n",
       "2021-02-09       18135       11875\n",
       "2021-02-10       19548       12833\n",
       "2021-02-11       29416       19663\n",
       "2021-02-12       27563       18007\n",
       "2021-02-13       30061       20189"
      ]
     },
     "execution_count": 125,
     "metadata": {
      "tags": []
     },
     "output_type": "execute_result"
    }
   ],
   "source": [
    "by_days.columns=['All tweets', 'Pos tweets']\n",
    "by_days"
   ]
  },
  {
   "cell_type": "markdown",
   "metadata": {
    "id": "4sCUsRbLkvHi"
   },
   "source": [
    "## google trends tweets"
   ]
  },
  {
   "cell_type": "code",
   "execution_count": null,
   "metadata": {
    "colab": {
     "base_uri": "https://localhost:8080/"
    },
    "id": "o_aM6LP-Uwz_",
    "outputId": "7013830d-488e-467e-f3ca-01f617f5636d"
   },
   "outputs": [
    {
     "name": "stdout",
     "output_type": "stream",
     "text": [
      "Collecting pytrends\n",
      "  Downloading https://files.pythonhosted.org/packages/96/53/a4a74c33bfdbe1740183e00769377352072e64182913562daf9f5e4f1938/pytrends-4.7.3-py3-none-any.whl\n",
      "Requirement already satisfied: requests in /usr/local/lib/python3.6/dist-packages (from pytrends) (2.23.0)\n",
      "Requirement already satisfied: pandas>=0.25 in /usr/local/lib/python3.6/dist-packages (from pytrends) (1.1.5)\n",
      "Requirement already satisfied: lxml in /usr/local/lib/python3.6/dist-packages (from pytrends) (4.2.6)\n",
      "Requirement already satisfied: chardet<4,>=3.0.2 in /usr/local/lib/python3.6/dist-packages (from requests->pytrends) (3.0.4)\n",
      "Requirement already satisfied: urllib3!=1.25.0,!=1.25.1,<1.26,>=1.21.1 in /usr/local/lib/python3.6/dist-packages (from requests->pytrends) (1.24.3)\n",
      "Requirement already satisfied: idna<3,>=2.5 in /usr/local/lib/python3.6/dist-packages (from requests->pytrends) (2.10)\n",
      "Requirement already satisfied: certifi>=2017.4.17 in /usr/local/lib/python3.6/dist-packages (from requests->pytrends) (2020.12.5)\n",
      "Requirement already satisfied: python-dateutil>=2.7.3 in /usr/local/lib/python3.6/dist-packages (from pandas>=0.25->pytrends) (2.8.1)\n",
      "Requirement already satisfied: pytz>=2017.2 in /usr/local/lib/python3.6/dist-packages (from pandas>=0.25->pytrends) (2018.9)\n",
      "Requirement already satisfied: numpy>=1.15.4 in /usr/local/lib/python3.6/dist-packages (from pandas>=0.25->pytrends) (1.19.5)\n",
      "Requirement already satisfied: six>=1.5 in /usr/local/lib/python3.6/dist-packages (from python-dateutil>=2.7.3->pandas>=0.25->pytrends) (1.15.0)\n",
      "Installing collected packages: pytrends\n",
      "Successfully installed pytrends-4.7.3\n"
     ]
    }
   ],
   "source": [
    "!pip install pytrends\n"
   ]
  },
  {
   "cell_type": "code",
   "execution_count": null,
   "metadata": {
    "colab": {
     "base_uri": "https://localhost:8080/"
    },
    "id": "uealtKG-U4WE",
    "outputId": "11773dee-19c8-4258-c2ee-435b76c64654"
   },
   "outputs": [
    {
     "name": "stdout",
     "output_type": "stream",
     "text": [
      "            covid  isPartial\n",
      "date                        \n",
      "2021-02-08     97      False\n",
      "2021-02-09     97      False\n",
      "2021-02-10     98      False\n",
      "2021-02-11     96      False\n",
      "2021-02-12    100      False\n",
      "2021-02-13     85      False\n"
     ]
    }
   ],
   "source": [
    "from pytrends.request import TrendReq\n",
    "pytrend = TrendReq()\n",
    "pytrend.build_payload(kw_list=['covid'], timeframe='2021-02-08 2021-02-13')\n",
    "interest_over_time_df = pytrend.interest_over_time()\n",
    "print(interest_over_time_df)\n",
    "\n"
   ]
  },
  {
   "cell_type": "code",
   "execution_count": null,
   "metadata": {
    "colab": {
     "base_uri": "https://localhost:8080/",
     "height": 443
    },
    "id": "cZ-7GUGud_CG",
    "outputId": "c774e70b-f9d3-451d-f79e-8caf1a4edcc8"
   },
   "outputs": [
    {
     "data": {
      "image/png": "[encoded data removed]",
      "text/plain": [
       "<Figure size 648x432 with 1 Axes>"
      ]
     },
     "metadata": {
      "tags": []
     },
     "output_type": "display_data"
    }
   ],
   "source": [
    "# Let's draw\n",
    "\n",
    "sns.set(color_codes=True)\n",
    "dx = interest_over_time_df.plot.line(figsize = (9,6), title = \"Google Trends Score Per Day\")\n",
    "dx.set_xlabel('Date')\n",
    "dx.set_ylabel('Google Trends Score')\n",
    "dx.tick_params(axis='both', which='major', labelsize=13)\n",
    "\n"
   ]
  },
  {
   "cell_type": "code",
   "execution_count": null,
   "metadata": {
    "colab": {
     "base_uri": "https://localhost:8080/",
     "height": 235
    },
    "id": "tstRA_jfebSI",
    "outputId": "344f0f46-9e7f-476d-a2da-cdc8fa2d306f"
   },
   "outputs": [
    {
     "data": {
      "text/html": [
       "<div>\n",
       "<style scoped>\n",
       "    .dataframe tbody tr th:only-of-type {\n",
       "        vertical-align: middle;\n",
       "    }\n",
       "\n",
       "    .dataframe tbody tr th {\n",
       "        vertical-align: top;\n",
       "    }\n",
       "\n",
       "    .dataframe thead th {\n",
       "        text-align: right;\n",
       "    }\n",
       "</style>\n",
       "<table border=\"1\" class=\"dataframe\">\n",
       "  <thead>\n",
       "    <tr style=\"text-align: right;\">\n",
       "      <th></th>\n",
       "      <th>All tweets</th>\n",
       "      <th>Pos tweets</th>\n",
       "      <th>covid</th>\n",
       "    </tr>\n",
       "  </thead>\n",
       "  <tbody>\n",
       "    <tr>\n",
       "      <th>2021-02-08</th>\n",
       "      <td>26657</td>\n",
       "      <td>17287</td>\n",
       "      <td>97</td>\n",
       "    </tr>\n",
       "    <tr>\n",
       "      <th>2021-02-09</th>\n",
       "      <td>18135</td>\n",
       "      <td>11875</td>\n",
       "      <td>97</td>\n",
       "    </tr>\n",
       "    <tr>\n",
       "      <th>2021-02-10</th>\n",
       "      <td>19548</td>\n",
       "      <td>12833</td>\n",
       "      <td>98</td>\n",
       "    </tr>\n",
       "    <tr>\n",
       "      <th>2021-02-11</th>\n",
       "      <td>29416</td>\n",
       "      <td>19663</td>\n",
       "      <td>96</td>\n",
       "    </tr>\n",
       "    <tr>\n",
       "      <th>2021-02-12</th>\n",
       "      <td>27563</td>\n",
       "      <td>18007</td>\n",
       "      <td>100</td>\n",
       "    </tr>\n",
       "    <tr>\n",
       "      <th>2021-02-13</th>\n",
       "      <td>30061</td>\n",
       "      <td>20189</td>\n",
       "      <td>85</td>\n",
       "    </tr>\n",
       "  </tbody>\n",
       "</table>\n",
       "</div>"
      ],
      "text/plain": [
       "            All tweets  Pos tweets  covid\n",
       "2021-02-08       26657       17287     97\n",
       "2021-02-09       18135       11875     97\n",
       "2021-02-10       19548       12833     98\n",
       "2021-02-11       29416       19663     96\n",
       "2021-02-12       27563       18007    100\n",
       "2021-02-13       30061       20189     85"
      ]
     },
     "execution_count": 130,
     "metadata": {
      "tags": []
     },
     "output_type": "execute_result"
    }
   ],
   "source": [
    "by_days = pd.concat([by_days, interest_over_time_df['covid']],axis=1)\n",
    "by_days"
   ]
  },
  {
   "cell_type": "code",
   "execution_count": null,
   "metadata": {
    "id": "GWa9BO8HipXc"
   },
   "outputs": [],
   "source": [
    "by_days.columns=['All tweets', 'Pos tweets','Google trends']\n"
   ]
  },
  {
   "cell_type": "code",
   "execution_count": null,
   "metadata": {
    "colab": {
     "base_uri": "https://localhost:8080/",
     "height": 375
    },
    "id": "D1GOW7jfUSr4",
    "outputId": "25322b55-0518-43b5-b3f1-5c77d687e9a4"
   },
   "outputs": [
    {
     "name": "stdout",
     "output_type": "stream",
     "text": [
      "               All tweets  Pos tweets  Google trends\n",
      "All tweets       1.000000    0.997877      -0.446932\n",
      "Pos tweets       0.997877    1.000000      -0.486672\n",
      "Google trends   -0.446932   -0.486672       1.000000\n"
     ]
    },
    {
     "data": {
      "text/plain": [
       "<matplotlib.axes._subplots.AxesSubplot at 0x7f94715a7828>"
      ]
     },
     "execution_count": 150,
     "metadata": {
      "tags": []
     },
     "output_type": "execute_result"
    },
    {
     "data": {
      "image/png": "[encoded data removed]",
      "text/plain": [
       "<Figure size 432x288 with 2 Axes>"
      ]
     },
     "metadata": {
      "tags": []
     },
     "output_type": "display_data"
    }
   ],
   "source": [
    "corr=by_days.corr(method='pearson')\n",
    "print(corr)\n",
    "# make pretty!!!!!\n",
    "import seaborn as sns\n",
    "sns.heatmap(corr, \n",
    "            xticklabels=corr.columns.values,\n",
    "            yticklabels=corr.columns.values,\n",
    "            annot=True,\n",
    "            fmt=\".5f\")"
   ]
  },
  {
   "cell_type": "code",
   "execution_count": null,
   "metadata": {
    "colab": {
     "base_uri": "https://localhost:8080/",
     "height": 235
    },
    "id": "sJruxhwjATbw",
    "outputId": "1b196948-4688-44f8-aa77-6ea64614ef33"
   },
   "outputs": [
    {
     "data": {
      "text/html": [
       "<div>\n",
       "<style scoped>\n",
       "    .dataframe tbody tr th:only-of-type {\n",
       "        vertical-align: middle;\n",
       "    }\n",
       "\n",
       "    .dataframe tbody tr th {\n",
       "        vertical-align: top;\n",
       "    }\n",
       "\n",
       "    .dataframe thead th {\n",
       "        text-align: right;\n",
       "    }\n",
       "</style>\n",
       "<table border=\"1\" class=\"dataframe\">\n",
       "  <thead>\n",
       "    <tr style=\"text-align: right;\">\n",
       "      <th></th>\n",
       "      <th>All tweets</th>\n",
       "      <th>Pos tweets</th>\n",
       "      <th>Google trends</th>\n",
       "    </tr>\n",
       "  </thead>\n",
       "  <tbody>\n",
       "    <tr>\n",
       "      <th>2021-02-08</th>\n",
       "      <td>95.718598</td>\n",
       "      <td>94.764253</td>\n",
       "      <td>97</td>\n",
       "    </tr>\n",
       "    <tr>\n",
       "      <th>2021-02-09</th>\n",
       "      <td>85.000000</td>\n",
       "      <td>85.000000</td>\n",
       "      <td>97</td>\n",
       "    </tr>\n",
       "    <tr>\n",
       "      <th>2021-02-10</th>\n",
       "      <td>86.777209</td>\n",
       "      <td>86.728410</td>\n",
       "      <td>98</td>\n",
       "    </tr>\n",
       "    <tr>\n",
       "      <th>2021-02-11</th>\n",
       "      <td>99.188747</td>\n",
       "      <td>99.050998</td>\n",
       "      <td>96</td>\n",
       "    </tr>\n",
       "    <tr>\n",
       "      <th>2021-02-12</th>\n",
       "      <td>96.858125</td>\n",
       "      <td>96.063267</td>\n",
       "      <td>100</td>\n",
       "    </tr>\n",
       "    <tr>\n",
       "      <th>2021-02-13</th>\n",
       "      <td>100.000000</td>\n",
       "      <td>100.000000</td>\n",
       "      <td>85</td>\n",
       "    </tr>\n",
       "  </tbody>\n",
       "</table>\n",
       "</div>"
      ],
      "text/plain": [
       "            All tweets  Pos tweets  Google trends\n",
       "2021-02-08   95.718598   94.764253             97\n",
       "2021-02-09   85.000000   85.000000             97\n",
       "2021-02-10   86.777209   86.728410             98\n",
       "2021-02-11   99.188747   99.050998             96\n",
       "2021-02-12   96.858125   96.063267            100\n",
       "2021-02-13  100.000000  100.000000             85"
      ]
     },
     "execution_count": 151,
     "metadata": {
      "tags": []
     },
     "output_type": "execute_result"
    }
   ],
   "source": [
    "#normilize- min max scaling . 90-100 ??????\n",
    "\n",
    "def min_max_scaling(col):\n",
    "  max_old= col.max()\n",
    "  min_old = col.min()\n",
    "  max_new=100\n",
    "  min_new=85\n",
    "  new_col=[]\n",
    "  for value in col:\n",
    "    curr=(max_new-min_new)/(max_old-min_old)\n",
    "    curr= curr* (value-max_old)\n",
    "    curr= curr+max_new\n",
    "    new_col.append(curr)\n",
    "  return new_col\n",
    "\n",
    "by_days['All tweets']= min_max_scaling(by_days['All tweets'])\n",
    "by_days['Pos tweets']= min_max_scaling(by_days['Pos tweets'])\n",
    "\n",
    "by_days"
   ]
  },
  {
   "cell_type": "code",
   "execution_count": null,
   "metadata": {
    "id": "2utp5UA7AaA1"
   },
   "outputs": [],
   "source": []
  },
  {
   "cell_type": "code",
   "execution_count": null,
   "metadata": {
    "colab": {
     "base_uri": "https://localhost:8080/",
     "height": 413
    },
    "id": "QZSybugzfRfG",
    "outputId": "37bb7b7f-91f9-478e-9bc7-d4ca3ab236fc"
   },
   "outputs": [
    {
     "data": {
      "image/png": "[encoded data removed]",
      "text/plain": [
       "<Figure size 648x432 with 1 Axes>"
      ]
     },
     "metadata": {
      "tags": []
     },
     "output_type": "display_data"
    }
   ],
   "source": [
    "sns.set(color_codes=True)\n",
    "dx = by_days.plot.line(figsize = (9,6), title = \"Values Per Day\")\n",
    "dx.set_xlabel('Date')\n",
    "dx.set_ylabel('Normalized Values')\n",
    "dx.tick_params(axis='both', which='major', labelsize=13)"
   ]
  },
  {
   "cell_type": "code",
   "execution_count": null,
   "metadata": {
    "id": "n6__UVQjAGxW"
   },
   "outputs": [],
   "source": []
  }
 ],
 "metadata": {
  "accelerator": "GPU",
  "colab": {
   "collapsed_sections": [],
   "name": "Hebetim_Revi&Or.ipynb",
   "provenance": [],
   "toc_visible": true
  },
  "kernelspec": {
   "display_name": "Python 3",
   "language": "python",
   "name": "python3"
  },
  "language_info": {
   "codemirror_mode": {
    "name": "ipython",
    "version": 3
   },
   "file_extension": ".py",
   "mimetype": "text/x-python",
   "name": "python",
   "nbconvert_exporter": "python",
   "pygments_lexer": "ipython3",
   "version": "3.8.2"
  }
 },
 "nbformat": 4,
 "nbformat_minor": 1
}
